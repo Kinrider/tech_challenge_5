{
 "cells": [
  {
   "cell_type": "markdown",
   "id": "3dad11a0",
   "metadata": {},
   "source": [
    "# 03_Treina_e_salva_modelo"
   ]
  },
  {
   "cell_type": "markdown",
   "id": "3b6db920",
   "metadata": {},
   "source": [
    "## 01_import_bibliotecas"
   ]
  },
  {
   "cell_type": "code",
   "execution_count": null,
   "id": "33ff4770",
   "metadata": {},
   "outputs": [],
   "source": [
    "import pandas as pd  \n",
    "import matplotlib.pyplot as plt  \n",
    "from sklearn.cluster import KMeans  \n",
    "from sklearn.metrics import silhouette_score  \n",
    "from IPython.display import display  "
   ]
  },
  {
   "cell_type": "markdown",
   "id": "9f9d77df",
   "metadata": {},
   "source": [
    "## 02_Carga_de_dados"
   ]
  },
  {
   "cell_type": "code",
   "execution_count": null,
   "id": "a515d041",
   "metadata": {},
   "outputs": [],
   "source": [
    "applicants = 'https://github.com/Kinrider/tech_challenge_5/raw/refs/heads/main/01_fontes/arquivos_decision/fontes_tratadas/01_candidatos.parquet'"
   ]
  },
  {
   "cell_type": "code",
   "execution_count": null,
   "id": "0941baf1",
   "metadata": {},
   "outputs": [],
   "source": [
    "df = pd.read_parquet(applicants)"
   ]
  },
  {
   "cell_type": "markdown",
   "id": "fe0edbd3",
   "metadata": {},
   "source": [
    "## 03_Treinando_modelo"
   ]
  },
  {
   "cell_type": "code",
   "execution_count": null,
   "id": "af8d54d5",
   "metadata": {},
   "outputs": [],
   "source": [
    "kmeans = KMeans(n_clusters=4, random_state=42, n_init=10)\n",
    "df['cluster'] = kmeans.fit_predict(df)"
   ]
  },
  {
   "cell_type": "code",
   "execution_count": null,
   "id": "ab7561c4",
   "metadata": {},
   "outputs": [],
   "source": [
    "# === 3. Salvar colunas utilizadas no input do modelo ===\n",
    "colunas_usadas = df.drop(columns=['cluster']).columns.tolist()"
   ]
  },
  {
   "cell_type": "code",
   "execution_count": null,
   "id": "f8040b9a",
   "metadata": {},
   "outputs": [],
   "source": [
    "# === 4. Definir diretório de saída ===\n",
    "caminho_saida = r\"C:\\Users\\pedro\\Documents\\Área de Trabalho\\tech_challenge_5\\03_modelos\"\n",
    "os.makedirs(caminho_saida, exist_ok=True)"
   ]
  },
  {
   "cell_type": "code",
   "execution_count": null,
   "id": "6cdc7350",
   "metadata": {},
   "outputs": [],
   "source": [
    "# === 5. Salvar arquivos ===\n",
    "joblib.dump(kmeans, os.path.join(caminho_saida, \"modelo_kmeans.joblib\"))\n",
    "joblib.dump(colunas_usadas, os.path.join(caminho_saida, \"colunas_usadas.joblib\"))\n",
    "df.to_parquet(os.path.join(caminho_saida, \"04_clusterizados.parquet\"), index=False)\n",
    "\n",
    "\n",
    "# Variáveis contínuas usadas no modelo\n",
    "variaveis_continuas = ['remuneracao_zscore', 'tempo_experiencia_anos', 'quantidade_experiencias']\n",
    "\n",
    "# Treinar o scaler\n",
    "scaler = StandardScaler()\n",
    "scaler.fit(df[variaveis_continuas])\n",
    "\n",
    "# Salvar o scaler\n",
    "joblib.dump(scaler,os.path.join(caminho_saida,\"scaler.joblib\"))\n",
    "\n",
    "print(\"✅ Modelo treinado e arquivos salvos em:\")\n",
    "print(caminho_saida)"
   ]
  }
 ],
 "metadata": {
  "language_info": {
   "name": "python"
  }
 },
 "nbformat": 4,
 "nbformat_minor": 5
}
