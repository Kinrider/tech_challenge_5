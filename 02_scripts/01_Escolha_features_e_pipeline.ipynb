{
 "cells": [
  {
   "cell_type": "markdown",
   "id": "fed83da4",
   "metadata": {},
   "source": [
    "# 01_Escolha_features_e_pipeline"
   ]
  },
  {
   "cell_type": "markdown",
   "id": "42a6e1f6",
   "metadata": {},
   "source": [
    "## 01_import_bibliotecas"
   ]
  },
  {
   "cell_type": "code",
   "execution_count": 1,
   "id": "56007818",
   "metadata": {},
   "outputs": [],
   "source": [
    "import pandas as pd\n",
    "from sklearn.feature_extraction.text import TfidfVectorizer\n",
    "from sklearn.preprocessing import OneHotEncoder\n",
    "from scipy.sparse import hstack\n",
    "import numpy as np\n",
    "import requests"
   ]
  },
  {
   "cell_type": "markdown",
   "id": "5c50ad3a",
   "metadata": {},
   "source": [
    "## 02_Carga_de_dados"
   ]
  },
  {
   "cell_type": "code",
   "execution_count": 4,
   "id": "942ca429",
   "metadata": {},
   "outputs": [],
   "source": [
    "candidatos = \"https://github.com/Kinrider/tech_challenge_5/raw/refs/heads/main/01_fontes/arquivos_decision/fontes_tratadas/candidatos.parquet\""
   ]
  },
  {
   "cell_type": "code",
   "execution_count": 5,
   "id": "c585beea",
   "metadata": {},
   "outputs": [],
   "source": [
    "# vagas\n",
    "response_candidatos = requests.get(candidatos)\n",
    "data_candidatos = response_vagas.content\n",
    "df_candidatos = pd.read_parquet(candidatos)"
   ]
  },
  {
   "cell_type": "markdown",
   "id": "77d1c850",
   "metadata": {},
   "source": [
    "## 03_seleção_e_tratamento_de_features"
   ]
  },
  {
   "cell_type": "code",
   "execution_count": 6,
   "id": "800e9d88",
   "metadata": {},
   "outputs": [],
   "source": [
    "\n",
    "# === Definir data de referência (hoje)\n",
    "hoje = pd.to_datetime(\"2025-07-15\")"
   ]
  },
  {
   "cell_type": "code",
   "execution_count": 7,
   "id": "74032371",
   "metadata": {},
   "outputs": [],
   "source": [
    "\n",
    "# === Converter colunas de data e calcular deltas\n",
    "df_candidatos[\"data_atualizacao\"] = pd.to_datetime(df_candidatos[\"data_atualizacao\"], errors='coerce')\n",
    "df_candidatos[\"data_criacao\"] = pd.to_datetime(df_candidatos[\"data_criacao\"], errors='coerce')\n"
   ]
  },
  {
   "cell_type": "code",
   "execution_count": 8,
   "id": "438bb2f0",
   "metadata": {},
   "outputs": [],
   "source": [
    "\n",
    "df_candidatos[\"dias_desde_atualizacao\"] = (hoje - df_candidatos[\"data_atualizacao\"]).dt.days\n",
    "df_candidatos[\"dias_ativo\"] = (hoje - df_candidatos[\"data_criacao\"]).dt.days\n"
   ]
  },
  {
   "cell_type": "code",
   "execution_count": 9,
   "id": "f26a4dec",
   "metadata": {},
   "outputs": [],
   "source": [
    "\n",
    "# === Criar colunas binárias\n",
    "df_candidatos[\"tem_outras_certificacoes\"] = df_candidatos[\"outras_certificacoes\"].notnull().astype(int)\n",
    "df_candidatos[\"tem_outro_idioma\"] = df_candidatos[\"outro_idioma\"].notnull().astype(int)\n"
   ]
  },
  {
   "cell_type": "code",
   "execution_count": 10,
   "id": "5afdef1d",
   "metadata": {},
   "outputs": [],
   "source": [
    "\n",
    "# === Preencher vazios com string vazia para TF-IDF\n",
    "df_candidatos[\"area_atuacao\"] = df_candidatos[\"area_atuacao\"].fillna(\"\")\n",
    "df_candidatos[\"certificacoes\"] = df_candidatos[\"certificacoes\"].fillna(\"\")\n"
   ]
  },
  {
   "cell_type": "code",
   "execution_count": 11,
   "id": "01c883c7",
   "metadata": {},
   "outputs": [],
   "source": [
    "\n",
    "# === TF-IDF para campos multivalorados separados por vírgula\n",
    "tfidf_area = TfidfVectorizer(tokenizer=lambda x: x.split(\",\"), lowercase=True)\n",
    "tfidf_cert = TfidfVectorizer(tokenizer=lambda x: x.split(\",\"), lowercase=True)\n"
   ]
  },
  {
   "cell_type": "code",
   "execution_count": 12,
   "id": "1df18b1a",
   "metadata": {},
   "outputs": [
    {
     "name": "stderr",
     "output_type": "stream",
     "text": [
      "c:\\Users\\pedro\\Documents\\Área de Trabalho\\tech_challenge_5\\.venv\\lib\\site-packages\\sklearn\\feature_extraction\\text.py:528: UserWarning: The parameter 'token_pattern' will not be used since 'tokenizer' is not None'\n",
      "  warnings.warn(\n"
     ]
    }
   ],
   "source": [
    "\n",
    "tfidf_area_matrix = tfidf_area.fit_transform(df_candidatos[\"area_atuacao\"])\n",
    "tfidf_cert_matrix = tfidf_cert.fit_transform(df_candidatos[\"certificacoes\"])\n"
   ]
  },
  {
   "cell_type": "code",
   "execution_count": 13,
   "id": "4e0be6cf",
   "metadata": {},
   "outputs": [
    {
     "name": "stderr",
     "output_type": "stream",
     "text": [
      "c:\\Users\\pedro\\Documents\\Área de Trabalho\\tech_challenge_5\\.venv\\lib\\site-packages\\sklearn\\preprocessing\\_encoders.py:868: FutureWarning: `sparse` was renamed to `sparse_output` in version 1.2 and will be removed in 1.4. `sparse_output` is ignored unless you leave `sparse` to its default value.\n",
      "  warnings.warn(\n"
     ]
    }
   ],
   "source": [
    "\n",
    "# === OneHot Encoding para níveis de idioma e formação\n",
    "encoder = OneHotEncoder(sparse=False, handle_unknown='ignore')\n",
    "onehot_matrix = encoder.fit_transform(df_candidatos[[\n",
    "    \"nivel_academico\", \"nivel_espanhol\", \"nivel_ingles\"\n",
    "]].fillna(\"\"))\n"
   ]
  },
  {
   "cell_type": "code",
   "execution_count": 14,
   "id": "ffbfeab2",
   "metadata": {},
   "outputs": [],
   "source": [
    "\n",
    "# === Combinar todas as variáveis em uma matriz final\n",
    "final_matrix = hstack([\n",
    "    tfidf_area_matrix,\n",
    "    tfidf_cert_matrix,\n",
    "    onehot_matrix,\n",
    "    np.array(df_candidatos[[\n",
    "        \"dias_desde_atualizacao\", \"dias_ativo\",\n",
    "        \"tem_outras_certificacoes\", \"tem_outro_idioma\"\n",
    "    ]])\n",
    "])\n"
   ]
  },
  {
   "cell_type": "code",
   "execution_count": 15,
   "id": "d09643d6",
   "metadata": {},
   "outputs": [],
   "source": [
    "\n",
    "# === Criar DataFrame final com nomes das colunas\n",
    "col_names = (\n",
    "    [f\"area_{feat}\" for feat in tfidf_area.get_feature_names_out()] +\n",
    "    [f\"cert_{feat}\" for feat in tfidf_cert.get_feature_names_out()] +\n",
    "    list(encoder.get_feature_names_out([\n",
    "        \"nivel_academico\", \"nivel_espanhol\", \"nivel_ingles\"\n",
    "    ])) +\n",
    "    [\"dias_desde_atualizacao\", \"dias_ativo\",\n",
    "     \"tem_outras_certificacoes\", \"tem_outro_idioma\"]\n",
    ")\n",
    "\n"
   ]
  },
  {
   "cell_type": "code",
   "execution_count": 20,
   "id": "e104706b",
   "metadata": {},
   "outputs": [],
   "source": [
    "df_cluster_input = pd.DataFrame(final_matrix.toarray(), columns=col_names)"
   ]
  },
  {
   "cell_type": "code",
   "execution_count": 21,
   "id": "194941a2",
   "metadata": {},
   "outputs": [
    {
     "data": {
      "application/vnd.microsoft.datawrangler.viewer.v0+json": {
       "columns": [
        {
         "name": "index",
         "rawType": "int64",
         "type": "integer"
        },
        {
         "name": "area_",
         "rawType": "float64",
         "type": "float"
        },
        {
         "name": "area_ comercial",
         "rawType": "float64",
         "type": "float"
        },
        {
         "name": "area_ financeira/controladoria",
         "rawType": "float64",
         "type": "float"
        },
        {
         "name": "area_ gestão e alocação de recursos de ti",
         "rawType": "float64",
         "type": "float"
        },
        {
         "name": "area_ jurídica",
         "rawType": "float64",
         "type": "float"
        },
        {
         "name": "area_ marketing",
         "rawType": "float64",
         "type": "float"
        },
        {
         "name": "area_ novos negócios e parcerias",
         "rawType": "float64",
         "type": "float"
        },
        {
         "name": "area_ qualidade corporativa",
         "rawType": "float64",
         "type": "float"
        },
        {
         "name": "area_ recursos humanos",
         "rawType": "float64",
         "type": "float"
        },
        {
         "name": "area_ relacionamento técnico",
         "rawType": "float64",
         "type": "float"
        },
        {
         "name": "area_ ti - arquitetura",
         "rawType": "float64",
         "type": "float"
        },
        {
         "name": "area_ ti - banco de dados",
         "rawType": "float64",
         "type": "float"
        },
        {
         "name": "area_ ti - desenvolvimento/design",
         "rawType": "float64",
         "type": "float"
        },
        {
         "name": "area_ ti - desenvolvimento/mobile",
         "rawType": "float64",
         "type": "float"
        },
        {
         "name": "area_ ti - desenvolvimento/programação",
         "rawType": "float64",
         "type": "float"
        },
        {
         "name": "area_ ti - governança",
         "rawType": "float64",
         "type": "float"
        },
        {
         "name": "area_ ti - infraestrutura",
         "rawType": "float64",
         "type": "float"
        },
        {
         "name": "area_ ti - processos e negócios",
         "rawType": "float64",
         "type": "float"
        },
        {
         "name": "area_ ti - projetos",
         "rawType": "float64",
         "type": "float"
        },
        {
         "name": "area_ ti - qualidade/testes",
         "rawType": "float64",
         "type": "float"
        },
        {
         "name": "area_ ti - sap",
         "rawType": "float64",
         "type": "float"
        },
        {
         "name": "area_ ti - segurança da informação",
         "rawType": "float64",
         "type": "float"
        },
        {
         "name": "area_ ti - sistemas e ferramentas",
         "rawType": "float64",
         "type": "float"
        },
        {
         "name": "area_ ti - suporte",
         "rawType": "float64",
         "type": "float"
        },
        {
         "name": "area_ ti - telecom",
         "rawType": "float64",
         "type": "float"
        },
        {
         "name": "area_ ti - ux",
         "rawType": "float64",
         "type": "float"
        },
        {
         "name": "area_administrativa",
         "rawType": "float64",
         "type": "float"
        },
        {
         "name": "area_comercial",
         "rawType": "float64",
         "type": "float"
        },
        {
         "name": "area_financeira/controladoria",
         "rawType": "float64",
         "type": "float"
        },
        {
         "name": "area_gestão e alocação de recursos de ti",
         "rawType": "float64",
         "type": "float"
        },
        {
         "name": "area_jurídica",
         "rawType": "float64",
         "type": "float"
        },
        {
         "name": "area_marketing",
         "rawType": "float64",
         "type": "float"
        },
        {
         "name": "area_novos negócios e parcerias",
         "rawType": "float64",
         "type": "float"
        },
        {
         "name": "area_qualidade corporativa",
         "rawType": "float64",
         "type": "float"
        },
        {
         "name": "area_recursos humanos",
         "rawType": "float64",
         "type": "float"
        },
        {
         "name": "area_relacionamento técnico",
         "rawType": "float64",
         "type": "float"
        },
        {
         "name": "area_ti - arquitetura",
         "rawType": "float64",
         "type": "float"
        },
        {
         "name": "area_ti - banco de dados",
         "rawType": "float64",
         "type": "float"
        },
        {
         "name": "area_ti - desenvolvimento/design",
         "rawType": "float64",
         "type": "float"
        },
        {
         "name": "area_ti - desenvolvimento/mobile",
         "rawType": "float64",
         "type": "float"
        },
        {
         "name": "area_ti - desenvolvimento/programação",
         "rawType": "float64",
         "type": "float"
        },
        {
         "name": "area_ti - governança",
         "rawType": "float64",
         "type": "float"
        },
        {
         "name": "area_ti - infraestrutura",
         "rawType": "float64",
         "type": "float"
        },
        {
         "name": "area_ti - processos e negócios",
         "rawType": "float64",
         "type": "float"
        },
        {
         "name": "area_ti - projetos",
         "rawType": "float64",
         "type": "float"
        },
        {
         "name": "area_ti - qualidade/testes",
         "rawType": "float64",
         "type": "float"
        },
        {
         "name": "area_ti - sap",
         "rawType": "float64",
         "type": "float"
        },
        {
         "name": "area_ti - segurança da informação",
         "rawType": "float64",
         "type": "float"
        },
        {
         "name": "area_ti - sistemas e ferramentas",
         "rawType": "float64",
         "type": "float"
        },
        {
         "name": "area_ti - suporte",
         "rawType": "float64",
         "type": "float"
        },
        {
         "name": "area_ti - telecom",
         "rawType": "float64",
         "type": "float"
        },
        {
         "name": "area_ti - ux",
         "rawType": "float64",
         "type": "float"
        },
        {
         "name": "cert_",
         "rawType": "float64",
         "type": "float"
        },
        {
         "name": "cert_ agile product lifecycle management 9 certified implementation specialist",
         "rawType": "float64",
         "type": "float"
        },
        {
         "name": "cert_ and maintaining a database administrative solution using mic",
         "rawType": "float64",
         "type": "float"
        },
        {
         "name": "cert_ application development",
         "rawType": "float64",
         "type": "float"
        },
        {
         "name": "cert_ borland product certification - bpc",
         "rawType": "float64",
         "type": "float"
        },
        {
         "name": "cert_ business intelligence development and maintenance",
         "rawType": "float64",
         "type": "float"
        },
        {
         "name": "cert_ checkpoint security administrator - ccsa ng",
         "rawType": "float64",
         "type": "float"
        },
        {
         "name": "cert_ checkpoint security expert ng - ccse ng",
         "rawType": "float64",
         "type": "float"
        },
        {
         "name": "cert_ cisco certified design associate - ccda",
         "rawType": "float64",
         "type": "float"
        },
        {
         "name": "cert_ cisco certified design professional - ccdp",
         "rawType": "float64",
         "type": "float"
        },
        {
         "name": "cert_ cisco certified entry networking technician - ccent",
         "rawType": "float64",
         "type": "float"
        },
        {
         "name": "cert_ cisco certified internetwork expert - ccie",
         "rawType": "float64",
         "type": "float"
        },
        {
         "name": "cert_ cisco certified network associate - ccna",
         "rawType": "float64",
         "type": "float"
        },
        {
         "name": "cert_ cisco certified network associate voice - ccna voice",
         "rawType": "float64",
         "type": "float"
        },
        {
         "name": "cert_ cisco certified network professional - ccnp",
         "rawType": "float64",
         "type": "float"
        },
        {
         "name": "cert_ cobit - governança de ti",
         "rawType": "float64",
         "type": "float"
        },
        {
         "name": "cert_ configurando",
         "rawType": "float64",
         "type": "float"
        },
        {
         "name": "cert_ configuration",
         "rawType": "float64",
         "type": "float"
        },
        {
         "name": "cert_ configuring",
         "rawType": "float64",
         "type": "float"
        },
        {
         "name": "cert_ database cloud administrator",
         "rawType": "float64",
         "type": "float"
        },
        {
         "name": "cert_ database development",
         "rawType": "float64",
         "type": "float"
        },
        {
         "name": "cert_ deploying",
         "rawType": "float64",
         "type": "float"
        },
        {
         "name": "cert_ desktop virtualization",
         "rawType": "float64",
         "type": "float"
        },
        {
         "name": "cert_ enterprise administrator",
         "rawType": "float64",
         "type": "float"
        },
        {
         "name": "cert_ enterprise desktop support technician",
         "rawType": "float64",
         "type": "float"
        },
        {
         "name": "cert_ enterprise edition 6 enterprise javabeans developer",
         "rawType": "float64",
         "type": "float"
        },
        {
         "name": "cert_ fujitsu m10 servers certified implementation specialist",
         "rawType": "float64",
         "type": "float"
        },
        {
         "name": "cert_ implementation and maintenance",
         "rawType": "float64",
         "type": "float"
        },
        {
         "name": "cert_ itil v2 - it infraestructure library",
         "rawType": "float64",
         "type": "float"
        },
        {
         "name": "cert_ itil v3 - it infraestructure library",
         "rawType": "float64",
         "type": "float"
        },
        {
         "name": "cert_ java ee 5 business component developer",
         "rawType": "float64",
         "type": "float"
        },
        {
         "name": "cert_ java ee 6 java persistence api developer",
         "rawType": "float64",
         "type": "float"
        },
        {
         "name": "cert_ java ee 6 javaserver faces developer",
         "rawType": "float64",
         "type": "float"
        },
        {
         "name": "cert_ java platform",
         "rawType": "float64",
         "type": "float"
        },
        {
         "name": "cert_ java se 5/se 6",
         "rawType": "float64",
         "type": "float"
        },
        {
         "name": "cert_ java se 6 developer",
         "rawType": "float64",
         "type": "float"
        },
        {
         "name": "cert_ java se 7 programmer",
         "rawType": "float64",
         "type": "float"
        },
        {
         "name": "cert_ jd edwards enterpriseone 9 configurable network computing certified implementation specialist",
         "rawType": "float64",
         "type": "float"
        },
        {
         "name": "cert_ jd edwards enterpriseone 9 financial management certified implementation specialist",
         "rawType": "float64",
         "type": "float"
        },
        {
         "name": "cert_ jd edwards enterpriseone 9 manufacturing certified implementation specialist",
         "rawType": "float64",
         "type": "float"
        },
        {
         "name": "cert_ jd edwards enterpriseone 9 projects certified implementation specialist",
         "rawType": "float64",
         "type": "float"
        },
        {
         "name": "cert_ linux administrator level i - lpic i",
         "rawType": "float64",
         "type": "float"
        },
        {
         "name": "cert_ linux administrator level ii - lpic ii",
         "rawType": "float64",
         "type": "float"
        },
        {
         "name": "cert_ linux administrator level iii - lpic iii",
         "rawType": "float64",
         "type": "float"
        },
        {
         "name": "cert_ m2m platform certified architecture  specialist",
         "rawType": "float64",
         "type": "float"
        },
        {
         "name": "cert_ ms [70-158] mcts: forefront identity manager 2010",
         "rawType": "float64",
         "type": "float"
        },
        {
         "name": "cert_ ms [70-177] microsoft project server 2010",
         "rawType": "float64",
         "type": "float"
        },
        {
         "name": "cert_ ms [70-178] managing projects with microsoft project 2010",
         "rawType": "float64",
         "type": "float"
        },
        {
         "name": "cert_ ms [70-243] administering and deploying system center 2012 configuration manager",
         "rawType": "float64",
         "type": "float"
        },
        {
         "name": "cert_ ms [70-246] monitoring and operating a private cloud with system center 2012",
         "rawType": "float64",
         "type": "float"
        },
        {
         "name": "cert_ ms [70-247] configuring and deploying a private cloud with system center 2012",
         "rawType": "float64",
         "type": "float"
        },
        {
         "name": "cert_ ms [70-290] managing and maintaining a windows server 2003 environment",
         "rawType": "float64",
         "type": "float"
        },
        {
         "name": "cert_ ms [70-331] core solutions of microsoft sharepoint server 2013",
         "rawType": "float64",
         "type": "float"
        },
        {
         "name": "cert_ ms [70-332] advanced solutions of microsoft sharepoint server 2013",
         "rawType": "float64",
         "type": "float"
        },
        {
         "name": "cert_ ms [70-336] core solutions of microsoft lync server 2013",
         "rawType": "float64",
         "type": "float"
        },
        {
         "name": "cert_ ms [70-341] core solutions of microsoft exchange server 2013",
         "rawType": "float64",
         "type": "float"
        },
        {
         "name": "cert_ ms [70-342] advanced solutions of microsoft exchange server 2013",
         "rawType": "float64",
         "type": "float"
        },
        {
         "name": "cert_ ms [70-346] managing office 365 identities and requirements",
         "rawType": "float64",
         "type": "float"
        },
        {
         "name": "cert_ ms [70-347] habilitar serviços do office 365",
         "rawType": "float64",
         "type": "float"
        },
        {
         "name": "cert_ ms [70-410] installing and configuring windows server 2012",
         "rawType": "float64",
         "type": "float"
        },
        {
         "name": "cert_ ms [70-411] administering windows server 2012",
         "rawType": "float64",
         "type": "float"
        },
        {
         "name": "cert_ ms [70-412] configuring advanced windows server 2012 services",
         "rawType": "float64",
         "type": "float"
        },
        {
         "name": "cert_ ms [70-413] designing and implementing a server infrastructure",
         "rawType": "float64",
         "type": "float"
        },
        {
         "name": "cert_ ms [70-414] implementing an advanced server infrastructure",
         "rawType": "float64",
         "type": "float"
        },
        {
         "name": "cert_ ms [70-415] implementing a desktop infrastructure",
         "rawType": "float64",
         "type": "float"
        },
        {
         "name": "cert_ ms [70-416] implementing desktop application environments",
         "rawType": "float64",
         "type": "float"
        },
        {
         "name": "cert_ ms [70-431] microsoft sql server 2005 – implementation and maintenance",
         "rawType": "float64",
         "type": "float"
        },
        {
         "name": "cert_ ms [70-432] microsoft sql server 2008",
         "rawType": "float64",
         "type": "float"
        },
        {
         "name": "cert_ ms [70-433] mcts: microsoft sql server 2008",
         "rawType": "float64",
         "type": "float"
        },
        {
         "name": "cert_ ms [70-448] mcts: microsoft sql server 2008",
         "rawType": "float64",
         "type": "float"
        },
        {
         "name": "cert_ ms [70-451] pro: designing database solutions and data access using microsoft sql server 2008",
         "rawType": "float64",
         "type": "float"
        },
        {
         "name": "cert_ ms [70-461] querying microsoft sql server 2012",
         "rawType": "float64",
         "type": "float"
        },
        {
         "name": "cert_ ms [70-462] administering microsoft sql server 2012 databases",
         "rawType": "float64",
         "type": "float"
        },
        {
         "name": "cert_ ms [70-463] implementing a data warehouse with microsoft sql server 2012",
         "rawType": "float64",
         "type": "float"
        },
        {
         "name": "cert_ ms [70-465] designing database solutions for sql server 2012",
         "rawType": "float64",
         "type": "float"
        },
        {
         "name": "cert_ ms [70-466] implementing data models and reports with microsoft sql server 2012",
         "rawType": "float64",
         "type": "float"
        },
        {
         "name": "cert_ ms [70-480] programming in html5 with javascript and css3",
         "rawType": "float64",
         "type": "float"
        },
        {
         "name": "cert_ ms [70-483] programming in c#",
         "rawType": "float64",
         "type": "float"
        },
        {
         "name": "cert_ ms [70-486] developing asp.net mvc 4 web applications",
         "rawType": "float64",
         "type": "float"
        },
        {
         "name": "cert_ ms [70-488] developing microsoft sharepoint server 2013 core solutions",
         "rawType": "float64",
         "type": "float"
        },
        {
         "name": "cert_ ms [70-496] administering microsoft visual studio team foundation server 2012",
         "rawType": "float64",
         "type": "float"
        },
        {
         "name": "cert_ ms [70-573] mcts: microsoft sharepoint 2010",
         "rawType": "float64",
         "type": "float"
        },
        {
         "name": "cert_ ms [70-576] pro: designing and developing microsoft sharepoint 2010 applications",
         "rawType": "float64",
         "type": "float"
        },
        {
         "name": "cert_ ms [70-582] mcts: microsoft windows embedded standard 7",
         "rawType": "float64",
         "type": "float"
        },
        {
         "name": "cert_ ms [70-640] mcitp: enterprise administrator on windows server 2008",
         "rawType": "float64",
         "type": "float"
        },
        {
         "name": "cert_ ms [70-640] windows server 2008 active directory",
         "rawType": "float64",
         "type": "float"
        },
        {
         "name": "cert_ ms [70-642] windows server 2008 network infrastructure",
         "rawType": "float64",
         "type": "float"
        },
        {
         "name": "cert_ ms [70-643] ts: windows server 2008 applications infrastructure",
         "rawType": "float64",
         "type": "float"
        },
        {
         "name": "cert_ ms [70-646] windows server 2008",
         "rawType": "float64",
         "type": "float"
        },
        {
         "name": "cert_ ms [70-647] pro: windows server 2008",
         "rawType": "float64",
         "type": "float"
        },
        {
         "name": "cert_ ms [70-659] ts: windows server 2008 r2",
         "rawType": "float64",
         "type": "float"
        },
        {
         "name": "cert_ ms [70-662] mcts: microsoft exchange server 2010",
         "rawType": "float64",
         "type": "float"
        },
        {
         "name": "cert_ ms [70-669] ts: windows server 2008 r2",
         "rawType": "float64",
         "type": "float"
        },
        {
         "name": "cert_ ms [70-680] windows 7",
         "rawType": "float64",
         "type": "float"
        },
        {
         "name": "cert_ ms [70-681] windows 7 and office 2010",
         "rawType": "float64",
         "type": "float"
        },
        {
         "name": "cert_ ms [70-685] mcitp: enterprise desktop support technician on windows 7",
         "rawType": "float64",
         "type": "float"
        },
        {
         "name": "cert_ ms [70-685] windows 7",
         "rawType": "float64",
         "type": "float"
        },
        {
         "name": "cert_ ms [70-686] mcitp: enterprise desktop administrator on windows 7",
         "rawType": "float64",
         "type": "float"
        },
        {
         "name": "cert_ ms [70-687] configuring windows 8.1",
         "rawType": "float64",
         "type": "float"
        },
        {
         "name": "cert_ ms [70-688] suporte ao windows 8.1",
         "rawType": "float64",
         "type": "float"
        },
        {
         "name": "cert_ ms [70-693] pro: windows server 2008 r2",
         "rawType": "float64",
         "type": "float"
        },
        {
         "name": "cert_ ms [74-409] server virtualization with windows server hyper-v and system center",
         "rawType": "float64",
         "type": "float"
        },
        {
         "name": "cert_ ms [77-418] mos: microsoft office word 2013",
         "rawType": "float64",
         "type": "float"
        },
        {
         "name": "cert_ ms [77-419] mos: microsoft sharepoint 2013",
         "rawType": "float64",
         "type": "float"
        },
        {
         "name": "cert_ ms [77-420] mos: microsoft office excel 2013",
         "rawType": "float64",
         "type": "float"
        },
        {
         "name": "cert_ ms [77-421] mos: microsoft office onenote 2013",
         "rawType": "float64",
         "type": "float"
        },
        {
         "name": "cert_ ms [77-422] mos: microsoft office powerpoint 2013",
         "rawType": "float64",
         "type": "float"
        },
        {
         "name": "cert_ ms [77-423] mos: microsoft office outlook 2013",
         "rawType": "float64",
         "type": "float"
        },
        {
         "name": "cert_ ms [77-424] mos: microsoft office access 2013",
         "rawType": "float64",
         "type": "float"
        },
        {
         "name": "cert_ ms [77-425] mos: microsoft office word 2013 expert",
         "rawType": "float64",
         "type": "float"
        },
        {
         "name": "cert_ ms [77-426] word 2013 expert part two",
         "rawType": "float64",
         "type": "float"
        },
        {
         "name": "cert_ ms [77-427] mos: microsoft office excel 2013 expert",
         "rawType": "float64",
         "type": "float"
        },
        {
         "name": "cert_ ms [77-428] excel 2013 perito parte dois",
         "rawType": "float64",
         "type": "float"
        },
        {
         "name": "cert_ ms [98-249] windows operating system fundamentals",
         "rawType": "float64",
         "type": "float"
        },
        {
         "name": "cert_ ms [98-361] visual studio software development fundamentals",
         "rawType": "float64",
         "type": "float"
        },
        {
         "name": "cert_ ms [98-362] visual studio windows development fundamentals",
         "rawType": "float64",
         "type": "float"
        },
        {
         "name": "cert_ ms [98-363] visual studio web development fundamentals",
         "rawType": "float64",
         "type": "float"
        },
        {
         "name": "cert_ ms [98-364] database fundamentals",
         "rawType": "float64",
         "type": "float"
        },
        {
         "name": "cert_ ms [98-365] windows server administration fundamentals",
         "rawType": "float64",
         "type": "float"
        },
        {
         "name": "cert_ ms [98-366] networking fundamentals",
         "rawType": "float64",
         "type": "float"
        },
        {
         "name": "cert_ ms [98-367] security fundamentals",
         "rawType": "float64",
         "type": "float"
        },
        {
         "name": "cert_ ms [98-372] visual studio .net fundamentals",
         "rawType": "float64",
         "type": "float"
        },
        {
         "name": "cert_ ms [98-373] mobile development fundamentals",
         "rawType": "float64",
         "type": "float"
        },
        {
         "name": "cert_ ms [98-379] fundamentos de teste de software",
         "rawType": "float64",
         "type": "float"
        },
        {
         "name": "cert_ mysql ab - mysql core certification",
         "rawType": "float64",
         "type": "float"
        },
        {
         "name": "cert_ novell cne - certified novel engineer",
         "rawType": "float64",
         "type": "float"
        },
        {
         "name": "cert_ optimizing",
         "rawType": "float64",
         "type": "float"
        },
        {
         "name": "cert_ oracle access management suite plus 11g certified implementation specialist",
         "rawType": "float64",
         "type": "float"
        },
        {
         "name": "cert_ oracle advanced pl/sql developer certified professional",
         "rawType": "float64",
         "type": "float"
        },
        {
         "name": "cert_ oracle application development framework 11g certified implementation specialist",
         "rawType": "float64",
         "type": "float"
        },
        {
         "name": "cert_ oracle application development framework 12c certified implementation specialist",
         "rawType": "float64",
         "type": "float"
        },
        {
         "name": "cert_ oracle application expresss developer certified expert",
         "rawType": "float64",
         "type": "float"
        },
        {
         "name": "cert_ oracle application integration architecture 11g certified implementation specialist",
         "rawType": "float64",
         "type": "float"
        },
        {
         "name": "cert_ oracle business intelligence foundation suite 11g certified implementation specialist",
         "rawType": "float64",
         "type": "float"
        },
        {
         "name": "cert_ oracle certified associate",
         "rawType": "float64",
         "type": "float"
        },
        {
         "name": "cert_ oracle certified expert",
         "rawType": "float64",
         "type": "float"
        },
        {
         "name": "cert_ oracle certified professional",
         "rawType": "float64",
         "type": "float"
        },
        {
         "name": "cert_ oracle cloud application foundation certified implementation specialist",
         "rawType": "float64",
         "type": "float"
        },
        {
         "name": "cert_ oracle database 10g: managing oracle on linux certified expert",
         "rawType": "float64",
         "type": "float"
        },
        {
         "name": "cert_ oracle database 10gadministrator certified associate",
         "rawType": "float64",
         "type": "float"
        },
        {
         "name": "cert_ oracle database 11g administrator certified associate",
         "rawType": "float64",
         "type": "float"
        },
        {
         "name": "cert_ oracle database 11g administrator certified professional",
         "rawType": "float64",
         "type": "float"
        },
        {
         "name": "cert_ oracle database 11g release 2 sql tuning",
         "rawType": "float64",
         "type": "float"
        },
        {
         "name": "cert_ oracle database 12c administrator certified professional",
         "rawType": "float64",
         "type": "float"
        },
        {
         "name": "cert_ oracle database 12cadministrator certified associate",
         "rawType": "float64",
         "type": "float"
        },
        {
         "name": "cert_ oracle database 9iadministrator certified professional",
         "rawType": "float64",
         "type": "float"
        },
        {
         "name": "cert_ oracle database: sql certified expert",
         "rawType": "float64",
         "type": "float"
        },
        {
         "name": "cert_ oracle enterprise manager 12c certified implementation specialist",
         "rawType": "float64",
         "type": "float"
        },
        {
         "name": "cert_ oracle exadata database machine 2014 certified implementation specialist",
         "rawType": "float64",
         "type": "float"
        },
        {
         "name": "cert_ oracle exadata x3 administration",
         "rawType": "float64",
         "type": "float"
        },
        {
         "name": "cert_ oracle fusion financials 11g accounts payable certified implementation specialist",
         "rawType": "float64",
         "type": "float"
        },
        {
         "name": "cert_ oracle fusion financials 11g accounts receivable certified implementation specialist",
         "rawType": "float64",
         "type": "float"
        },
        {
         "name": "cert_ oracle fusion financials: accounts payable 2014 certified implementation specialist",
         "rawType": "float64",
         "type": "float"
        },
        {
         "name": "cert_ oracle fusion middleware 11gforms developer",
         "rawType": "float64",
         "type": "float"
        },
        {
         "name": "cert_ oracle it architecture soa 2013 certified architecture specialist",
         "rawType": "float64",
         "type": "float"
        },
        {
         "name": "cert_ oracle pl/sql developer certified associate",
         "rawType": "float64",
         "type": "float"
        },
        {
         "name": "cert_ oracle policy automation 10 certified implementation specialist",
         "rawType": "float64",
         "type": "float"
        },
        {
         "name": "cert_ oracle solaris 10 operating system",
         "rawType": "float64",
         "type": "float"
        },
        {
         "name": "cert_ oracle solaris 10 system administrator",
         "rawType": "float64",
         "type": "float"
        },
        {
         "name": "cert_ oracle solaris 11 system administrator",
         "rawType": "float64",
         "type": "float"
        },
        {
         "name": "cert_ oracle solaris cluster 3.2 system administrator",
         "rawType": "float64",
         "type": "float"
        },
        {
         "name": "cert_ peoplesoft human resources 9 consultant certified expert",
         "rawType": "float64",
         "type": "float"
        },
        {
         "name": "cert_ pmp - project management professional",
         "rawType": "float64",
         "type": "float"
        },
        {
         "name": "cert_ primavera portfolio management certified implementation specialist",
         "rawType": "float64",
         "type": "float"
        },
        {
         "name": "cert_ project lifecycle management certified implementation specialist",
         "rawType": "float64",
         "type": "float"
        },
        {
         "name": "cert_ rational - rup-rational unified process",
         "rawType": "float64",
         "type": "float"
        },
        {
         "name": "cert_ sab abap",
         "rawType": "float64",
         "type": "float"
        },
        {
         "name": "cert_ sap abap foundaition",
         "rawType": "float64",
         "type": "float"
        },
        {
         "name": "cert_ sap all-in-one",
         "rawType": "float64",
         "type": "float"
        },
        {
         "name": "cert_ sap basis",
         "rawType": "float64",
         "type": "float"
        },
        {
         "name": "cert_ sap business one",
         "rawType": "float64",
         "type": "float"
        },
        {
         "name": "cert_ sap bw - bi/sap netweaver",
         "rawType": "float64",
         "type": "float"
        },
        {
         "name": "cert_ sap ccs",
         "rawType": "float64",
         "type": "float"
        },
        {
         "name": "cert_ sap cfm",
         "rawType": "float64",
         "type": "float"
        },
        {
         "name": "cert_ sap co",
         "rawType": "float64",
         "type": "float"
        },
        {
         "name": "cert_ sap crm",
         "rawType": "float64",
         "type": "float"
        },
        {
         "name": "cert_ sap fi",
         "rawType": "float64",
         "type": "float"
        },
        {
         "name": "cert_ sap fi /aa",
         "rawType": "float64",
         "type": "float"
        },
        {
         "name": "cert_ sap fi/co",
         "rawType": "float64",
         "type": "float"
        },
        {
         "name": "cert_ sap foundations",
         "rawType": "float64",
         "type": "float"
        },
        {
         "name": "cert_ sap hana",
         "rawType": "float64",
         "type": "float"
        },
        {
         "name": "cert_ sap mm",
         "rawType": "float64",
         "type": "float"
        },
        {
         "name": "cert_ sap netweaver",
         "rawType": "float64",
         "type": "float"
        },
        {
         "name": "cert_ sap pm",
         "rawType": "float64",
         "type": "float"
        },
        {
         "name": "cert_ sap pmo",
         "rawType": "float64",
         "type": "float"
        },
        {
         "name": "cert_ sap pp",
         "rawType": "float64",
         "type": "float"
        },
        {
         "name": "cert_ sap ps",
         "rawType": "float64",
         "type": "float"
        },
        {
         "name": "cert_ sap qm",
         "rawType": "float64",
         "type": "float"
        },
        {
         "name": "cert_ sap sd",
         "rawType": "float64",
         "type": "float"
        },
        {
         "name": "cert_ sap sem",
         "rawType": "float64",
         "type": "float"
        },
        {
         "name": "cert_ sap solution manager",
         "rawType": "float64",
         "type": "float"
        },
        {
         "name": "cert_ sap soluções sap businessobjects",
         "rawType": "float64",
         "type": "float"
        },
        {
         "name": "cert_ sap srm",
         "rawType": "float64",
         "type": "float"
        },
        {
         "name": "cert_ sap tm",
         "rawType": "float64",
         "type": "float"
        },
        {
         "name": "cert_ sap wm",
         "rawType": "float64",
         "type": "float"
        },
        {
         "name": "cert_ sap workflow",
         "rawType": "float64",
         "type": "float"
        },
        {
         "name": "cert_ sap x/pi",
         "rawType": "float64",
         "type": "float"
        },
        {
         "name": "cert_ sap xi",
         "rawType": "float64",
         "type": "float"
        },
        {
         "name": "cert_ server administrator",
         "rawType": "float64",
         "type": "float"
        },
        {
         "name": "cert_ server virtualization",
         "rawType": "float64",
         "type": "float"
        },
        {
         "name": "cert_ siebel - dw developer",
         "rawType": "float64",
         "type": "float"
        },
        {
         "name": "cert_ sparc m6-32 and sparc m5-32 server certified implementation specialist",
         "rawType": "float64",
         "type": "float"
        },
        {
         "name": "cert_ sun storage 7000 unified storage systems certified implementation specialist",
         "rawType": "float64",
         "type": "float"
        },
        {
         "name": "cert_ virtualization administrator",
         "rawType": "float64",
         "type": "float"
        },
        {
         "name": "cert_ web applications development",
         "rawType": "float64",
         "type": "float"
        },
        {
         "name": "cert_ windows applications development",
         "rawType": "float64",
         "type": "float"
        },
        {
         "name": "cert_agile product lifecycle management 9 certified implementation specialist",
         "rawType": "float64",
         "type": "float"
        },
        {
         "name": "cert_borland product certification - bpc",
         "rawType": "float64",
         "type": "float"
        },
        {
         "name": "cert_checkpoint security administrator - ccsa ng",
         "rawType": "float64",
         "type": "float"
        },
        {
         "name": "cert_checkpoint security expert ng - ccse ng",
         "rawType": "float64",
         "type": "float"
        },
        {
         "name": "cert_cisco certified design associate - ccda",
         "rawType": "float64",
         "type": "float"
        },
        {
         "name": "cert_cisco certified design professional - ccdp",
         "rawType": "float64",
         "type": "float"
        },
        {
         "name": "cert_cisco certified network associate - ccna",
         "rawType": "float64",
         "type": "float"
        },
        {
         "name": "cert_cisco certified network associate voice - ccna voice",
         "rawType": "float64",
         "type": "float"
        },
        {
         "name": "cert_cisco certified network professional - ccnp",
         "rawType": "float64",
         "type": "float"
        },
        {
         "name": "cert_citrix certified administrator - cca",
         "rawType": "float64",
         "type": "float"
        },
        {
         "name": "cert_cobit - governança de ti",
         "rawType": "float64",
         "type": "float"
        },
        {
         "name": "cert_itil v2 - it infraestructure library",
         "rawType": "float64",
         "type": "float"
        },
        {
         "name": "cert_itil v3 - it infraestructure library",
         "rawType": "float64",
         "type": "float"
        },
        {
         "name": "cert_jd edwards enterpriseone 9 distribution certified implementation specialist",
         "rawType": "float64",
         "type": "float"
        },
        {
         "name": "cert_jd edwards enterpriseone 9 manufacturing certified implementation specialist",
         "rawType": "float64",
         "type": "float"
        },
        {
         "name": "cert_linux administrator level i - lpic i",
         "rawType": "float64",
         "type": "float"
        },
        {
         "name": "cert_linux administrator level iii - lpic iii",
         "rawType": "float64",
         "type": "float"
        },
        {
         "name": "cert_m2m platform certified architecture  specialist",
         "rawType": "float64",
         "type": "float"
        },
        {
         "name": "cert_ms [70-158] mcts: forefront identity manager 2010",
         "rawType": "float64",
         "type": "float"
        },
        {
         "name": "cert_ms [70-177] microsoft project server 2010",
         "rawType": "float64",
         "type": "float"
        },
        {
         "name": "cert_ms [70-243] administering and deploying system center 2012 configuration manager",
         "rawType": "float64",
         "type": "float"
        },
        {
         "name": "cert_ms [70-290] managing and maintaining a windows server 2003 environment",
         "rawType": "float64",
         "type": "float"
        },
        {
         "name": "cert_ms [70-410] installing and configuring windows server 2012",
         "rawType": "float64",
         "type": "float"
        },
        {
         "name": "cert_ms [70-411] administering windows server 2012",
         "rawType": "float64",
         "type": "float"
        },
        {
         "name": "cert_ms [70-431] microsoft sql server 2005 – implementation and maintenance",
         "rawType": "float64",
         "type": "float"
        },
        {
         "name": "cert_ms [70-433] mcts: microsoft sql server 2008",
         "rawType": "float64",
         "type": "float"
        },
        {
         "name": "cert_ms [70-433] s: microsoft sql server 2008",
         "rawType": "float64",
         "type": "float"
        },
        {
         "name": "cert_ms [70-448] mcts: microsoft sql server 2008",
         "rawType": "float64",
         "type": "float"
        },
        {
         "name": "cert_ms [70-450] pro: designing",
         "rawType": "float64",
         "type": "float"
        },
        {
         "name": "cert_ms [70-461] querying microsoft sql server 2012",
         "rawType": "float64",
         "type": "float"
        },
        {
         "name": "cert_ms [70-462] administering microsoft sql server 2012 databases",
         "rawType": "float64",
         "type": "float"
        },
        {
         "name": "cert_ms [70-480] programming in html5 with javascript and css3",
         "rawType": "float64",
         "type": "float"
        },
        {
         "name": "cert_ms [70-483] programming in c#",
         "rawType": "float64",
         "type": "float"
        },
        {
         "name": "cert_ms [70-485] advanced windows store app development using c#",
         "rawType": "float64",
         "type": "float"
        },
        {
         "name": "cert_ms [70-511] mcts: microsoft .net framework 4",
         "rawType": "float64",
         "type": "float"
        },
        {
         "name": "cert_ms [70-515] mcts: microsoft .net framework 4",
         "rawType": "float64",
         "type": "float"
        },
        {
         "name": "cert_ms [70-576] pro: designing and developing microsoft sharepoint 2010 applications",
         "rawType": "float64",
         "type": "float"
        },
        {
         "name": "cert_ms [70-640] windows server 2008 active directory",
         "rawType": "float64",
         "type": "float"
        },
        {
         "name": "cert_ms [70-642] windows server 2008 network infrastructure",
         "rawType": "float64",
         "type": "float"
        },
        {
         "name": "cert_ms [70-646] windows server 2008",
         "rawType": "float64",
         "type": "float"
        },
        {
         "name": "cert_ms [70-667] mcts: microsoft sharepoint 2010",
         "rawType": "float64",
         "type": "float"
        },
        {
         "name": "cert_ms [70-680] windows 7",
         "rawType": "float64",
         "type": "float"
        },
        {
         "name": "cert_ms [70-681] windows 7 and office 2010",
         "rawType": "float64",
         "type": "float"
        },
        {
         "name": "cert_ms [70-685] mcitp: enterprise desktop support technician on windows 7",
         "rawType": "float64",
         "type": "float"
        },
        {
         "name": "cert_ms [70-693] pro: windows server 2008 r2",
         "rawType": "float64",
         "type": "float"
        },
        {
         "name": "cert_ms [77-418] mos: microsoft office word 2013",
         "rawType": "float64",
         "type": "float"
        },
        {
         "name": "cert_ms [77-420] mos: microsoft office excel 2013",
         "rawType": "float64",
         "type": "float"
        },
        {
         "name": "cert_ms [77-421] mos: microsoft office onenote 2013",
         "rawType": "float64",
         "type": "float"
        },
        {
         "name": "cert_ms [77-422] mos: microsoft office powerpoint 2013",
         "rawType": "float64",
         "type": "float"
        },
        {
         "name": "cert_ms [77-423] mos: microsoft office outlook 2013",
         "rawType": "float64",
         "type": "float"
        },
        {
         "name": "cert_ms [77-425] mos: microsoft office word 2013 expert",
         "rawType": "float64",
         "type": "float"
        },
        {
         "name": "cert_ms [77-426] word 2013 expert part two",
         "rawType": "float64",
         "type": "float"
        },
        {
         "name": "cert_ms [98-249] windows operating system fundamentals",
         "rawType": "float64",
         "type": "float"
        },
        {
         "name": "cert_ms [98-361] visual studio software development fundamentals",
         "rawType": "float64",
         "type": "float"
        },
        {
         "name": "cert_ms [98-362] visual studio windows development fundamentals",
         "rawType": "float64",
         "type": "float"
        },
        {
         "name": "cert_ms [98-364] database fundamentals",
         "rawType": "float64",
         "type": "float"
        },
        {
         "name": "cert_ms [98-365] windows server administration fundamentals",
         "rawType": "float64",
         "type": "float"
        },
        {
         "name": "cert_ms [mb2-700] microsoft dynamics crm 2013 applications",
         "rawType": "float64",
         "type": "float"
        },
        {
         "name": "cert_ms [mb2-866] microsoft dynamics crm 2011 customization and configuration",
         "rawType": "float64",
         "type": "float"
        },
        {
         "name": "cert_novell cna - certified n. administrator",
         "rawType": "float64",
         "type": "float"
        },
        {
         "name": "cert_oracle access management suite plus 11g certified implementation specialist",
         "rawType": "float64",
         "type": "float"
        },
        {
         "name": "cert_oracle advanced pl/sql developer certified professional",
         "rawType": "float64",
         "type": "float"
        },
        {
         "name": "cert_oracle application integration architecture 11g certified implementation specialist",
         "rawType": "float64",
         "type": "float"
        },
        {
         "name": "cert_oracle certified associate",
         "rawType": "float64",
         "type": "float"
        },
        {
         "name": "cert_oracle certified expert",
         "rawType": "float64",
         "type": "float"
        },
        {
         "name": "cert_oracle certified master",
         "rawType": "float64",
         "type": "float"
        },
        {
         "name": "cert_oracle certified professional",
         "rawType": "float64",
         "type": "float"
        },
        {
         "name": "cert_oracle cloud application foundation certified implementation specialist",
         "rawType": "float64",
         "type": "float"
        },
        {
         "name": "cert_oracle database 10g: managing oracle on linux certified expert",
         "rawType": "float64",
         "type": "float"
        },
        {
         "name": "cert_oracle database 11g administrator certified associate",
         "rawType": "float64",
         "type": "float"
        },
        {
         "name": "cert_oracle database 11g administrator certified master",
         "rawType": "float64",
         "type": "float"
        },
        {
         "name": "cert_oracle fusion financials 11g general ledger certified implementation specialist",
         "rawType": "float64",
         "type": "float"
        },
        {
         "name": "cert_oracle fusion global human resources 2014 certified implementation specialist",
         "rawType": "float64",
         "type": "float"
        },
        {
         "name": "cert_oracle fusion hcm: talent management 2014 certified implementation specialist",
         "rawType": "float64",
         "type": "float"
        },
        {
         "name": "cert_oracle pl/sql developer certified associate",
         "rawType": "float64",
         "type": "float"
        },
        {
         "name": "cert_oracle rightnow cx cloud service 2012 certified implementation specialist",
         "rawType": "float64",
         "type": "float"
        },
        {
         "name": "cert_peoplesoft general ledger 9 consultant certified expert",
         "rawType": "float64",
         "type": "float"
        },
        {
         "name": "cert_pmp - project management professional",
         "rawType": "float64",
         "type": "float"
        },
        {
         "name": "cert_primavera p6 enterprise project portfolio management 8 certified implementation specialist",
         "rawType": "float64",
         "type": "float"
        },
        {
         "name": "cert_project lifecycle management certified implementation specialist",
         "rawType": "float64",
         "type": "float"
        },
        {
         "name": "cert_rational - rup-rational unified process",
         "rawType": "float64",
         "type": "float"
        },
        {
         "name": "cert_sab abap",
         "rawType": "float64",
         "type": "float"
        },
        {
         "name": "cert_sap abap foundaition",
         "rawType": "float64",
         "type": "float"
        },
        {
         "name": "cert_sap all-in-one",
         "rawType": "float64",
         "type": "float"
        },
        {
         "name": "cert_sap basis",
         "rawType": "float64",
         "type": "float"
        },
        {
         "name": "cert_sap business one",
         "rawType": "float64",
         "type": "float"
        },
        {
         "name": "cert_sap bw - bi/sap netweaver",
         "rawType": "float64",
         "type": "float"
        },
        {
         "name": "cert_sap cfm",
         "rawType": "float64",
         "type": "float"
        },
        {
         "name": "cert_sap co",
         "rawType": "float64",
         "type": "float"
        },
        {
         "name": "cert_sap crm",
         "rawType": "float64",
         "type": "float"
        },
        {
         "name": "cert_sap cs",
         "rawType": "float64",
         "type": "float"
        },
        {
         "name": "cert_sap fi",
         "rawType": "float64",
         "type": "float"
        },
        {
         "name": "cert_sap fi /aa",
         "rawType": "float64",
         "type": "float"
        },
        {
         "name": "cert_sap fi/co",
         "rawType": "float64",
         "type": "float"
        },
        {
         "name": "cert_sap foundations",
         "rawType": "float64",
         "type": "float"
        },
        {
         "name": "cert_sap hana",
         "rawType": "float64",
         "type": "float"
        },
        {
         "name": "cert_sap hr",
         "rawType": "float64",
         "type": "float"
        },
        {
         "name": "cert_sap mm",
         "rawType": "float64",
         "type": "float"
        },
        {
         "name": "cert_sap netweaver",
         "rawType": "float64",
         "type": "float"
        },
        {
         "name": "cert_sap pm",
         "rawType": "float64",
         "type": "float"
        },
        {
         "name": "cert_sap pmo",
         "rawType": "float64",
         "type": "float"
        },
        {
         "name": "cert_sap pp/pi",
         "rawType": "float64",
         "type": "float"
        },
        {
         "name": "cert_sap ps",
         "rawType": "float64",
         "type": "float"
        },
        {
         "name": "cert_sap sd",
         "rawType": "float64",
         "type": "float"
        },
        {
         "name": "cert_sap sem / bsc",
         "rawType": "float64",
         "type": "float"
        },
        {
         "name": "cert_sap solution manager",
         "rawType": "float64",
         "type": "float"
        },
        {
         "name": "cert_sap soluções sap businessobjects",
         "rawType": "float64",
         "type": "float"
        },
        {
         "name": "cert_sap srm",
         "rawType": "float64",
         "type": "float"
        },
        {
         "name": "cert_sap tm",
         "rawType": "float64",
         "type": "float"
        },
        {
         "name": "cert_sap wm",
         "rawType": "float64",
         "type": "float"
        },
        {
         "name": "cert_sap x/pi",
         "rawType": "float64",
         "type": "float"
        },
        {
         "name": "cert_siebel 8 consultant certified expert",
         "rawType": "float64",
         "type": "float"
        },
        {
         "name": "cert_sparc m6-32 and sparc m5-32 server certified implementation specialist",
         "rawType": "float64",
         "type": "float"
        },
        {
         "name": "cert_storagetek tape libraries certified implementation specialist",
         "rawType": "float64",
         "type": "float"
        },
        {
         "name": "nivel_academico_",
         "rawType": "float64",
         "type": "float"
        },
        {
         "name": "nivel_academico_Doutorado Completo",
         "rawType": "float64",
         "type": "float"
        },
        {
         "name": "nivel_academico_Doutorado Cursando",
         "rawType": "float64",
         "type": "float"
        },
        {
         "name": "nivel_academico_Doutorado Incompleto",
         "rawType": "float64",
         "type": "float"
        },
        {
         "name": "nivel_academico_Ensino Fundamental Completo",
         "rawType": "float64",
         "type": "float"
        },
        {
         "name": "nivel_academico_Ensino Fundamental Cursando",
         "rawType": "float64",
         "type": "float"
        },
        {
         "name": "nivel_academico_Ensino Fundamental Incompleto",
         "rawType": "float64",
         "type": "float"
        },
        {
         "name": "nivel_academico_Ensino Médio Completo",
         "rawType": "float64",
         "type": "float"
        },
        {
         "name": "nivel_academico_Ensino Médio Cursando",
         "rawType": "float64",
         "type": "float"
        },
        {
         "name": "nivel_academico_Ensino Médio Incompleto",
         "rawType": "float64",
         "type": "float"
        },
        {
         "name": "nivel_academico_Ensino Superior Completo",
         "rawType": "float64",
         "type": "float"
        },
        {
         "name": "nivel_academico_Ensino Superior Cursando",
         "rawType": "float64",
         "type": "float"
        },
        {
         "name": "nivel_academico_Ensino Superior Incompleto",
         "rawType": "float64",
         "type": "float"
        },
        {
         "name": "nivel_academico_Ensino Técnico Completo",
         "rawType": "float64",
         "type": "float"
        },
        {
         "name": "nivel_academico_Ensino Técnico Cursando",
         "rawType": "float64",
         "type": "float"
        },
        {
         "name": "nivel_academico_Ensino Técnico Incompleto",
         "rawType": "float64",
         "type": "float"
        },
        {
         "name": "nivel_academico_Mestrado Completo",
         "rawType": "float64",
         "type": "float"
        },
        {
         "name": "nivel_academico_Mestrado Cursando",
         "rawType": "float64",
         "type": "float"
        },
        {
         "name": "nivel_academico_Mestrado Incompleto",
         "rawType": "float64",
         "type": "float"
        },
        {
         "name": "nivel_academico_Pós Graduação Completo",
         "rawType": "float64",
         "type": "float"
        },
        {
         "name": "nivel_academico_Pós Graduação Cursando",
         "rawType": "float64",
         "type": "float"
        },
        {
         "name": "nivel_academico_Pós Graduação Incompleto",
         "rawType": "float64",
         "type": "float"
        },
        {
         "name": "nivel_espanhol_",
         "rawType": "float64",
         "type": "float"
        },
        {
         "name": "nivel_espanhol_Avançado",
         "rawType": "float64",
         "type": "float"
        },
        {
         "name": "nivel_espanhol_Básico",
         "rawType": "float64",
         "type": "float"
        },
        {
         "name": "nivel_espanhol_Fluente",
         "rawType": "float64",
         "type": "float"
        },
        {
         "name": "nivel_espanhol_Intermediário",
         "rawType": "float64",
         "type": "float"
        },
        {
         "name": "nivel_espanhol_Nenhum",
         "rawType": "float64",
         "type": "float"
        },
        {
         "name": "nivel_ingles_",
         "rawType": "float64",
         "type": "float"
        },
        {
         "name": "nivel_ingles_Avançado",
         "rawType": "float64",
         "type": "float"
        },
        {
         "name": "nivel_ingles_Básico",
         "rawType": "float64",
         "type": "float"
        },
        {
         "name": "nivel_ingles_Fluente",
         "rawType": "float64",
         "type": "float"
        },
        {
         "name": "nivel_ingles_Intermediário",
         "rawType": "float64",
         "type": "float"
        },
        {
         "name": "nivel_ingles_Nenhum",
         "rawType": "float64",
         "type": "float"
        },
        {
         "name": "dias_desde_atualizacao",
         "rawType": "float64",
         "type": "float"
        },
        {
         "name": "dias_ativo",
         "rawType": "float64",
         "type": "float"
        },
        {
         "name": "tem_outras_certificacoes",
         "rawType": "float64",
         "type": "float"
        },
        {
         "name": "tem_outro_idioma",
         "rawType": "float64",
         "type": "float"
        }
       ],
       "ref": "3984a634-5ad4-4683-887f-8c9aa0143876",
       "rows": [
        [
         "0",
         "1.0",
         "0.0",
         "0.0",
         "0.0",
         "0.0",
         "0.0",
         "0.0",
         "0.0",
         "0.0",
         "0.0",
         "0.0",
         "0.0",
         "0.0",
         "0.0",
         "0.0",
         "0.0",
         "0.0",
         "0.0",
         "0.0",
         "0.0",
         "0.0",
         "0.0",
         "0.0",
         "0.0",
         "0.0",
         "0.0",
         "0.0",
         "0.0",
         "0.0",
         "0.0",
         "0.0",
         "0.0",
         "0.0",
         "0.0",
         "0.0",
         "0.0",
         "0.0",
         "0.0",
         "0.0",
         "0.0",
         "0.0",
         "0.0",
         "0.0",
         "0.0",
         "0.0",
         "0.0",
         "0.0",
         "0.0",
         "0.0",
         "0.0",
         "0.0",
         "0.0",
         "1.0",
         "0.0",
         "0.0",
         "0.0",
         "0.0",
         "0.0",
         "0.0",
         "0.0",
         "0.0",
         "0.0",
         "0.0",
         "0.0",
         "0.0",
         "0.0",
         "0.0",
         "0.0",
         "0.0",
         "0.0",
         "0.0",
         "0.0",
         "0.0",
         "0.0",
         "0.0",
         "0.0",
         "0.0",
         "0.0",
         "0.0",
         "0.0",
         "0.0",
         "0.0",
         "0.0",
         "0.0",
         "0.0",
         "0.0",
         "0.0",
         "0.0",
         "0.0",
         "0.0",
         "0.0",
         "0.0",
         "0.0",
         "0.0",
         "0.0",
         "0.0",
         "0.0",
         "0.0",
         "0.0",
         "0.0",
         "0.0",
         "0.0",
         "0.0",
         "0.0",
         "0.0",
         "0.0",
         "0.0",
         "0.0",
         "0.0",
         "0.0",
         "0.0",
         "0.0",
         "0.0",
         "0.0",
         "0.0",
         "0.0",
         "0.0",
         "0.0",
         "0.0",
         "0.0",
         "0.0",
         "0.0",
         "0.0",
         "0.0",
         "0.0",
         "0.0",
         "0.0",
         "0.0",
         "0.0",
         "0.0",
         "0.0",
         "0.0",
         "0.0",
         "0.0",
         "0.0",
         "0.0",
         "0.0",
         "0.0",
         "0.0",
         "0.0",
         "0.0",
         "0.0",
         "0.0",
         "0.0",
         "0.0",
         "0.0",
         "0.0",
         "0.0",
         "0.0",
         "0.0",
         "0.0",
         "0.0",
         "0.0",
         "0.0",
         "0.0",
         "0.0",
         "0.0",
         "0.0",
         "0.0",
         "0.0",
         "0.0",
         "0.0",
         "0.0",
         "0.0",
         "0.0",
         "0.0",
         "0.0",
         "0.0",
         "0.0",
         "0.0",
         "0.0",
         "0.0",
         "0.0",
         "0.0",
         "0.0",
         "0.0",
         "0.0",
         "0.0",
         "0.0",
         "0.0",
         "0.0",
         "0.0",
         "0.0",
         "0.0",
         "0.0",
         "0.0",
         "0.0",
         "0.0",
         "0.0",
         "0.0",
         "0.0",
         "0.0",
         "0.0",
         "0.0",
         "0.0",
         "0.0",
         "0.0",
         "0.0",
         "0.0",
         "0.0",
         "0.0",
         "0.0",
         "0.0",
         "0.0",
         "0.0",
         "0.0",
         "0.0",
         "0.0",
         "0.0",
         "0.0",
         "0.0",
         "0.0",
         "0.0",
         "0.0",
         "0.0",
         "0.0",
         "0.0",
         "0.0",
         "0.0",
         "0.0",
         "0.0",
         "0.0",
         "0.0",
         "0.0",
         "0.0",
         "0.0",
         "0.0",
         "0.0",
         "0.0",
         "0.0",
         "0.0",
         "0.0",
         "0.0",
         "0.0",
         "0.0",
         "0.0",
         "0.0",
         "0.0",
         "0.0",
         "0.0",
         "0.0",
         "0.0",
         "0.0",
         "0.0",
         "0.0",
         "0.0",
         "0.0",
         "0.0",
         "0.0",
         "0.0",
         "0.0",
         "0.0",
         "0.0",
         "0.0",
         "0.0",
         "0.0",
         "0.0",
         "0.0",
         "0.0",
         "0.0",
         "0.0",
         "0.0",
         "0.0",
         "0.0",
         "0.0",
         "0.0",
         "0.0",
         "0.0",
         "0.0",
         "0.0",
         "0.0",
         "0.0",
         "0.0",
         "0.0",
         "0.0",
         "0.0",
         "0.0",
         "0.0",
         "0.0",
         "0.0",
         "0.0",
         "0.0",
         "0.0",
         "0.0",
         "0.0",
         "0.0",
         "0.0",
         "0.0",
         "0.0",
         "0.0",
         "0.0",
         "0.0",
         "0.0",
         "0.0",
         "0.0",
         "0.0",
         "0.0",
         "0.0",
         "0.0",
         "0.0",
         "0.0",
         "0.0",
         "0.0",
         "0.0",
         "0.0",
         "0.0",
         "0.0",
         "0.0",
         "0.0",
         "0.0",
         "0.0",
         "0.0",
         "0.0",
         "0.0",
         "0.0",
         "0.0",
         "0.0",
         "0.0",
         "0.0",
         "0.0",
         "0.0",
         "0.0",
         "0.0",
         "0.0",
         "0.0",
         "0.0",
         "0.0",
         "0.0",
         "0.0",
         "0.0",
         "0.0",
         "0.0",
         "0.0",
         "0.0",
         "0.0",
         "0.0",
         "0.0",
         "0.0",
         "0.0",
         "0.0",
         "0.0",
         "0.0",
         "0.0",
         "0.0",
         "0.0",
         "0.0",
         "0.0",
         "0.0",
         "0.0",
         "0.0",
         "0.0",
         "0.0",
         "0.0",
         "0.0",
         "0.0",
         "0.0",
         "0.0",
         "0.0",
         "0.0",
         "0.0",
         "0.0",
         "0.0",
         "0.0",
         "0.0",
         "0.0",
         "0.0",
         "0.0",
         "0.0",
         "0.0",
         "0.0",
         "0.0",
         "0.0",
         "1.0",
         "0.0",
         "0.0",
         "0.0",
         "0.0",
         "0.0",
         "0.0",
         "0.0",
         "0.0",
         "0.0",
         "0.0",
         "0.0",
         "0.0",
         "0.0",
         "0.0",
         "0.0",
         "0.0",
         "0.0",
         "0.0",
         "0.0",
         "0.0",
         "0.0",
         "1.0",
         "0.0",
         "0.0",
         "0.0",
         "0.0",
         "0.0",
         "1.0",
         "0.0",
         "0.0",
         "0.0",
         "0.0",
         "0.0",
         "1372.0",
         "1372.0",
         "1.0",
         "1.0"
        ],
        [
         "1",
         "0.0",
         "0.0",
         "0.0",
         "0.0",
         "0.0",
         "0.0",
         "0.0",
         "0.0",
         "0.0",
         "0.0",
         "0.0",
         "0.0",
         "0.0",
         "0.0",
         "0.0",
         "0.0",
         "0.0",
         "0.0",
         "0.0",
         "0.0",
         "0.0",
         "0.0",
         "0.0",
         "0.0",
         "0.0",
         "0.0",
         "1.0",
         "0.0",
         "0.0",
         "0.0",
         "0.0",
         "0.0",
         "0.0",
         "0.0",
         "0.0",
         "0.0",
         "0.0",
         "0.0",
         "0.0",
         "0.0",
         "0.0",
         "0.0",
         "0.0",
         "0.0",
         "0.0",
         "0.0",
         "0.0",
         "0.0",
         "0.0",
         "0.0",
         "0.0",
         "0.0",
         "1.0",
         "0.0",
         "0.0",
         "0.0",
         "0.0",
         "0.0",
         "0.0",
         "0.0",
         "0.0",
         "0.0",
         "0.0",
         "0.0",
         "0.0",
         "0.0",
         "0.0",
         "0.0",
         "0.0",
         "0.0",
         "0.0",
         "0.0",
         "0.0",
         "0.0",
         "0.0",
         "0.0",
         "0.0",
         "0.0",
         "0.0",
         "0.0",
         "0.0",
         "0.0",
         "0.0",
         "0.0",
         "0.0",
         "0.0",
         "0.0",
         "0.0",
         "0.0",
         "0.0",
         "0.0",
         "0.0",
         "0.0",
         "0.0",
         "0.0",
         "0.0",
         "0.0",
         "0.0",
         "0.0",
         "0.0",
         "0.0",
         "0.0",
         "0.0",
         "0.0",
         "0.0",
         "0.0",
         "0.0",
         "0.0",
         "0.0",
         "0.0",
         "0.0",
         "0.0",
         "0.0",
         "0.0",
         "0.0",
         "0.0",
         "0.0",
         "0.0",
         "0.0",
         "0.0",
         "0.0",
         "0.0",
         "0.0",
         "0.0",
         "0.0",
         "0.0",
         "0.0",
         "0.0",
         "0.0",
         "0.0",
         "0.0",
         "0.0",
         "0.0",
         "0.0",
         "0.0",
         "0.0",
         "0.0",
         "0.0",
         "0.0",
         "0.0",
         "0.0",
         "0.0",
         "0.0",
         "0.0",
         "0.0",
         "0.0",
         "0.0",
         "0.0",
         "0.0",
         "0.0",
         "0.0",
         "0.0",
         "0.0",
         "0.0",
         "0.0",
         "0.0",
         "0.0",
         "0.0",
         "0.0",
         "0.0",
         "0.0",
         "0.0",
         "0.0",
         "0.0",
         "0.0",
         "0.0",
         "0.0",
         "0.0",
         "0.0",
         "0.0",
         "0.0",
         "0.0",
         "0.0",
         "0.0",
         "0.0",
         "0.0",
         "0.0",
         "0.0",
         "0.0",
         "0.0",
         "0.0",
         "0.0",
         "0.0",
         "0.0",
         "0.0",
         "0.0",
         "0.0",
         "0.0",
         "0.0",
         "0.0",
         "0.0",
         "0.0",
         "0.0",
         "0.0",
         "0.0",
         "0.0",
         "0.0",
         "0.0",
         "0.0",
         "0.0",
         "0.0",
         "0.0",
         "0.0",
         "0.0",
         "0.0",
         "0.0",
         "0.0",
         "0.0",
         "0.0",
         "0.0",
         "0.0",
         "0.0",
         "0.0",
         "0.0",
         "0.0",
         "0.0",
         "0.0",
         "0.0",
         "0.0",
         "0.0",
         "0.0",
         "0.0",
         "0.0",
         "0.0",
         "0.0",
         "0.0",
         "0.0",
         "0.0",
         "0.0",
         "0.0",
         "0.0",
         "0.0",
         "0.0",
         "0.0",
         "0.0",
         "0.0",
         "0.0",
         "0.0",
         "0.0",
         "0.0",
         "0.0",
         "0.0",
         "0.0",
         "0.0",
         "0.0",
         "0.0",
         "0.0",
         "0.0",
         "0.0",
         "0.0",
         "0.0",
         "0.0",
         "0.0",
         "0.0",
         "0.0",
         "0.0",
         "0.0",
         "0.0",
         "0.0",
         "0.0",
         "0.0",
         "0.0",
         "0.0",
         "0.0",
         "0.0",
         "0.0",
         "0.0",
         "0.0",
         "0.0",
         "0.0",
         "0.0",
         "0.0",
         "0.0",
         "0.0",
         "0.0",
         "0.0",
         "0.0",
         "0.0",
         "0.0",
         "0.0",
         "0.0",
         "0.0",
         "0.0",
         "0.0",
         "0.0",
         "0.0",
         "0.0",
         "0.0",
         "0.0",
         "0.0",
         "0.0",
         "0.0",
         "0.0",
         "0.0",
         "0.0",
         "0.0",
         "0.0",
         "0.0",
         "0.0",
         "0.0",
         "0.0",
         "0.0",
         "0.0",
         "0.0",
         "0.0",
         "0.0",
         "0.0",
         "0.0",
         "0.0",
         "0.0",
         "0.0",
         "0.0",
         "0.0",
         "0.0",
         "0.0",
         "0.0",
         "0.0",
         "0.0",
         "0.0",
         "0.0",
         "0.0",
         "0.0",
         "0.0",
         "0.0",
         "0.0",
         "0.0",
         "0.0",
         "0.0",
         "0.0",
         "0.0",
         "0.0",
         "0.0",
         "0.0",
         "0.0",
         "0.0",
         "0.0",
         "0.0",
         "0.0",
         "0.0",
         "0.0",
         "0.0",
         "0.0",
         "0.0",
         "0.0",
         "0.0",
         "0.0",
         "0.0",
         "0.0",
         "0.0",
         "0.0",
         "0.0",
         "0.0",
         "0.0",
         "0.0",
         "0.0",
         "0.0",
         "0.0",
         "0.0",
         "0.0",
         "0.0",
         "0.0",
         "0.0",
         "0.0",
         "0.0",
         "0.0",
         "0.0",
         "0.0",
         "0.0",
         "0.0",
         "0.0",
         "0.0",
         "0.0",
         "0.0",
         "0.0",
         "0.0",
         "0.0",
         "0.0",
         "0.0",
         "0.0",
         "0.0",
         "0.0",
         "0.0",
         "0.0",
         "0.0",
         "1.0",
         "0.0",
         "0.0",
         "0.0",
         "0.0",
         "0.0",
         "0.0",
         "0.0",
         "0.0",
         "0.0",
         "0.0",
         "0.0",
         "0.0",
         "0.0",
         "0.0",
         "1.0",
         "0.0",
         "0.0",
         "0.0",
         "0.0",
         "0.0",
         "1.0",
         "1341.0",
         "1372.0",
         "1.0",
         "1.0"
        ],
        [
         "2",
         "0.0",
         "0.0",
         "0.0",
         "0.0",
         "0.0",
         "0.0",
         "0.0",
         "0.0",
         "0.0",
         "0.0",
         "0.0",
         "0.0",
         "0.0",
         "0.0",
         "0.0",
         "0.0",
         "0.0",
         "0.0",
         "0.0",
         "0.0",
         "0.0",
         "0.0",
         "0.0",
         "0.0",
         "0.0",
         "0.0",
         "1.0",
         "0.0",
         "0.0",
         "0.0",
         "0.0",
         "0.0",
         "0.0",
         "0.0",
         "0.0",
         "0.0",
         "0.0",
         "0.0",
         "0.0",
         "0.0",
         "0.0",
         "0.0",
         "0.0",
         "0.0",
         "0.0",
         "0.0",
         "0.0",
         "0.0",
         "0.0",
         "0.0",
         "0.0",
         "0.0",
         "0.0",
         "0.0",
         "0.0",
         "0.0",
         "0.0",
         "0.0",
         "0.0",
         "0.0",
         "0.0",
         "0.0",
         "0.0",
         "0.0",
         "0.0",
         "0.0",
         "0.0",
         "0.0",
         "0.0",
         "0.0",
         "0.0",
         "0.0",
         "0.0",
         "0.0",
         "0.0",
         "0.0",
         "0.0",
         "0.0",
         "0.0",
         "0.0",
         "0.0",
         "0.0",
         "0.0",
         "0.0",
         "0.0",
         "0.0",
         "0.0",
         "0.0",
         "0.0",
         "0.0",
         "0.0",
         "0.0",
         "0.0",
         "0.0",
         "0.0",
         "0.0",
         "0.0",
         "0.0",
         "0.0",
         "0.0",
         "0.0",
         "0.0",
         "0.0",
         "0.0",
         "0.0",
         "0.0",
         "0.0",
         "0.0",
         "0.0",
         "0.0",
         "0.0",
         "0.0",
         "0.0",
         "0.0",
         "0.0",
         "0.0",
         "0.0",
         "0.0",
         "0.0",
         "0.0",
         "0.0",
         "0.0",
         "0.0",
         "0.0",
         "0.0",
         "0.0",
         "0.0",
         "0.0",
         "0.0",
         "0.0",
         "0.0",
         "0.0",
         "0.0",
         "0.0",
         "0.0",
         "0.0",
         "0.0",
         "0.0",
         "0.0",
         "0.0",
         "0.0",
         "0.0",
         "0.0",
         "0.0",
         "0.0",
         "0.0",
         "0.0",
         "0.0",
         "0.0",
         "0.0",
         "0.0",
         "0.0",
         "0.0",
         "0.0",
         "0.0",
         "0.0",
         "0.4324762137922052",
         "0.0",
         "0.43603028776758784",
         "0.43986898009709297",
         "0.0",
         "0.0",
         "0.0",
         "0.0",
         "0.0",
         "0.0",
         "0.0",
         "0.0",
         "0.0",
         "0.0",
         "0.0",
         "0.0",
         "0.0",
         "0.0",
         "0.0",
         "0.0",
         "0.0",
         "0.0",
         "0.0",
         "0.0",
         "0.0",
         "0.0",
         "0.0",
         "0.0",
         "0.0",
         "0.0",
         "0.0",
         "0.0",
         "0.0",
         "0.0",
         "0.0",
         "0.0",
         "0.0",
         "0.0",
         "0.0",
         "0.0",
         "0.0",
         "0.0",
         "0.0",
         "0.0",
         "0.0",
         "0.0",
         "0.0",
         "0.0",
         "0.0",
         "0.0",
         "0.0",
         "0.0",
         "0.0",
         "0.0",
         "0.0",
         "0.0",
         "0.0",
         "0.0",
         "0.0",
         "0.0",
         "0.0",
         "0.0",
         "0.0",
         "0.0",
         "0.0",
         "0.0",
         "0.0",
         "0.0",
         "0.0",
         "0.0",
         "0.0",
         "0.0",
         "0.4440418762313926",
         "0.0",
         "0.0",
         "0.0",
         "0.0",
         "0.0",
         "0.0",
         "0.0",
         "0.0",
         "0.0",
         "0.0",
         "0.0",
         "0.0",
         "0.0",
         "0.0",
         "0.0",
         "0.0",
         "0.0",
         "0.0",
         "0.0",
         "0.0",
         "0.0",
         "0.0",
         "0.0",
         "0.0",
         "0.0",
         "0.0",
         "0.0",
         "0.0",
         "0.0",
         "0.0",
         "0.0",
         "0.0",
         "0.0",
         "0.0",
         "0.0",
         "0.0",
         "0.0",
         "0.0",
         "0.0",
         "0.0",
         "0.0",
         "0.0",
         "0.0",
         "0.0",
         "0.0",
         "0.0",
         "0.0",
         "0.0",
         "0.0",
         "0.0",
         "0.0",
         "0.0",
         "0.0",
         "0.0",
         "0.0",
         "0.0",
         "0.0",
         "0.0",
         "0.0",
         "0.0",
         "0.0",
         "0.0",
         "0.0",
         "0.0",
         "0.0",
         "0.0",
         "0.0",
         "0.0",
         "0.0",
         "0.0",
         "0.0",
         "0.0",
         "0.0",
         "0.0",
         "0.48185475524738913",
         "0.0",
         "0.0",
         "0.0",
         "0.0",
         "0.0",
         "0.0",
         "0.0",
         "0.0",
         "0.0",
         "0.0",
         "0.0",
         "0.0",
         "0.0",
         "0.0",
         "0.0",
         "0.0",
         "0.0",
         "0.0",
         "0.0",
         "0.0",
         "0.0",
         "0.0",
         "0.0",
         "0.0",
         "0.0",
         "0.0",
         "0.0",
         "0.0",
         "0.0",
         "0.0",
         "0.0",
         "0.0",
         "0.0",
         "0.0",
         "0.0",
         "0.0",
         "0.0",
         "0.0",
         "0.0",
         "0.0",
         "0.0",
         "0.0",
         "0.0",
         "0.0",
         "0.0",
         "0.0",
         "0.0",
         "0.0",
         "0.0",
         "0.0",
         "0.0",
         "0.0",
         "0.0",
         "0.0",
         "0.0",
         "0.0",
         "0.0",
         "0.0",
         "0.0",
         "0.0",
         "0.0",
         "0.0",
         "0.0",
         "0.0",
         "0.0",
         "0.0",
         "0.0",
         "0.0",
         "0.0",
         "0.0",
         "0.0",
         "0.0",
         "0.0",
         "0.0",
         "0.0",
         "0.0",
         "0.0",
         "0.0",
         "1.0",
         "0.0",
         "0.0",
         "0.0",
         "0.0",
         "0.0",
         "0.0",
         "0.0",
         "0.0",
         "0.0",
         "0.0",
         "0.0",
         "0.0",
         "0.0",
         "1.0",
         "0.0",
         "0.0",
         "0.0",
         "0.0",
         "0.0",
         "0.0",
         "0.0",
         "1.0",
         "0.0",
         "1372.0",
         "1372.0",
         "1.0",
         "1.0"
        ],
        [
         "3",
         "0.0",
         "0.0",
         "0.0",
         "0.0",
         "0.0",
         "0.0",
         "0.0",
         "0.0",
         "0.0",
         "0.0",
         "0.0",
         "0.0",
         "0.0",
         "0.0",
         "0.0",
         "0.0",
         "0.0",
         "0.0",
         "0.0",
         "0.0",
         "0.0",
         "0.0",
         "0.0",
         "0.0",
         "0.0",
         "0.0",
         "1.0",
         "0.0",
         "0.0",
         "0.0",
         "0.0",
         "0.0",
         "0.0",
         "0.0",
         "0.0",
         "0.0",
         "0.0",
         "0.0",
         "0.0",
         "0.0",
         "0.0",
         "0.0",
         "0.0",
         "0.0",
         "0.0",
         "0.0",
         "0.0",
         "0.0",
         "0.0",
         "0.0",
         "0.0",
         "0.0",
         "1.0",
         "0.0",
         "0.0",
         "0.0",
         "0.0",
         "0.0",
         "0.0",
         "0.0",
         "0.0",
         "0.0",
         "0.0",
         "0.0",
         "0.0",
         "0.0",
         "0.0",
         "0.0",
         "0.0",
         "0.0",
         "0.0",
         "0.0",
         "0.0",
         "0.0",
         "0.0",
         "0.0",
         "0.0",
         "0.0",
         "0.0",
         "0.0",
         "0.0",
         "0.0",
         "0.0",
         "0.0",
         "0.0",
         "0.0",
         "0.0",
         "0.0",
         "0.0",
         "0.0",
         "0.0",
         "0.0",
         "0.0",
         "0.0",
         "0.0",
         "0.0",
         "0.0",
         "0.0",
         "0.0",
         "0.0",
         "0.0",
         "0.0",
         "0.0",
         "0.0",
         "0.0",
         "0.0",
         "0.0",
         "0.0",
         "0.0",
         "0.0",
         "0.0",
         "0.0",
         "0.0",
         "0.0",
         "0.0",
         "0.0",
         "0.0",
         "0.0",
         "0.0",
         "0.0",
         "0.0",
         "0.0",
         "0.0",
         "0.0",
         "0.0",
         "0.0",
         "0.0",
         "0.0",
         "0.0",
         "0.0",
         "0.0",
         "0.0",
         "0.0",
         "0.0",
         "0.0",
         "0.0",
         "0.0",
         "0.0",
         "0.0",
         "0.0",
         "0.0",
         "0.0",
         "0.0",
         "0.0",
         "0.0",
         "0.0",
         "0.0",
         "0.0",
         "0.0",
         "0.0",
         "0.0",
         "0.0",
         "0.0",
         "0.0",
         "0.0",
         "0.0",
         "0.0",
         "0.0",
         "0.0",
         "0.0",
         "0.0",
         "0.0",
         "0.0",
         "0.0",
         "0.0",
         "0.0",
         "0.0",
         "0.0",
         "0.0",
         "0.0",
         "0.0",
         "0.0",
         "0.0",
         "0.0",
         "0.0",
         "0.0",
         "0.0",
         "0.0",
         "0.0",
         "0.0",
         "0.0",
         "0.0",
         "0.0",
         "0.0",
         "0.0",
         "0.0",
         "0.0",
         "0.0",
         "0.0",
         "0.0",
         "0.0",
         "0.0",
         "0.0",
         "0.0",
         "0.0",
         "0.0",
         "0.0",
         "0.0",
         "0.0",
         "0.0",
         "0.0",
         "0.0",
         "0.0",
         "0.0",
         "0.0",
         "0.0",
         "0.0",
         "0.0",
         "0.0",
         "0.0",
         "0.0",
         "0.0",
         "0.0",
         "0.0",
         "0.0",
         "0.0",
         "0.0",
         "0.0",
         "0.0",
         "0.0",
         "0.0",
         "0.0",
         "0.0",
         "0.0",
         "0.0",
         "0.0",
         "0.0",
         "0.0",
         "0.0",
         "0.0",
         "0.0",
         "0.0",
         "0.0",
         "0.0",
         "0.0",
         "0.0",
         "0.0",
         "0.0",
         "0.0",
         "0.0",
         "0.0",
         "0.0",
         "0.0",
         "0.0",
         "0.0",
         "0.0",
         "0.0",
         "0.0",
         "0.0",
         "0.0",
         "0.0",
         "0.0",
         "0.0",
         "0.0",
         "0.0",
         "0.0",
         "0.0",
         "0.0",
         "0.0",
         "0.0",
         "0.0",
         "0.0",
         "0.0",
         "0.0",
         "0.0",
         "0.0",
         "0.0",
         "0.0",
         "0.0",
         "0.0",
         "0.0",
         "0.0",
         "0.0",
         "0.0",
         "0.0",
         "0.0",
         "0.0",
         "0.0",
         "0.0",
         "0.0",
         "0.0",
         "0.0",
         "0.0",
         "0.0",
         "0.0",
         "0.0",
         "0.0",
         "0.0",
         "0.0",
         "0.0",
         "0.0",
         "0.0",
         "0.0",
         "0.0",
         "0.0",
         "0.0",
         "0.0",
         "0.0",
         "0.0",
         "0.0",
         "0.0",
         "0.0",
         "0.0",
         "0.0",
         "0.0",
         "0.0",
         "0.0",
         "0.0",
         "0.0",
         "0.0",
         "0.0",
         "0.0",
         "0.0",
         "0.0",
         "0.0",
         "0.0",
         "0.0",
         "0.0",
         "0.0",
         "0.0",
         "0.0",
         "0.0",
         "0.0",
         "0.0",
         "0.0",
         "0.0",
         "0.0",
         "0.0",
         "0.0",
         "0.0",
         "0.0",
         "0.0",
         "0.0",
         "0.0",
         "0.0",
         "0.0",
         "0.0",
         "0.0",
         "0.0",
         "0.0",
         "0.0",
         "0.0",
         "0.0",
         "0.0",
         "0.0",
         "0.0",
         "0.0",
         "0.0",
         "0.0",
         "0.0",
         "0.0",
         "0.0",
         "0.0",
         "0.0",
         "0.0",
         "0.0",
         "0.0",
         "0.0",
         "0.0",
         "0.0",
         "0.0",
         "0.0",
         "0.0",
         "0.0",
         "0.0",
         "0.0",
         "0.0",
         "0.0",
         "0.0",
         "0.0",
         "0.0",
         "0.0",
         "0.0",
         "0.0",
         "0.0",
         "0.0",
         "0.0",
         "0.0",
         "0.0",
         "0.0",
         "0.0",
         "0.0",
         "0.0",
         "0.0",
         "1.0",
         "0.0",
         "0.0",
         "0.0",
         "0.0",
         "0.0",
         "0.0",
         "0.0",
         "0.0",
         "0.0",
         "0.0",
         "0.0",
         "0.0",
         "0.0",
         "0.0",
         "1.0",
         "0.0",
         "0.0",
         "0.0",
         "0.0",
         "0.0",
         "1.0",
         "1372.0",
         "1372.0",
         "1.0",
         "1.0"
        ],
        [
         "4",
         "1.0",
         "0.0",
         "0.0",
         "0.0",
         "0.0",
         "0.0",
         "0.0",
         "0.0",
         "0.0",
         "0.0",
         "0.0",
         "0.0",
         "0.0",
         "0.0",
         "0.0",
         "0.0",
         "0.0",
         "0.0",
         "0.0",
         "0.0",
         "0.0",
         "0.0",
         "0.0",
         "0.0",
         "0.0",
         "0.0",
         "0.0",
         "0.0",
         "0.0",
         "0.0",
         "0.0",
         "0.0",
         "0.0",
         "0.0",
         "0.0",
         "0.0",
         "0.0",
         "0.0",
         "0.0",
         "0.0",
         "0.0",
         "0.0",
         "0.0",
         "0.0",
         "0.0",
         "0.0",
         "0.0",
         "0.0",
         "0.0",
         "0.0",
         "0.0",
         "0.0",
         "1.0",
         "0.0",
         "0.0",
         "0.0",
         "0.0",
         "0.0",
         "0.0",
         "0.0",
         "0.0",
         "0.0",
         "0.0",
         "0.0",
         "0.0",
         "0.0",
         "0.0",
         "0.0",
         "0.0",
         "0.0",
         "0.0",
         "0.0",
         "0.0",
         "0.0",
         "0.0",
         "0.0",
         "0.0",
         "0.0",
         "0.0",
         "0.0",
         "0.0",
         "0.0",
         "0.0",
         "0.0",
         "0.0",
         "0.0",
         "0.0",
         "0.0",
         "0.0",
         "0.0",
         "0.0",
         "0.0",
         "0.0",
         "0.0",
         "0.0",
         "0.0",
         "0.0",
         "0.0",
         "0.0",
         "0.0",
         "0.0",
         "0.0",
         "0.0",
         "0.0",
         "0.0",
         "0.0",
         "0.0",
         "0.0",
         "0.0",
         "0.0",
         "0.0",
         "0.0",
         "0.0",
         "0.0",
         "0.0",
         "0.0",
         "0.0",
         "0.0",
         "0.0",
         "0.0",
         "0.0",
         "0.0",
         "0.0",
         "0.0",
         "0.0",
         "0.0",
         "0.0",
         "0.0",
         "0.0",
         "0.0",
         "0.0",
         "0.0",
         "0.0",
         "0.0",
         "0.0",
         "0.0",
         "0.0",
         "0.0",
         "0.0",
         "0.0",
         "0.0",
         "0.0",
         "0.0",
         "0.0",
         "0.0",
         "0.0",
         "0.0",
         "0.0",
         "0.0",
         "0.0",
         "0.0",
         "0.0",
         "0.0",
         "0.0",
         "0.0",
         "0.0",
         "0.0",
         "0.0",
         "0.0",
         "0.0",
         "0.0",
         "0.0",
         "0.0",
         "0.0",
         "0.0",
         "0.0",
         "0.0",
         "0.0",
         "0.0",
         "0.0",
         "0.0",
         "0.0",
         "0.0",
         "0.0",
         "0.0",
         "0.0",
         "0.0",
         "0.0",
         "0.0",
         "0.0",
         "0.0",
         "0.0",
         "0.0",
         "0.0",
         "0.0",
         "0.0",
         "0.0",
         "0.0",
         "0.0",
         "0.0",
         "0.0",
         "0.0",
         "0.0",
         "0.0",
         "0.0",
         "0.0",
         "0.0",
         "0.0",
         "0.0",
         "0.0",
         "0.0",
         "0.0",
         "0.0",
         "0.0",
         "0.0",
         "0.0",
         "0.0",
         "0.0",
         "0.0",
         "0.0",
         "0.0",
         "0.0",
         "0.0",
         "0.0",
         "0.0",
         "0.0",
         "0.0",
         "0.0",
         "0.0",
         "0.0",
         "0.0",
         "0.0",
         "0.0",
         "0.0",
         "0.0",
         "0.0",
         "0.0",
         "0.0",
         "0.0",
         "0.0",
         "0.0",
         "0.0",
         "0.0",
         "0.0",
         "0.0",
         "0.0",
         "0.0",
         "0.0",
         "0.0",
         "0.0",
         "0.0",
         "0.0",
         "0.0",
         "0.0",
         "0.0",
         "0.0",
         "0.0",
         "0.0",
         "0.0",
         "0.0",
         "0.0",
         "0.0",
         "0.0",
         "0.0",
         "0.0",
         "0.0",
         "0.0",
         "0.0",
         "0.0",
         "0.0",
         "0.0",
         "0.0",
         "0.0",
         "0.0",
         "0.0",
         "0.0",
         "0.0",
         "0.0",
         "0.0",
         "0.0",
         "0.0",
         "0.0",
         "0.0",
         "0.0",
         "0.0",
         "0.0",
         "0.0",
         "0.0",
         "0.0",
         "0.0",
         "0.0",
         "0.0",
         "0.0",
         "0.0",
         "0.0",
         "0.0",
         "0.0",
         "0.0",
         "0.0",
         "0.0",
         "0.0",
         "0.0",
         "0.0",
         "0.0",
         "0.0",
         "0.0",
         "0.0",
         "0.0",
         "0.0",
         "0.0",
         "0.0",
         "0.0",
         "0.0",
         "0.0",
         "0.0",
         "0.0",
         "0.0",
         "0.0",
         "0.0",
         "0.0",
         "0.0",
         "0.0",
         "0.0",
         "0.0",
         "0.0",
         "0.0",
         "0.0",
         "0.0",
         "0.0",
         "0.0",
         "0.0",
         "0.0",
         "0.0",
         "0.0",
         "0.0",
         "0.0",
         "0.0",
         "0.0",
         "0.0",
         "0.0",
         "0.0",
         "0.0",
         "0.0",
         "0.0",
         "0.0",
         "0.0",
         "0.0",
         "0.0",
         "0.0",
         "0.0",
         "0.0",
         "0.0",
         "0.0",
         "0.0",
         "0.0",
         "0.0",
         "0.0",
         "0.0",
         "0.0",
         "0.0",
         "0.0",
         "0.0",
         "0.0",
         "0.0",
         "0.0",
         "0.0",
         "0.0",
         "0.0",
         "0.0",
         "0.0",
         "0.0",
         "0.0",
         "0.0",
         "0.0",
         "0.0",
         "0.0",
         "0.0",
         "0.0",
         "0.0",
         "0.0",
         "0.0",
         "0.0",
         "1.0",
         "0.0",
         "0.0",
         "0.0",
         "0.0",
         "0.0",
         "0.0",
         "0.0",
         "0.0",
         "0.0",
         "0.0",
         "0.0",
         "0.0",
         "0.0",
         "0.0",
         "0.0",
         "0.0",
         "0.0",
         "0.0",
         "0.0",
         "0.0",
         "0.0",
         "1.0",
         "0.0",
         "0.0",
         "0.0",
         "0.0",
         "0.0",
         "1.0",
         "0.0",
         "0.0",
         "0.0",
         "0.0",
         "0.0",
         "1372.0",
         "1372.0",
         "1.0",
         "1.0"
        ]
       ],
       "shape": {
        "columns": 410,
        "rows": 5
       }
      },
      "text/html": [
       "<div>\n",
       "<style scoped>\n",
       "    .dataframe tbody tr th:only-of-type {\n",
       "        vertical-align: middle;\n",
       "    }\n",
       "\n",
       "    .dataframe tbody tr th {\n",
       "        vertical-align: top;\n",
       "    }\n",
       "\n",
       "    .dataframe thead th {\n",
       "        text-align: right;\n",
       "    }\n",
       "</style>\n",
       "<table border=\"1\" class=\"dataframe\">\n",
       "  <thead>\n",
       "    <tr style=\"text-align: right;\">\n",
       "      <th></th>\n",
       "      <th>area_</th>\n",
       "      <th>area_ comercial</th>\n",
       "      <th>area_ financeira/controladoria</th>\n",
       "      <th>area_ gestão e alocação de recursos de ti</th>\n",
       "      <th>area_ jurídica</th>\n",
       "      <th>area_ marketing</th>\n",
       "      <th>area_ novos negócios e parcerias</th>\n",
       "      <th>area_ qualidade corporativa</th>\n",
       "      <th>area_ recursos humanos</th>\n",
       "      <th>area_ relacionamento técnico</th>\n",
       "      <th>...</th>\n",
       "      <th>nivel_ingles_</th>\n",
       "      <th>nivel_ingles_Avançado</th>\n",
       "      <th>nivel_ingles_Básico</th>\n",
       "      <th>nivel_ingles_Fluente</th>\n",
       "      <th>nivel_ingles_Intermediário</th>\n",
       "      <th>nivel_ingles_Nenhum</th>\n",
       "      <th>dias_desde_atualizacao</th>\n",
       "      <th>dias_ativo</th>\n",
       "      <th>tem_outras_certificacoes</th>\n",
       "      <th>tem_outro_idioma</th>\n",
       "    </tr>\n",
       "  </thead>\n",
       "  <tbody>\n",
       "    <tr>\n",
       "      <th>0</th>\n",
       "      <td>1.0</td>\n",
       "      <td>0.0</td>\n",
       "      <td>0.0</td>\n",
       "      <td>0.0</td>\n",
       "      <td>0.0</td>\n",
       "      <td>0.0</td>\n",
       "      <td>0.0</td>\n",
       "      <td>0.0</td>\n",
       "      <td>0.0</td>\n",
       "      <td>0.0</td>\n",
       "      <td>...</td>\n",
       "      <td>1.0</td>\n",
       "      <td>0.0</td>\n",
       "      <td>0.0</td>\n",
       "      <td>0.0</td>\n",
       "      <td>0.0</td>\n",
       "      <td>0.0</td>\n",
       "      <td>1372.0</td>\n",
       "      <td>1372.0</td>\n",
       "      <td>1.0</td>\n",
       "      <td>1.0</td>\n",
       "    </tr>\n",
       "    <tr>\n",
       "      <th>1</th>\n",
       "      <td>0.0</td>\n",
       "      <td>0.0</td>\n",
       "      <td>0.0</td>\n",
       "      <td>0.0</td>\n",
       "      <td>0.0</td>\n",
       "      <td>0.0</td>\n",
       "      <td>0.0</td>\n",
       "      <td>0.0</td>\n",
       "      <td>0.0</td>\n",
       "      <td>0.0</td>\n",
       "      <td>...</td>\n",
       "      <td>0.0</td>\n",
       "      <td>0.0</td>\n",
       "      <td>0.0</td>\n",
       "      <td>0.0</td>\n",
       "      <td>0.0</td>\n",
       "      <td>1.0</td>\n",
       "      <td>1341.0</td>\n",
       "      <td>1372.0</td>\n",
       "      <td>1.0</td>\n",
       "      <td>1.0</td>\n",
       "    </tr>\n",
       "    <tr>\n",
       "      <th>2</th>\n",
       "      <td>0.0</td>\n",
       "      <td>0.0</td>\n",
       "      <td>0.0</td>\n",
       "      <td>0.0</td>\n",
       "      <td>0.0</td>\n",
       "      <td>0.0</td>\n",
       "      <td>0.0</td>\n",
       "      <td>0.0</td>\n",
       "      <td>0.0</td>\n",
       "      <td>0.0</td>\n",
       "      <td>...</td>\n",
       "      <td>0.0</td>\n",
       "      <td>0.0</td>\n",
       "      <td>0.0</td>\n",
       "      <td>0.0</td>\n",
       "      <td>1.0</td>\n",
       "      <td>0.0</td>\n",
       "      <td>1372.0</td>\n",
       "      <td>1372.0</td>\n",
       "      <td>1.0</td>\n",
       "      <td>1.0</td>\n",
       "    </tr>\n",
       "    <tr>\n",
       "      <th>3</th>\n",
       "      <td>0.0</td>\n",
       "      <td>0.0</td>\n",
       "      <td>0.0</td>\n",
       "      <td>0.0</td>\n",
       "      <td>0.0</td>\n",
       "      <td>0.0</td>\n",
       "      <td>0.0</td>\n",
       "      <td>0.0</td>\n",
       "      <td>0.0</td>\n",
       "      <td>0.0</td>\n",
       "      <td>...</td>\n",
       "      <td>0.0</td>\n",
       "      <td>0.0</td>\n",
       "      <td>0.0</td>\n",
       "      <td>0.0</td>\n",
       "      <td>0.0</td>\n",
       "      <td>1.0</td>\n",
       "      <td>1372.0</td>\n",
       "      <td>1372.0</td>\n",
       "      <td>1.0</td>\n",
       "      <td>1.0</td>\n",
       "    </tr>\n",
       "    <tr>\n",
       "      <th>4</th>\n",
       "      <td>1.0</td>\n",
       "      <td>0.0</td>\n",
       "      <td>0.0</td>\n",
       "      <td>0.0</td>\n",
       "      <td>0.0</td>\n",
       "      <td>0.0</td>\n",
       "      <td>0.0</td>\n",
       "      <td>0.0</td>\n",
       "      <td>0.0</td>\n",
       "      <td>0.0</td>\n",
       "      <td>...</td>\n",
       "      <td>1.0</td>\n",
       "      <td>0.0</td>\n",
       "      <td>0.0</td>\n",
       "      <td>0.0</td>\n",
       "      <td>0.0</td>\n",
       "      <td>0.0</td>\n",
       "      <td>1372.0</td>\n",
       "      <td>1372.0</td>\n",
       "      <td>1.0</td>\n",
       "      <td>1.0</td>\n",
       "    </tr>\n",
       "  </tbody>\n",
       "</table>\n",
       "<p>5 rows × 410 columns</p>\n",
       "</div>"
      ],
      "text/plain": [
       "   area_  area_ comercial  area_ financeira/controladoria  \\\n",
       "0    1.0              0.0                             0.0   \n",
       "1    0.0              0.0                             0.0   \n",
       "2    0.0              0.0                             0.0   \n",
       "3    0.0              0.0                             0.0   \n",
       "4    1.0              0.0                             0.0   \n",
       "\n",
       "   area_ gestão e alocação de recursos de ti  area_ jurídica  area_ marketing  \\\n",
       "0                                        0.0             0.0              0.0   \n",
       "1                                        0.0             0.0              0.0   \n",
       "2                                        0.0             0.0              0.0   \n",
       "3                                        0.0             0.0              0.0   \n",
       "4                                        0.0             0.0              0.0   \n",
       "\n",
       "   area_ novos negócios e parcerias  area_ qualidade corporativa  \\\n",
       "0                               0.0                          0.0   \n",
       "1                               0.0                          0.0   \n",
       "2                               0.0                          0.0   \n",
       "3                               0.0                          0.0   \n",
       "4                               0.0                          0.0   \n",
       "\n",
       "   area_ recursos humanos  area_ relacionamento técnico  ...  nivel_ingles_  \\\n",
       "0                     0.0                           0.0  ...            1.0   \n",
       "1                     0.0                           0.0  ...            0.0   \n",
       "2                     0.0                           0.0  ...            0.0   \n",
       "3                     0.0                           0.0  ...            0.0   \n",
       "4                     0.0                           0.0  ...            1.0   \n",
       "\n",
       "   nivel_ingles_Avançado  nivel_ingles_Básico  nivel_ingles_Fluente  \\\n",
       "0                    0.0                  0.0                   0.0   \n",
       "1                    0.0                  0.0                   0.0   \n",
       "2                    0.0                  0.0                   0.0   \n",
       "3                    0.0                  0.0                   0.0   \n",
       "4                    0.0                  0.0                   0.0   \n",
       "\n",
       "   nivel_ingles_Intermediário  nivel_ingles_Nenhum  dias_desde_atualizacao  \\\n",
       "0                         0.0                  0.0                  1372.0   \n",
       "1                         0.0                  1.0                  1341.0   \n",
       "2                         1.0                  0.0                  1372.0   \n",
       "3                         0.0                  1.0                  1372.0   \n",
       "4                         0.0                  0.0                  1372.0   \n",
       "\n",
       "   dias_ativo  tem_outras_certificacoes  tem_outro_idioma  \n",
       "0      1372.0                       1.0               1.0  \n",
       "1      1372.0                       1.0               1.0  \n",
       "2      1372.0                       1.0               1.0  \n",
       "3      1372.0                       1.0               1.0  \n",
       "4      1372.0                       1.0               1.0  \n",
       "\n",
       "[5 rows x 410 columns]"
      ]
     },
     "execution_count": 21,
     "metadata": {},
     "output_type": "execute_result"
    }
   ],
   "source": [
    "df_cluster_input.head()"
   ]
  },
  {
   "cell_type": "markdown",
   "id": "ae4d3845",
   "metadata": {},
   "source": [
    "## 04_Salvando_base_no_git"
   ]
  },
  {
   "cell_type": "code",
   "execution_count": 22,
   "id": "1a18a27f",
   "metadata": {},
   "outputs": [],
   "source": [
    "Caminho = \"C:\\\\Users\\\\pedro\\\\Documents\\\\Área de Trabalho\\\\tech_challenge_5\\\\01_fontes\\\\arquivos_decision\\\\fontes_tratadas\\\\\""
   ]
  },
  {
   "cell_type": "code",
   "execution_count": 23,
   "id": "c3bdb7b9",
   "metadata": {},
   "outputs": [],
   "source": [
    "# === (Opcional) salvar a base tratada\n",
    "df_cluster_input.to_parquet(Caminho + \"02_cluster_input.parquet\", index=False)"
   ]
  }
 ],
 "metadata": {
  "kernelspec": {
   "display_name": ".venv",
   "language": "python",
   "name": "python3"
  },
  "language_info": {
   "codemirror_mode": {
    "name": "ipython",
    "version": 3
   },
   "file_extension": ".py",
   "mimetype": "text/x-python",
   "name": "python",
   "nbconvert_exporter": "python",
   "pygments_lexer": "ipython3",
   "version": "3.10.11"
  }
 },
 "nbformat": 4,
 "nbformat_minor": 5
}
