{
 "cells": [
  {
   "cell_type": "markdown",
   "id": "fed83da4",
   "metadata": {},
   "source": [
    "# 01_Escolha_features_e_pipeline"
   ]
  },
  {
   "cell_type": "markdown",
   "id": "42a6e1f6",
   "metadata": {},
   "source": [
    "## 01_import_bibliotecas"
   ]
  },
  {
   "cell_type": "code",
   "execution_count": null,
   "id": "56007818",
   "metadata": {},
   "outputs": [],
   "source": [
    "import pandas as pd\n",
    "from sklearn.feature_extraction.text import TfidfVectorizer\n",
    "from sklearn.preprocessing import OneHotEncoder\n",
    "from scipy.sparse import hstack\n",
    "import numpy as np"
   ]
  },
  {
   "cell_type": "markdown",
   "id": "5c50ad3a",
   "metadata": {},
   "source": [
    "## 02_Carga_de_dados"
   ]
  },
  {
   "cell_type": "code",
   "execution_count": null,
   "id": "942ca429",
   "metadata": {},
   "outputs": [],
   "source": [
    "vagas = \"https://github.com/Kinrider/tech_challenge_5/raw/refs/heads/main/01_fontes/arquivos_decision/vagas.json\""
   ]
  },
  {
   "cell_type": "code",
   "execution_count": null,
   "id": "c585beea",
   "metadata": {},
   "outputs": [],
   "source": [
    "# vagas\n",
    "response_vagas = requests.get(vagas)\n",
    "data_vagas = response_vagas.json()"
   ]
  },
  {
   "cell_type": "markdown",
   "id": "77d1c850",
   "metadata": {},
   "source": [
    "## 03_seleção_e_tratamento_de_features"
   ]
  },
  {
   "cell_type": "code",
   "execution_count": null,
   "id": "4550ec68",
   "metadata": {},
   "outputs": [],
   "source": [
    "\n",
    "# === Carregar dados (ajuste o caminho conforme seu projeto local)\n",
    "dados = pd.read_excel(\"dados.xlsx\", sheet_name=\"dados\", usecols=[\n",
    "    \"area_atuacao\", \"certificacoes\", \"data_atualizacao\", \"data_criacao\",\n",
    "    \"nivel_academico\", \"nivel_espanhol\", \"nivel_ingles\",\n",
    "    \"outras_certificacoes\", \"outro_idioma\"\n",
    "])"
   ]
  },
  {
   "cell_type": "code",
   "execution_count": null,
   "id": "800e9d88",
   "metadata": {},
   "outputs": [],
   "source": [
    "\n",
    "# === Definir data de referência (hoje)\n",
    "hoje = pd.to_datetime(\"today\")\n"
   ]
  },
  {
   "cell_type": "code",
   "execution_count": null,
   "id": "74032371",
   "metadata": {},
   "outputs": [],
   "source": [
    "\n",
    "# === Converter colunas de data e calcular deltas\n",
    "dados[\"data_atualizacao\"] = pd.to_datetime(dados[\"data_atualizacao\"], errors='coerce')\n",
    "dados[\"data_criacao\"] = pd.to_datetime(dados[\"data_criacao\"], errors='coerce')\n"
   ]
  },
  {
   "cell_type": "code",
   "execution_count": null,
   "id": "438bb2f0",
   "metadata": {},
   "outputs": [],
   "source": [
    "\n",
    "dados[\"dias_desde_atualizacao\"] = (hoje - dados[\"data_atualizacao\"]).dt.days\n",
    "dados[\"dias_ativo\"] = (hoje - dados[\"data_criacao\"]).dt.days\n"
   ]
  },
  {
   "cell_type": "code",
   "execution_count": null,
   "id": "f26a4dec",
   "metadata": {},
   "outputs": [],
   "source": [
    "\n",
    "# === Criar colunas binárias\n",
    "dados[\"tem_outras_certificacoes\"] = dados[\"outras_certificacoes\"].notnull().astype(int)\n",
    "dados[\"tem_outro_idioma\"] = dados[\"outro_idioma\"].notnull().astype(int)\n"
   ]
  },
  {
   "cell_type": "code",
   "execution_count": null,
   "id": "5afdef1d",
   "metadata": {},
   "outputs": [],
   "source": [
    "\n",
    "# === Preencher vazios com string vazia para TF-IDF\n",
    "dados[\"area_atuacao\"] = dados[\"area_atuacao\"].fillna(\"\")\n",
    "dados[\"certificacoes\"] = dados[\"certificacoes\"].fillna(\"\")\n"
   ]
  },
  {
   "cell_type": "code",
   "execution_count": null,
   "id": "01c883c7",
   "metadata": {},
   "outputs": [],
   "source": [
    "\n",
    "# === TF-IDF para campos multivalorados separados por vírgula\n",
    "tfidf_area = TfidfVectorizer(tokenizer=lambda x: x.split(\",\"), lowercase=True)\n",
    "tfidf_cert = TfidfVectorizer(tokenizer=lambda x: x.split(\",\"), lowercase=True)\n"
   ]
  },
  {
   "cell_type": "code",
   "execution_count": null,
   "id": "1df18b1a",
   "metadata": {},
   "outputs": [],
   "source": [
    "\n",
    "tfidf_area_matrix = tfidf_area.fit_transform(dados[\"area_atuacao\"])\n",
    "tfidf_cert_matrix = tfidf_cert.fit_transform(dados[\"certificacoes\"])\n"
   ]
  },
  {
   "cell_type": "code",
   "execution_count": null,
   "id": "4e0be6cf",
   "metadata": {},
   "outputs": [],
   "source": [
    "\n",
    "# === OneHot Encoding para níveis de idioma e formação\n",
    "encoder = OneHotEncoder(sparse=False, handle_unknown='ignore')\n",
    "onehot_matrix = encoder.fit_transform(dados[[\n",
    "    \"nivel_academico\", \"nivel_espanhol\", \"nivel_ingles\"\n",
    "]].fillna(\"\"))\n"
   ]
  },
  {
   "cell_type": "code",
   "execution_count": null,
   "id": "ffbfeab2",
   "metadata": {},
   "outputs": [],
   "source": [
    "\n",
    "# === Combinar todas as variáveis em uma matriz final\n",
    "final_matrix = hstack([\n",
    "    tfidf_area_matrix,\n",
    "    tfidf_cert_matrix,\n",
    "    onehot_matrix,\n",
    "    np.array(dados[[\n",
    "        \"dias_desde_atualizacao\", \"dias_ativo\",\n",
    "        \"tem_outras_certificacoes\", \"tem_outro_idioma\"\n",
    "    ]])\n",
    "])\n"
   ]
  },
  {
   "cell_type": "code",
   "execution_count": null,
   "id": "d09643d6",
   "metadata": {},
   "outputs": [],
   "source": [
    "\n",
    "# === Criar DataFrame final com nomes das colunas\n",
    "col_names = (\n",
    "    [f\"area_{feat}\" for feat in tfidf_area.get_feature_names_out()] +\n",
    "    [f\"cert_{feat}\" for feat in tfidf_cert.get_feature_names_out()] +\n",
    "    list(encoder.get_feature_names_out([\n",
    "        \"nivel_academico\", \"nivel_espanhol\", \"nivel_ingles\"\n",
    "    ])) +\n",
    "    [\"dias_desde_atualizacao\", \"dias_ativo\",\n",
    "     \"tem_outras_certificacoes\", \"tem_outro_idioma\"]\n",
    ")\n",
    "\n"
   ]
  },
  {
   "cell_type": "code",
   "execution_count": null,
   "id": "e104706b",
   "metadata": {},
   "outputs": [],
   "source": [
    "df_cluster_ready = pd.DataFrame(final_matrix.toarray(), columns=col_names)\n",
    "\n",
    "# === (Opcional) salvar a base tratada\n",
    "df_cluster_ready.to_csv(\"base_tratada_para_cluster.csv\", index=False)"
   ]
  }
 ],
 "metadata": {
  "language_info": {
   "name": "python"
  }
 },
 "nbformat": 4,
 "nbformat_minor": 5
}
