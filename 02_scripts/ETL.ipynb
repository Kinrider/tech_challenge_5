{
 "cells": [
  {
   "cell_type": "markdown",
   "id": "3f0e7f19",
   "metadata": {},
   "source": [
    "# 00_ETL_modelo"
   ]
  },
  {
   "cell_type": "markdown",
   "id": "9b9302b6",
   "metadata": {},
   "source": [
    "## 01_import_bibliotecas"
   ]
  },
  {
   "cell_type": "code",
   "execution_count": 1,
   "id": "a7610bbf",
   "metadata": {},
   "outputs": [],
   "source": [
    "import pandas as pd\n",
    "import json\n",
    "from pandas import json_normalize\n",
    "import requests"
   ]
  },
  {
   "cell_type": "markdown",
   "id": "63848a0e",
   "metadata": {},
   "source": [
    "## 02_import_dados"
   ]
  },
  {
   "cell_type": "code",
   "execution_count": 2,
   "id": "6e11131f",
   "metadata": {},
   "outputs": [],
   "source": [
    "# import de dados da decision\n",
    "\n",
    "vagas = \"https://github.com/Kinrider/tech_challenge_5/raw/refs/heads/main/01_fontes/arquivos_decision/vagas.json\"\n",
    "prospects = \"https://github.com/Kinrider/tech_challenge_5/raw/refs/heads/main/01_fontes/arquivos_decision/prospects.json\"\n",
    "applicants = \"https://github.com/Kinrider/tech_challenge_5/raw/refs/heads/main/01_fontes/arquivos_decision/applicants.json\""
   ]
  },
  {
   "cell_type": "code",
   "execution_count": 3,
   "id": "b2fad569",
   "metadata": {},
   "outputs": [],
   "source": [
    "# lê os dados do github\n",
    "\n",
    "# vagas\n",
    "response_vagas = requests.get(vagas)\n",
    "data_vagas = response_vagas.json()\n",
    "\n",
    "# prospects\n",
    "response_prospects = requests.get(prospects)\n",
    "data_prospects = response_prospects.json()\n",
    "\n",
    "# Aplicants\n",
    "response_applicants = requests.get(applicants)\n",
    "data_applicants = response_applicants.json()"
   ]
  },
  {
   "cell_type": "markdown",
   "id": "7116a9bf",
   "metadata": {},
   "source": [
    "## 03_tratamento_json"
   ]
  },
  {
   "cell_type": "code",
   "execution_count": 4,
   "id": "d2b3c31f",
   "metadata": {},
   "outputs": [],
   "source": [
    "# Trata Vagas\n",
    "\n",
    "records_vagas = [dict(id_vaga=k, **v) for k, v in data_vagas.items()]\n",
    "\n",
    "df_vagas = pd.json_normalize(records_vagas, sep=\"_\")\n",
    "\n",
    "# Remove os prefixos das colunas\n",
    "prefixos_para_remover_vagas = [\n",
    "    'informacoes_basicas_',\n",
    "    'perfil_vaga_',\n",
    "    'beneficios_'\n",
    "]\n",
    "\n",
    "for prefixo in prefixos_para_remover_vagas:\n",
    "    df_vagas.columns = df_vagas.columns.str.replace(f'^{prefixo}', '', regex=True)"
   ]
  },
  {
   "cell_type": "code",
   "execution_count": 16,
   "id": "d6c04556",
   "metadata": {},
   "outputs": [],
   "source": [
    "# Trata Prospects\n",
    "\n",
    "records_prospects = [dict(id_vaga=k, **v) for k, v in data_prospects.items()]\n",
    "\n",
    "df_prospects = pd.json_normalize(\n",
    "    records_prospects,\n",
    "    record_path='prospects',\n",
    "    meta=['id_vaga', 'titulo', 'modalidade'],\n",
    "    sep='_'\n",
    ")\n",
    "\n",
    "# Remove os prefixos das colunas\n",
    "prefixos_para_remover_prospects = [\n",
    "'prospects_',  \n",
    "]\n",
    "\n",
    "for prefixo in prefixos_para_remover_prospects:\n",
    "    df_prospects.columns = df_prospects.columns.str.replace(f'^{prefixo}', '', regex=True)\n",
    "    \n",
    "df_prospects.rename(columns={'codigo': 'id_candidato'}, inplace=True)"
   ]
  },
  {
   "cell_type": "code",
   "execution_count": 17,
   "id": "87a38e12",
   "metadata": {},
   "outputs": [],
   "source": [
    "# Trata Aplicants\n",
    "\n",
    "records_applicants = [dict(id_candidato=k, **v) for k, v in data_applicants.items()]\n",
    "\n",
    "df_applicants = pd.json_normalize(records_applicants, sep=\"_\")\n",
    "\n",
    "# Remove os prefixos das colunas\n",
    "prefixos_para_remover_applicants = [\n",
    "    'infos_basicas_',\n",
    "    'informacoes_pessoais_',\n",
    "    'informacoes_profissionais_',\n",
    "    'formacao_e_idiomas_',\n",
    "    'cargo_atual_'\n",
    "]\n",
    "\n",
    "for prefixo in prefixos_para_remover_applicants:\n",
    "    df_applicants.columns = df_applicants.columns.str.replace(f'^{prefixo}', '', regex=True)"
   ]
  },
  {
   "cell_type": "markdown",
   "id": "b3716458",
   "metadata": {},
   "source": [
    "## 04_juntando arquivos"
   ]
  },
  {
   "cell_type": "code",
   "execution_count": 49,
   "id": "3edd337e",
   "metadata": {},
   "outputs": [],
   "source": [
    "# prospects + applicants\n",
    "df_inter = df_prospects.merge(df_applicants, on=\"id_candidato\", how=\"left\", suffixes=('_tabelaprospect', '_tabelaapplicant'))"
   ]
  },
  {
   "cell_type": "code",
   "execution_count": null,
   "id": "6c923c2c",
   "metadata": {},
   "outputs": [],
   "source": [
    "# dados + Vagas\n",
    "df_geral = df_inter.merge(df_vagas, on=\"id_vaga\", how=\"left\", suffixes=('', '_tabelavaga'))"
   ]
  },
  {
   "cell_type": "code",
   "execution_count": 50,
   "id": "dfcf0f42",
   "metadata": {},
   "outputs": [
    {
     "data": {
      "application/vnd.microsoft.datawrangler.viewer.v0+json": {
       "columns": [
        {
         "name": "index",
         "rawType": "int64",
         "type": "integer"
        },
        {
         "name": "nome_tabelaprospect",
         "rawType": "object",
         "type": "string"
        },
        {
         "name": "id_candidato",
         "rawType": "object",
         "type": "string"
        },
        {
         "name": "situacao_candidado",
         "rawType": "object",
         "type": "string"
        },
        {
         "name": "data_candidatura",
         "rawType": "object",
         "type": "string"
        },
        {
         "name": "ultima_atualizacao",
         "rawType": "object",
         "type": "string"
        },
        {
         "name": "comentario",
         "rawType": "object",
         "type": "string"
        },
        {
         "name": "recrutador",
         "rawType": "object",
         "type": "string"
        },
        {
         "name": "id_vaga",
         "rawType": "object",
         "type": "string"
        },
        {
         "name": "titulo",
         "rawType": "object",
         "type": "string"
        },
        {
         "name": "modalidade",
         "rawType": "object",
         "type": "string"
        },
        {
         "name": "cv_pt",
         "rawType": "object",
         "type": "string"
        },
        {
         "name": "cv_en",
         "rawType": "object",
         "type": "string"
        },
        {
         "name": "telefone_recado",
         "rawType": "object",
         "type": "string"
        },
        {
         "name": "telefone",
         "rawType": "object",
         "type": "string"
        },
        {
         "name": "objetivo_profissional",
         "rawType": "object",
         "type": "string"
        },
        {
         "name": "data_criacao",
         "rawType": "object",
         "type": "string"
        },
        {
         "name": "inserido_por",
         "rawType": "object",
         "type": "string"
        },
        {
         "name": "email",
         "rawType": "object",
         "type": "string"
        },
        {
         "name": "local",
         "rawType": "object",
         "type": "string"
        },
        {
         "name": "sabendo_de_nos_por",
         "rawType": "object",
         "type": "string"
        },
        {
         "name": "data_atualizacao",
         "rawType": "object",
         "type": "string"
        },
        {
         "name": "codigo_profissional",
         "rawType": "object",
         "type": "string"
        },
        {
         "name": "nome_tabelaapplicant",
         "rawType": "object",
         "type": "string"
        },
        {
         "name": "data_aceite",
         "rawType": "object",
         "type": "string"
        },
        {
         "name": "nome_tabelaapplicant",
         "rawType": "object",
         "type": "string"
        },
        {
         "name": "cpf",
         "rawType": "object",
         "type": "string"
        },
        {
         "name": "fonte_indicacao",
         "rawType": "object",
         "type": "string"
        },
        {
         "name": "email",
         "rawType": "object",
         "type": "string"
        },
        {
         "name": "email_secundario",
         "rawType": "object",
         "type": "string"
        },
        {
         "name": "data_nascimento",
         "rawType": "object",
         "type": "string"
        },
        {
         "name": "telefone_celular",
         "rawType": "object",
         "type": "string"
        },
        {
         "name": "telefone_recado",
         "rawType": "object",
         "type": "string"
        },
        {
         "name": "sexo",
         "rawType": "object",
         "type": "string"
        },
        {
         "name": "estado_civil",
         "rawType": "object",
         "type": "string"
        },
        {
         "name": "pcd",
         "rawType": "object",
         "type": "string"
        },
        {
         "name": "endereco",
         "rawType": "object",
         "type": "string"
        },
        {
         "name": "skype",
         "rawType": "object",
         "type": "string"
        },
        {
         "name": "url_linkedin",
         "rawType": "object",
         "type": "string"
        },
        {
         "name": "facebook",
         "rawType": "object",
         "type": "string"
        },
        {
         "name": "titulo_profissional",
         "rawType": "object",
         "type": "string"
        },
        {
         "name": "area_atuacao",
         "rawType": "object",
         "type": "string"
        },
        {
         "name": "conhecimentos_tecnicos",
         "rawType": "object",
         "type": "string"
        },
        {
         "name": "certificacoes",
         "rawType": "object",
         "type": "string"
        },
        {
         "name": "outras_certificacoes",
         "rawType": "object",
         "type": "string"
        },
        {
         "name": "remuneracao",
         "rawType": "object",
         "type": "string"
        },
        {
         "name": "nivel_profissional",
         "rawType": "object",
         "type": "string"
        },
        {
         "name": "nivel_academico",
         "rawType": "object",
         "type": "string"
        },
        {
         "name": "nivel_ingles",
         "rawType": "object",
         "type": "string"
        },
        {
         "name": "nivel_espanhol",
         "rawType": "object",
         "type": "string"
        },
        {
         "name": "outro_idioma",
         "rawType": "object",
         "type": "string"
        },
        {
         "name": "instituicao_ensino_superior",
         "rawType": "object",
         "type": "string"
        },
        {
         "name": "cursos",
         "rawType": "object",
         "type": "string"
        },
        {
         "name": "ano_conclusao",
         "rawType": "object",
         "type": "string"
        },
        {
         "name": "download_cv",
         "rawType": "object",
         "type": "string"
        },
        {
         "name": "qualificacoes",
         "rawType": "object",
         "type": "string"
        },
        {
         "name": "experiencias",
         "rawType": "object",
         "type": "string"
        },
        {
         "name": "outro_curso",
         "rawType": "object",
         "type": "string"
        },
        {
         "name": "id_ibrati",
         "rawType": "object",
         "type": "string"
        },
        {
         "name": "email_corporativo",
         "rawType": "object",
         "type": "string"
        },
        {
         "name": "cargo_atual",
         "rawType": "object",
         "type": "string"
        },
        {
         "name": "projeto_atual",
         "rawType": "object",
         "type": "string"
        },
        {
         "name": "cliente",
         "rawType": "object",
         "type": "string"
        },
        {
         "name": "unidade",
         "rawType": "object",
         "type": "string"
        },
        {
         "name": "data_admissao",
         "rawType": "object",
         "type": "string"
        },
        {
         "name": "data_ultima_promocao",
         "rawType": "object",
         "type": "string"
        },
        {
         "name": "nome_superior_imediato",
         "rawType": "object",
         "type": "string"
        },
        {
         "name": "email_superior_imediato",
         "rawType": "object",
         "type": "string"
        }
       ],
       "ref": "6921cce2-8843-4891-8e96-5853eef5de5a",
       "rows": [
        [
         "0",
         "José Vieira",
         "25632",
         "Encaminhado ao Requisitante",
         "25-03-2021",
         "25-03-2021",
         "Encaminhado para  - PJ R$ 72,00/hora",
         "Ana Lívia Moreira",
         "4530",
         "CONSULTOR CONTROL M",
         "",
         "\ndados pessoais\nestado civil: casado\nidade: 33 anos\n\nobjetivo\nlevar à empresa o meu conhecimento, tornando-me um membro a mais para o seu desenvolvimento.\n\nformação acadêmica\nuniversidade estácio de sá – rj\nmba em ciência de dados e big data analytics - concluído\n\nuniversidade estácio de sá – rj\nsuperior em análise e desenvolvimento de sistemas - concluído\n\nete juscelino kubitschek– faetec\ntécnico em eletricidade - concluído\n\ncertificados;\n• certificado itil foundadion v3\n\n\ncursos de aperfeiçoamento\nmontagem e manutenção de micros, desenvolvimento delphi pleno, linguagem pl/sql, desenvolvedor java web pleno, scrum fundamentals (sfc) , itil foundation v3, db2 luw - database administration & certification workshop\n\n\nidiomas\n\nespanhol: avançado\ninglês: avançado\n\n\nexperiência\nanalista de sistemas sênior - por csc, projeto petrobrás\ndez/2020 - presente.\n\nalocado no cliente petrobras, faço parte da equipe responsável por administrar a ferramenta bmc control-m na parte de suporte e produção;\ninstalação e configuração de agent, cm´s, fixes e upgrade do control-m em servidores unix, linux e windows.\ncriação de jobs utilizando rotinas em shell script e/ou bats. configuração de jobs de sap; etl; bi data warehouse, bd, java, web services, file transfer (aft), etc... no control-m de acordo com a regra de negócio do cliente.\nextração de relatórios e otimização do ambiente de produção utilizando o pl/sql;\nutilização do ibm connect:direct para a transferência de arquivos interno e externo no cliente.\nresponsável pela ferramenta ibm b2b sterling integrator, na qual administro e presto suporte para área financeira da empresa.\nsuporte aos processos de conciliação bancária (edi), garantindo o funcionamento nas transações financeiras da empresa (via control_m) junto as vans e bancos.\núnico responsável pelo ambiente mainframe com foco em sistemas de plano de saúde, atuando no desenvolvimento de novos processos jcl, analise e criação de gdg's, manutenção de tablespaces db2, sustentação do cics, sustentação do mvs para comunicação com baixa plataforma e dmz's para transferencia de arquivos financeiros para os bancos.\n\nanalista de produção pleno - por coonectcom, projeto petrobrás\njun/19 - dez/2020.\nsuporte a produção 3º e 4º nivel em ambientes multiplataforma e mainframe.\n\nmultiplataforma;\ndesenvolvimento e agilidade de job's via control-m, processos automáticos de backup, shell scripts, query's, programas abap(sap), bi, data warehouse, web services, file transfer (aft), etl, filewatch, bd, bats, hadoop, workflows;\nextração de dados pl/sql;\nutilização do connect direct para transmissão de dados, utilizado para envio e recebimento de arquivos;\nmanutenção de agentes do control-m;\nsistemas operacionais: linux, windows server e unix.\nsuporte nos processos financeiros (edi) de transações bancárias, automatizadas via control-m, connect diretect e apoio ao cliente junto com os bancos e vans.\n\n\nmainframe;\nsistemas operacionais: z/nm, z/os, zlinux:\n• customização, homologação, administração e implantação de softwares da bmc para ibm mainframe\n(família ioa), bmc control m/o/r/d;\n• execução de pocs (proofs of concepf) para homologação de software, e confecção de relatórios gerenciais;\n• codificação e manutenção de jcls, cartões de controle, procedures e outros aplicativos pertencentes aos\nsistemas de infraestrutura na produção do ambiente control-m mainframe;\n• suporte e administração de rotinas de produção para coleta e salva de registros de smf:\n• suporte e administração de programas, sub-rotinas, jcl, cartões de controle, procedures e outros objetos\npertencentes aos sistemas de infraestrutura do ambiente mainframe;\n• suporte e administração do gerenciador de fitoteca ca1;\n• aplicações/softwares:\n• tso/sdsf\n• roscoe\n• rpf\n• jes2\n• nje\n• ssh\n• sftp\n• dfhsm\n• ftp\n\n- linguagens de programação:\n• jcl\n• auto edit\n\nanalista de produção v - preposto, por g&p em caixa econômica federal\njun/18 - jan/2019.\natuando como preposto na plataforma mainframe usando os sistemas zos/360, sdsf, ipsf e control-m para monitoração e tratamento de erros no ambiente de produção, recuperação de arquivos em disco e em fitas de backup, execução de pacotes e jcl via endevor, experiência também em cics, idms, db2 e sql.\natuando também em plataforma de ambiente distribuído na execução de programas em shellscript, sql, java, via control-m enterprise e powercenter. monitoração de scripts e jobs automáticos, manutenção e tratamento de erros dos mesmos, execuções de arquivos b2b, importação de mapas via clearcase e nexus. atuando com as seguintes ferramentas powercenter workflow monitor, manager e repository. em ambientes windows e linux. conhecimento em shellscript e pl/sql.\nauxiliando na coordenação da equipe em ambas plataformas (alta e baixa), respondendo slm e comparecendo a reuniões com o cliente.\n\nanalista de suporte a produção, por inforegis em gás natural fenosa(ceg)\njan/15 – jun/18.\ndesenvolvimento de processos jcl para integração com o control-m, em ambiente mainframe.\nexperiência em control-m 6.0, control-m 8.0, control-d, administração e manutenção de job’s em jcl, utilitários de recuperação de arquivos, gerenciamento de impressoras e periféricos sob o z/os (os/390) administrados pelo subsistema jes3. gerenciamento de fluxos de jobs control-m, automação de processos batch através de scripts shell/sql, acompanhamento de desempenho da produção, monitoramento de processos através do control-m enterprise, sólidos conhecimentos em implantação de jcl automatizados no control-m em ambiente mainframe, implementação de processos em shellscript, pl/sql para processamento automático control-m. monitoramento nagios de sistemas de rede.\nparticipação no projeto “zeus” desenvolvido com finalidade de implantar um sistema integrando siebel e sgc, em alta e baixa plataforma.\natuando também na coordenação técnica da equipe de scheduler, fornecendo suporte quando necessário.\n\ninformática\nconhecimentos em jcl, shell script, html, delphi, sql, modelagem de dados, scrum, itil, java, c++, endevor, tso/ispf, sdsf, mainframe ibm, control-m, z/os, power center, clearcase, b2b, linguagem r, mvs, jboss, jee, java, connect direct, cics, db2.\n",
         "",
         "",
         "(21) 93485-6494",
         "",
         "25-03-2021 13:36:19",
         "Ana Lívia Moreira",
         "josé_vieira@gmail.com",
         "",
         "",
         "25-03-2021 13:36:19",
         "25632",
         "José Vieira",
         "Cadastro anterior ao registro de aceite",
         "José Vieira",
         "",
         ":",
         "josé_vieira@gmail.com",
         "",
         "0000-00-00",
         "(21) 93485-6494",
         "",
         "",
         "",
         "",
         "",
         "",
         "",
         "",
         "",
         "",
         "",
         "",
         "",
         "",
         "",
         "",
         "",
         "",
         "-",
         null,
         null,
         null,
         null,
         null,
         null,
         null,
         null,
         null,
         null,
         null,
         null,
         null,
         null,
         null,
         null,
         null
        ],
        [
         "1",
         "Srta. Isabela Cavalcante",
         "25529",
         "Encaminhado ao Requisitante",
         "22-03-2021",
         "23-03-2021",
         "encaminhado para  - R$ 6.000,00 – CLT Full , não tem empresa aberta",
         "Ana Lívia Moreira",
         "4530",
         "CONSULTOR CONTROL M",
         "",
         "solteiro, 47 anos\n\nestrada meringuava, nº 1763 – bl. 01 – apt. 406 – jacarepaguá\ncep: 22.723-426 – rio de janeiro – rj\n\n\n\nobjetivos\n\nanalista de redes e teleprocessamento/infraestrutura e operações de data center\n\n\nqualificação profissional\n\n● ampla experiência em atendimento de data center, atuando também com gestão de equipes\n● administração e monitoramento de servidores\n● controle de backups\n● criação de contas e administração de servidores (ad)\n● implantação, manutenção de hardware e software\n● gerenciamento de chamados e planilhas de controles técnicos\n● configuração de estações de trabalho e servidores\n● suporte direto ao usuário (local e remoto)\n\n\nformação acadêmica\n\n● gestão de processos – universidade estácio de sá (07/2017 – 06/2020)\n● técnico em processamento de dados – colégio nacional (02/1990 – 12/1992)\n\n\nexperiência profissional\n\nanalista de ti iii (03/2010 – 05/2020)\n● gestão de equipe técnica, em data center\n● scheduler de jobs (backup/cíclicos/produção), data protector manager/control-m enterprise manager / commvault\n● administração/monitoramento de servidores, em data center (blades hp/virtualização vmware)\n● monitoração de ambiente através do hp operations (openview)/hp imc/microsoft scom\n● controle de backups diários, em data protector manager, control-m enterprise manager e commvault\n● controle de documentação e procedimentos técnicos\n● administração e monitoramento de servidores virtuais (vmware /vsphere)\n\nmills engenharia estruturas e serviços ltda – (lan designers integração de sistemas ltda.)\nespecialista em microinformática nv1 (12/2006 – 03/2010)\n● criação de contas e administração de servidores (ad)\n● implantação, manutenção de hardware e software\n● gerenciamento de chamados e planilhas de controles técnicos\n● configuração de estações de trabalho e servidores\n● suporte direto ao usuário (local e remoto)\n\n\n\n\nconbras engenharia ltda.\ntécnico em teleprocessamento (10/2005 – 07/2006)\n● prestação de serviços para o banco do brasil, na área de cabeamento estruturado (instalação e manutenção na rede lan e rede telefônica)\n\ntms teleinformática ltda.\ntécnico em teleprocessamento jr. – responsável técnico (11/1998 – 02/2005)\n● administração de rede corporativa – supervisão técnica residente (10 técnicos - banco sudameris)\n● implantação de software - unibanco seguros e unibanco 30horas\n● instalação, manutenção de hardware\n● configuração de internet e redes lan/wan (hub, switch, path panel, roteadores)\n● cabeamento de redes com cabos utp cat 5\n● instalação de rede de telefonia – banco sudameris e bank boston\n● automação bancária – unibanco 30horas, sudameris e bank boston\n\nntl nova tecnologia ltda\nsuporte técnico de software (mar/1996 – mar/1998)\n● implantação de software - unibanco seguros\n● trabalho em laboratório técnico, com manutenção de microinformática\n● técnico de sistema - aplicação de software e instalação em terminais, a nível brasil\n● instalação e configuração de internet\n\n\n\ninformática\n\n● windows workstation e server, pacote office\n\n\n\natividades extracurriculares\n\n● control-m administrator server – pbti\n● metodologia ágil ( scrum master ) - pmg academy\n● administração vmware 6 - ternium brasil\n● hp data protector manager – thyssenkrupp csa\n● lotus notes v.4.6 - tm solutions\n● redes lan/wan - tm solutions\n● windows server 2003– mcp – infnet\n● básico fibra óptica – tm solutions\n● tcp/ip – tm solutions\n● teleprocessamento i – tm solutions\n● teleprocessamento ii e redes – tm solutions\n● cabeamento estruturado e instalação de redes – tema informática\n\n\ninformação adicional\n\n● disponibilidade para viagens\n",
         "",
         "",
         "(21) 94261-6276",
         "ANALISTA DE REDES E TELEPROCESSAMENTO/INFRAESTRUTURA E OPERAÇÕES DE DATA CENTER / Control-M Administrator",
         "22-03-2021 22:48:58",
         "Ana Lívia Moreira",
         "srta._isabela_cavalcante@hotmail.com",
         "Rio de Janeiro, Rio de Janeiro",
         "Site de Empregos",
         "22-03-2021 23:36:28",
         "25529",
         "Srta. Isabela Cavalcante",
         "Cadastro anterior ao registro de aceite",
         "Srta. Isabela Cavalcante",
         "",
         "Site de Empregos: Linkdin",
         "srta._isabela_cavalcante@hotmail.com",
         "",
         "25-10-1973",
         "(21) 94261-6276",
         "",
         "Masculino",
         "Solteiro",
         "Não",
         "rio de janeiro",
         "",
         "",
         "",
         "ANALISTA DE REDES E TELEPROCESSAMENTO/INFRAESTRUTURA E OPERAÇÕES DE DATA CENTER / Control-M Administrator",
         "TI - Governança, TI - Infraestrutura, TI - Projetos, TI - Sistemas e Ferramentas, TI - Suporte",
         "",
         "",
         "",
         "R$ 5600,00 / mês / CLT",
         "",
         "Ensino Superior Completo",
         "Intermediário",
         "Básico",
         "-",
         "",
         "",
         "2020",
         null,
         null,
         null,
         null,
         null,
         null,
         null,
         null,
         null,
         null,
         null,
         null,
         null,
         null
        ],
        [
         "2",
         "Sra. Yasmin Fernandes",
         "25364",
         "Contratado pela Decision",
         "17-03-2021",
         "12-04-2021",
         "Data de Inicio: 12/04/2021",
         "Juliana Cassiano",
         "4531",
         "2021-2607395-PeopleSoft Application Engine-Domain Consultant",
         "",
         "\n\nárea de atuação: lider de consultoria / gerenciamento de projeto / liderança técnica / analista senior\nresumo de qualificações\n- profissional com 30 anos de experiência na área de ti, adquirida em projetos desenvolvidos em empresas nacionais de grande porte e consultorias especializadas.\n- sólida experiência na área de tecnologia da informação atuando como consultor pleno-senior, liderando equipes de desenvolvimento, implantação e upgrade de sistemas erp, crm, hcm e campus solution.\n- sólida experiência em implantação de novas funcionalidades e backoffice à solução peoplesoft.\n- forte atuação junto a clientes internos e externos para implantação de novos processos de negócio através de soluções erp – crm e hcm.\n- vivência nos processos de integração entre módulos do peoplesoft e sistemas externos e internos.\n- experiência em ferramentas para gerenciamento de projetos (msproject e hp ppm).\n- experiência em consultoria remota e monitoramento de processos de produção à distância.\n- vivência nos processos de análise e levantamento de requisitos, detalhamento de escopo, definição de arquitetura, elaboração de especificações técnicas/funcionais e implantação de processos de produção.\n- experiência na administração do ambiente e nos processos de administração de acessos e perfis.\n- sólida experiência no suporte a produção, administração de chamados e riscos, apresentação de scorecard semanal e realização de treinamento.\n\n\nformação\n- graduação – universidade castelo branco – tecnólogo em processamento de dados – 1995\n\n\ncapacitação técnica\n- peoplesoft (peopletools 8.49, 8.53, 8.55, 8.57 peoplecode, sqr, crystal, xml publisher, query manager, app engine, app package, process scheduler, segurança, app message, integration broker, workflow, tree manager)\n- peoplesoft fscm 8.9, 9.1 hcm 9.0, 9.2, crm e cs\n- microsoft visual basic, java, xml, javascript, html, css, jquery, python\n- ios, windows, linux, unix\n- microsoft sql server, microsoft access, mysql, oracle.\n- oracle pl/sql, procedures, triggers.\n- oracle oic\n\n\ncursos de extensão\n- microsoft visual basic – nsi – 1995\n- trailhead playground management – trailhead by salesforce – dez-2019\n- noções básicas do trailhead – trailhead by salesforce – dez-2019\n- data modeling – trailhead by salesforce – dez-2019\n- salesforce platform basics – trailhead by salesforce – jan-2020\n- crm for salesforce classic - trailhead by salesforce – jan-2020\n\n\nidiomas\n- inglês – avançado\n- espanhol – intermediário\n- português - nativo\n\ncertificados\n- capacitação peoplesoft (formação técnica) – peoplesoft -1999\n- segurança da informação – brasilcap – 2009\n- ad (administração de dados) brasilcap– 2010\n- oracle hcm cloud 2019 sales specialist assessment – ago-2020\n- oracle hcm cloud solution engineer specialist – jul-2020\n- scrum foundation professional certificate (spfc) – certiprof – jul-2020\n- oracle integration cloud services oic – oracle ics – udemy – dez-2020\n\n\nprincipais projetos\n- implementação da suíte financeira do peoplesoft erp na mbr – bh (atual vale), atuando diretamente nos módulos: ap, ar e tr como consultor técnico sênior.\n- implantação da solução oracle peoplesoft erp e crm na aga linde health care - rj, atuando na frente técnica, parametrizando, customizando e desenvolvendo interfaces.\n- implantação de solução oracle peoplesoft erp na porto seguro seguros – sp, atuando diretamente no módulo ap como consultor sênior e líder de equipe. atuei diretamente na construção das interfaces entre o peoplesoft e o sistema legado.\n- implantação da solução oracle peoplesoft na tavex – sp, atuando diretamente como consultor técnico sênior.\n- implantação da resolução 533 da anatel no peoplesoft crm 2012 na claro – sp.\n- implantação de interface na vale (escritório: piura - peru) entre o peoplesoft hcm e o adam (sistema de folha de pagamento) utilizado no peru.\n- implantação peoplesoft hcm 92 na bbts - rj\n- projeto cobrança registrada (peoplesoft fscm – ar) realizado na sulamérica – rj\n- sustentação peoplesoft hcm 92 na vale brasil – rj\n- rollout oracle peoplesoft fscm 91 na cbre brasil - sp\n\n\nexperiência profissional\ndbs-digital– jan/2021\nprojeto laureate – criação de novas bu gl\n- responsável pelo acompanhamento dos testes em uat1/uat2\n- ajustes técnicos para os chamados abertos em uat1/uat2\n- manutenção em integrações com oic erp cloud/erp on premise\n\n\nataway– fev/2020 – dez/2020\nprojeto global cbre – implantação do peoplesoft fin 91 – projeto remoto\n- responsável pelo módulo de compras (po)\n- levantamento dos requisitos\n- workshop das funcionalidades\n- levantamento de integrações entre peoplesoft e coupa system\n- testes unitários e testes integrados\n- treinamento\n\nprojeto br distribuidora – integração oracle oic– projeto remoto\n- manutenção em integrações hcm cloud/erp\n- criação de novas integrações. mapeamentos de dados e regras de conversão\n\n\n\ngrupo quanam– jun/2019 – dez/19\nprojeto revitalização peoplesoft fin 9.1– santista - sp\n- levantamento funcional/técnico de um módulo adicional (cotton) a ser incorporado ao peoplesoft.\neste módulo contempla todo o fluxo de compra e venda de algodão. a versão anterior havia sido escrito em clipper.\n- atuação técnica nos módulos: contas a pagar, compras, inventário e fretes\n- estimativa de tempo baseado em planilha excel com valores padrão para todos os tipos de objetos peoplesoft para gaps novos e gaps de manutenção\n- conversão de processos antigos sqr em novos processos app. engine utilizando app packages\n- conversão de relatórios crystal reports em xml publisher\n- manutenção de rotinas em pl/sql\n\n\noracle do brasil – abr/2017 – maio-2019\nsustentação pós-implementação peoplesoft hcm 92 na vale (brasil) – rj\n- auxilio na comunicação entre o cliente e o time off-shore (índia).\n- acompanhamento das atividades dos usuários\n- acompanhamento das definições de novas atividades (melhorias)\n- levantamento de dados para pmo\n- melhoria das integrações (inbound & outbound) através de webservices e batch process\n- levantamento/analise/solução proposta da migração de sistema externo para dentro do peoplesoft\n- migração de projetos com o peoplesoft cemli manager\n- manutenção de novos projetos com o ppm ( project portfolio management )\n- acompanhamento nas atualizações de sistemas externos e adequação das rotinas pl/sql para atender as novas versões\n- ajuste e monitoramento da interface de folha de pagamento entre psft x fpw\n\n\nstefanini consultoria – jun/2016 – mar/2017\natuando no projeto cobrança registrada na sulamérica – rj\n- realizando tarefas de configuração bancária, mapas bancários, geração de boletos impressos e emissão de boletos online. validando arquivos bancários e preparando arquivos de retorno aos bancos. geração e validação de código de barra e linha digitável\n- manutenção de rotinas em pl/sql (procedures, functions e triggers)\n\n\nf2c (a hitachi consulting company) – jun/2015 – jun/2016\n- atuei no desenvolvimento dos gaps principais (incluindo fluid page) e as interfaces entre o peoplesoft e o ebs, assim como entre o peoplesoft e o sistema legado.\n- construção de rotinas em pl/sql\n\n\ninfosys – mai/2012 a mai/2015\n- suporte a produção para o peoplesoft hcm 9.0 (core hr, benefícios básicos) para a vale peru e chile:\n- atendimento e manutenção de chamados\n- desenvolvimento de melhorias\n- implementação de novas interfaces\n- manutenção em rotinas pl/sql (procedures, functions e triggers)\n\n\n\nlimine solutions – nov/2011 a abr/2012\n- implantação da resolução 533 da anatel no peoplesoft crm 2012 na claro – sp\n- desenvolvimento de melhorias\n- construção de especificação técnica\n- modificação de stored procedures e functions\n- construção dos cenários de teste\n- desenvolvimento, testes unitários, testes de aceite do usuário e migração do projeto para ambiente produtivo\n\n\ncontrato independente – fev/2011 a nov/2011\n- consultor técnico peoplesoft hcm no magazine luiza - sp:\n- desenvolvimento técnico remoto baseado em pacotes de especificação previamente construídas\n- desenvolvimento de novas funcionalidades, testes e migração dos projetos para ambiente de homologação.\n\ngrupo quanam – jan/2006 a nov/2011\nmar/2011 a nov/2011\n- atuei diretamente no suporte a produção em conjunto com a equipe funcional e técnica:\n- construção de novas especificações\n- desenvolvimento e ajustes de interfaces\n- treinamento funcional e técnico\n- manutenção de rotinas em pl/sql\n\npeoplesoft back office na porto seguro seguros – sp (mar/2009 a jun/2009)\nconsultor funcional / técnico:\n- desenvolvimento de novos gaps\n- administração de back office\n- atualização do processo de interface para o contas a pagar\n\nimplementação da solução oracle peoplesoft erp na tavex – sp (jan/2009 a mar/2009)\n- consultor funcional / técnico:\n- desenvolvimento de novos gaps\n- implementação dos módulos: ap, ar, cm, gl, bi, ex, om, po, in e mn\n- construção de relatórios em sqr e crystal report.\n\nimplementação da solução oracle peoplesoft erp na sul américa seguros – rj (jul/2008 a dec/2008)\n- consultor técnico:\n- implementação dos módulos: ap e ar\n- liderança e desenvolvimento de novos gaps\n- construção e manutenção da planilha de atividades\n\n- adaptando e recustomizando gaps da versão anterior\n- validação das definições de projeto\n- migração das definições de projeto\n- export/import de dados via data mover\n- criação e manutenção da planilha de trabalho\n\nimplantação do peoplesoft financial 8.20 na porto seguro seguros – sp (segunda fase) (jan/2006 a dez/2007)\n- consultor funcional/técnico e líder técnico:\n- construção de especificações funcionais e técnicas para os gaps\n- construção de especificações funcionais e técnicas para as interfaces\n- desenvolvimento de gaps\n- desenvolvimento de interfaces entre peoplesoft e sistema legado\n- construção da documentação técnica\n- capacitação de novos consultores\n- treinamento do usuário nos processos de interface\n\n\nbrazilcap - rj – jul/2009 a fev/2011\n- suporte funcional e técnico ao ambiente de produção e implementação de novas melhorias. revisão e reconstrução dos processos críticos do peoplesoft erp e hr:\n- revisão dos processos de produção\n- suporte as demandas de produção\n- construção e desenvolvimento de especificações e gaps para os módulos: ap, gl, am e hr\n- coordenação interna de treinamento técnico para a equipe técnica e novos empregados nos processos peoplesoft.\n- confeccionar especificações para a implementação do sap e desligamento do peoplesoft\n- construção de um novo processo de interface para o ap usando java\n- administração de entrevistas com consultorias externas para a implementação do sap\n\n\nogeda it solutions – sp – jul/2004 a ago/2005\n- primeira fase da implementação do peoplesoft financial 8.20 na porto seguro seguros – sp. substituição do sistema legado construído em 4gl pelo oracle peoplesoft:\n- identificação de novas funcionalidades\n- construção de especificações funcionais e técnicas para os gaps\n- construção de especificações funcionais e técnicas para as interfaces\n- desenvolvimento de gaps\n- desenvolvimento de interfaces entre peoplesoft e sistema legado\n\n\natos origin/peoplefriend – rj – dez/2003 a jun/2004\n- suporte a produção na shell brasil:\n- suporte as demandas de produção\n- extração e importação de dados com o data mover para o peoplesoft hr\n- desenvolvimento de novos gaps\n- extração de dados do peoplesoft para a base de dados do sap\n\n\nadoption/hg global – rj – mar/2003 a nov/2003\n- implementação do peoplesoft erp e crm e construção da integração entre as duas soluções na aga linde healthcare\n- análise de gaps\n- definição das tabelas depara para a interface\n- desenvolvimento de especificações técnicas\n- desenvolvimento de gaps no erp e crm\n- desenvolvimento dos programas de interface com sqr para o erp e o crm (cliente, contratos e field service)\n\n\natos origin/peoplefriend – rj – jun/2002 a fev/2003\n- suporte a produção na shell brasil:\n- suporte as demandas de produção\n- desenvolvimento e manutenção de sqr e peoplecode\n\n\nhqs consulting – rj/sp – dez/1999 a fev/2002\n- suporte ao peoplesoft hr de produção na michellin – rj. atuei em parceria técnica com a deloitte:\n- desenvolvimento de novos relatórios utilizando sqr e crystal report\n- desenvolvimento de novas querys com o query manager\n- importação de dados com o data mover\n\n- implementação da suíte financeira do peoplesoft 7.5 em parceria com a pricewaterhousecoopers na mbr - bh:\n- desenvolvimento de novos gaps para o ap, ar e tr.\n- desenvolvimento de novos relatórios com sqr e crystal report\n- desenvolvimento de interface para o ap e ar\n- coordenação de atividades técnicas\n\n- suporte ao peoplesoft hr 7.5 de produção em parceria com a hunter group na gm (general motors) - sp:\n- desenvolvimento de novos relatórios com sqr e crystal report\n- extração de dados para a equipe de sap\n\n- suporte técnico ao peoplesoft 7.5 de produção na sul américa seguros - rj:\n- desenvolvimento de novos relatórios com nvision e query manager\n- revisão e reconstrução da árvore de departamentos\n\n- suporte técnico ao peoplesoft 7.5 de produção na companhia de seguros aliança do brasil - rj:\n- desenvolvimento de gaps para: ap, ar, po, gl e hr\n- desenvolvimento de novas interfaces para: ap, ar, po, gl e hr\n",
         "",
         "",
         "(21) 96332-6963",
         "Liderança / Desenvolvimento",
         "17-03-2021 09:41:10",
         "Juliana Cassiano",
         "sra._yasmin_fernandes@hotmail.com",
         "São Paulo, São Paulo",
         "Site de Empregos",
         "12-04-2021 12:15:57",
         "25364",
         "Sra. Yasmin Fernandes",
         "Cadastro anterior ao registro de aceite",
         "Sra. Yasmin Fernandes",
         "",
         "Site de Empregos: APINFO / Linkedin",
         "sra._yasmin_fernandes@hotmail.com",
         "",
         "31-01-1973",
         "(21) 96332-6963",
         "",
         "Masculino",
         "Casado",
         "Não",
         "são paulo",
         "",
         "",
         "",
         "Liderança / Desenvolvimento",
         "TI - Projetos",
         "- PeopleSoft (PeopleTools 8.49, 8.53, 8.55, 8.57 PeopleCode, SQR, Crystal, XML Publisher, Query Manager, App Engine, App Package, Process Scheduler, Segurança, App Message, Integration Broker, Workflow, Tree Manager) - PeopleSoft FSCM 8.9, 9.1 HCM 9.0, 9.2, CRM e CS - Microsoft Visual Basic, Java, XML, JavaScript, HTML, CSS, JQuery, Python - Windows, Linux, Unix - Microsoft SQL Server, Microsoft Access, MySql, Oracle. - Oracle PL/SQL, Procedures, Triggers e Functions. - Oracle OIC",
         "",
         "- Capacitação PeopleSoft (Formação Técnica) – PeopleSoft -1999 - Segurança da Informação – BrasilCap – 2009 - AD (Administração de Dados) BrasilCap– 2010 - Oracle HCM Cloud 2019 Sales Specialist Assessment – Ago-2020 - Oracle HCM Cloud Solution Engineer Specialist – Jul-2020 - Scrum Foundation Professional Certificate (SPFC) – CertiProf – Jul-2020 - Oracle Integration Cloud Services OIC – Oracle ICS – Udemy – Dez-2020",
         "15.000 - Mensal PJ",
         "",
         "Ensino Superior Completo",
         "Avançado",
         "Intermediário",
         "-",
         "",
         "Tecnologia da Informação",
         "1995",
         null,
         null,
         null,
         null,
         null,
         null,
         null,
         null,
         null,
         null,
         null,
         null,
         null,
         null
        ],
        [
         "3",
         "Alexia Barbosa",
         "25360",
         "Encaminhado ao Requisitante",
         "17-03-2021",
         "17-03-2021",
         "",
         "Juliana Cassiano",
         "4531",
         "2021-2607395-PeopleSoft Application Engine-Domain Consultant",
         "",
         "informações pessoais\n estado civil: casado\n nacionalidade: brasileiro\n idade: 37 anos\nobjetivo\n trabalhar com sistemas de oracle peoplesoft.\nocupação\n02/2012 à a atual owner -eder figueiro louzada me.\n\ndigisystem (01/2016 até data atual)\n suporte ao produto campus solution;\n analise junto com o cliente para melhoria da área de negócios;\n desenvolvimento de novas melhorias.\nprincipal cliente:\n• senac são paulo.\n\nfreelance (01/2018 até 03/2019)\n implantação hrms – e-social;\n desenvolvimento gap – pôs implantação;\n suporte ao produto;\n• obs: peopletools 8.55/hrms 9.2\n\nquanam (11/2014 até 12/2015)\n desenvolvimento de gaps;\n interface com sistemas legados;\n acompanhamento de entregas do projeto;\n correções de bugs no produto.\n\nprincipal cliente:\n• cultura inglesa.\n\ndigisystem (02/2012 até 11/2014)\n trabalhos pontuais como consultor técnico, desenvolvendo relatórios oracle bi publisher;\n trabalhos em ae de alto desempenho;\n suporte ao produto campus solution;\n desenvolvimento de application package para uso em comum de diversos relatórios e interfaces no oracle-peoplesoft campus solution.\n\nprincipais clientes:\n• senac rio e senac são paulo.\n\n10/2009 à 02/2012 hqs.\n\nconsultor peoplesoft\n projeto alocação no cliente: apoio a projeto time and labor vrs 9.0; ae timeadmin processo de administração de regras do gerenciamento de horas de acordo com portaria 1510;\n projeto alocação no cliente: ep e vc, criação de documento próprio para avaliação dos empregados da telefônica e distribuição de proventos rv para determinada grade de funcionários de acordo com avaliação gerencial e equipe; peopletools, ae, wf e app. package.\n projeto de homologação de interfaces do peoplesoft com sistemas legados através do integration broken, webservice do campus solution e hrms oracle peoplesoft.\n integração através de arquivos entre o peoplesoft e dezenas de sistemas legados no cliente wal mart, líder na implantação de nos módulos de saúde e segurança, treinamento e administração força de trabalho.\n alocação no cliente tokio marine, atividade de suporte e melhorias, dia a dia com o cliente e todas as áreas do call center e ti (crm peoplesoft);\n\nprincipais clientes:\n• telefônica, banco safra, universidade anhanguera, wtorre, wal mart, tokio marine e vale.\n\n02/2007 à 10/2009 cpmbraxis.\n\nconsultor peoplesoft\n suporte: atendimento de demandas; correção de relatório crystal ou sqr; acerto de processos sqr ou application engine; analise de processos rh e acertos técnicos;\n analise de sistemas: analise de erros junto com os usuários do sistema de controle de terceiros, usado no cliente para controle de todos os terceiros/contratos no sistema peoplesoft hr.\n alocação no cliente: projeto de benefícios atuando desde o entendimento a customização;\n\nconsultor abap\n suporte: atendimento de incidentes e pequenas melhorias; analise de dados no sap; erros em processos; depuração de códigos z; relatórios write e alv; construção de interfaces; formulários sapscript e smartform; exits; fórmulas;\n\nprincipais clientes:\n• brasiltelecom; oi; syngenta; oesp; visavale; suzano; forluz; itaúsa; eleb; embraco; avon.\n01/2005 à 02/2007 nova era consultores ltda.\n\nconsultor peoplesoft\n suporte: atendimento primeiro nível; atendimento técnico, atendimento funcional e suporte em interfaces entre sistema crm e sistemas legados;\n infra estrutura: configuração de usuários; workflow ; configuração de gateway; levantamento de fixes e bundle; migração de projetos e configuração de portal.\n\nprincipais clientes:\n• smart.net; vr; trama; mitsubishi; trevisan; cst.\nformação\n2006 universidade presbiteriana mackenzie\nsuperior completo\n sistemas de informação\nhtml, c, c++, cobol, vbscript, delphi e visual basic.\nidiomas\n inglês – intermediário\n espanhol – básico\ncursos\n peopletolls i e ii – nova era consultores;\n peoplecode basic – nova era consultores;\n workshop tesouraria 8.0 – nova era consultores;\n abap – cpmbraxis;\n apf – analise de ponto de função – cpmbrasil;\n abap objects – poo – cpmbraxis;\n bpel – over view – hqs consulting;\n change impact analyser – hqs consulting;\n change assistant – hqs consulting;\n benefícios hrms – hqs consulting;\n overview do produto campus solution financeiro – oracle.\n",
         "",
         "",
         "(11) 97744-8180",
         "",
         "17-03-2021 08:20:21",
         "Juliana Cassiano",
         "alexia_barbosa@hotmail.com",
         "",
         "",
         "17-03-2021 08:20:21",
         "25360",
         "Alexia Barbosa",
         "Cadastro anterior ao registro de aceite",
         "Alexia Barbosa",
         "",
         ":",
         "alexia_barbosa@hotmail.com",
         "",
         "0000-00-00",
         "(11) 97744-8180",
         "",
         "",
         "",
         "",
         "",
         "",
         "",
         "",
         "",
         "",
         "",
         "",
         "",
         "",
         "",
         "",
         "",
         "",
         "-",
         null,
         null,
         null,
         null,
         null,
         null,
         null,
         null,
         null,
         null,
         null,
         null,
         null,
         null,
         null,
         null,
         null
        ],
        [
         "4",
         "Arthur Almeida",
         "26338",
         "Contratado pela Decision",
         "29-04-2021",
         "18-05-2021",
         "",
         "Stella Vieira",
         "4533",
         "2021-2605708-Microfocus Application Life Cycle Management - HP Quality Center-Engineering Lead",
         "",
         "solteiro, brasileiro, 21/06/1987\nhabilitação categoria “ab”\nobjetivo\n\natuar em times ágeis, conseguir levar os valores que acredito serem essenciais em termos de qualidade em projetos de software e provar o quanto isso é benéfico para o processo de desenvolvimento de um produto.\najudar um time a cuidar da qualidade, do que é desenvolvido é extremamente gratificante.\n\nformação acadêmica\n\n● superior em analise e desenvolvimento de sistemas (faculdade anhanguera) 4º\n● 2º grau técnico em informática no colégio brasileiro\ncursos extracurriculares\n\ninformática:\nwindows (usuário avançado), linux (usuário comum) word, excel, power point, access, internet, banco de dados (mysql, oracle, sql server), plsql, redes (servidor ad, squid), montagem e manutenção, visual basic, lógica de programação, html, java.\n\n● inglês - intermediário.\n● espanhol - intermediário.\n\nexperiências profissionais\n\n\n\nempresa:\nwipro solutions\nperíodo: de 05/2021 até a presente data\nprincipais atividades: ● desenvolvimento de testes automatizados com java e selenium\ndesenvolvimento de testes automatizados com cypress\ndesenvolvimento de esteira contínua, utilizando o jenkins\n● definições de tilhas de treinamento.\n● liderança de diversas equipes de testes automatizados.\n● liderança em células ágeis como scrum master.\n● construção de poc em clientes.\n● implementação da arquitetura de testes automatizados.\n● testes automatizados em plataformas mobile (android e ios).\n● implementação de mobile farm local.\n● implementação de devicefarm aws\n● definição da visão, estratégia e objetivos do time de qa;\n● alinhamento de responsabilidades;\n● desenvolvimento e execução de casos de testes (priorizando a automação);\n● desenvolvimento de documentação dos testes automatizados\n● execução de testes regressão, funcionais, aceitação e validação de versão nos sistemas web e mobile\n● gerenciamento banco de dados\n● gerenciamento de atividades através do scrum e kanbam.\n● tecnologias utilizadas: ruby, java, selenium, calabash, capybara, appium, cucumber,vb.net, hp uft, silk test, banco de dados oracle, sql, sqlite, git, maven, ibm rqm, ibm rtc.\n\n\n\nempresa:\ncognizant\nperíodo: de 04/2020 até 04/2021\nprincipais atividades: ● contratação, criação de equipes.\n● definições de tilhas de treinamento.\n● evangelização da visão da qualidade dentro da área de produtos & engenharia ajudando no fortalecimento da cultura pró-cliente;\n● pré-vendas técnico.\n● consultoria técninca - continuous testing.\n● liderança de diversas equipes de testes automatizados.\n● liderança em células ágeis como scrum master.\n● definição de kpi's.\n● construção de poc em clientes.\n● implementação da arquitetura de testes automatizados.\n● testes automatizados em plataformas mobile (android e ios).\n● implementação de mobile farm local.\n● implementação de devicefarm aws\n● desenvolvimento de testes automatizados mobile, utilizando java, intellij, maven e padrão page object.\n● condução do desenvolvimento de analistas da qualidade;\n● seleção e treinamento;\n● definição da visão, estratégia e objetivos do time de qa;\n● alinhamento de responsabilidades;\n● monitoramentos e métricas do qa chapter;\n● desenvolvimento e execução de casos de testes (priorizando a automação);\n● antecipação de problemas e riscos na apresentação das novas funcionalidades;\n● desenvolvimento de documentação dos testes automatizados\n● execução de testes regressão, funcionais, aceitação e validação de versão nos sistemas web e mobile\n● gerenciamento banco de dados\n● gerenciamento de atividades através do scrum e kanbam.\n● tecnologias utilizadas: ruby, java, selenium, calabash, capybara, appium, cucumber,vb.net, hp uft, silk test, banco de dados oracle, sql, sqlite, git, maven, ibm rqm, ibm rtc.\n\n\n\nempresa:\nsigga\nperíodo: de 06/2019 até 04/2020\nprincipais atividades: ● desenvolvimento de testes automatizados mobile, utilizando java, intellij, maven e padrão page object com bdd.\n● desenvolvimento de api para massa de teste utilizando springboot.\n● execução de testes regressão, funcionais, aceitação e validação de versão nos sistemas.\n● registro de não conformidades e falhas do sistema no jira.\n● metodologia ágil nos projetos, banco de dados mysql, montagem de querys.\n● automação da plataforma sap\n● condução do desenvolvimento do time de qualidade;\n● seleção e treinamento;\n● evangelização da visão da qualidade dentro da área de produtos & engenharia ajudando no fortalecimento da cultura pró-cliente;\n● definição da visão, estratégia e objetivos do time de qa;\n● alinhamento de responsabilidades;\n● monitoramentos e métricas do qa chapter;\n● desenvolvimento e execução de casos de testes (priorizando a automação);\n● antecipação de problemas e riscos na apresentação das novas funcionalidades;\n● reporte de bugs e problemas de forma clara mantendo o backlog atualizado.\n● desenvolvimento de documentação dos testes automatizados\n● instalação e configuração de todo ambiente do team city para integração continuam dentro do azure\n● execução de testes regressão, funcionais, aceitação e validação de versão nos sistemas web, desktop e mobilei\n● gerenciamento banco de dados, montagem de querys, desenvolvimento de relatórios\n● gerenciamento de atividades através do scrum e kanbam.\n\n\n\nempresa:\ntake\nperíodo: de 06/2019 até 10/2019\nprincipais atividades: ● automação de testes utilizando selenium webdriver com java;\n● condução do desenvolvimento de analistas da qualidade;\n● seleção e treinamento;\n● evangelização da visão da qualidade dentro da área de produtos & engenharia ajudando no fortalecimento da cultura pró-cliente;\n● definição da visão, estratégia e objetivos do time de qa;\n● alinhamento de responsabilidades;\n● monitoramentos e métricas do qa chapter;\n● desenvolvimento e execução de casos de testes (priorizando a automação);\n● antecipação de problemas e riscos na apresentação das novas funcionalidades;\n● reporte de bugs e problemas de forma clara mantendo o backlog atualizado.\n● desenvolvimento de documentação dos testes automatizados\n● instalação e configuração de todo ambiente do team city para integração continuam dentro do azure\n● execução de testes regressão, funcionais, aceitação e validação de versão nos sistemas web, desktop e mobile\n● testes de serviços utilizando soapui\n● gerenciamento banco de dados, montagem de querys, desenvolvimento de relatórios\n● gerenciamento de atividades através do scrum e kanbam.\n\n\n\nempresa:\n123milhas\nperíodo: de 06/2018 até 05/2019\nprincipais atividades: ● desenvolvimento de teste automatizados, utilizando selenium webdriver com java e page object\n● eclipse integrado com maven\n● desenvolvimento de documentação dos testes automatizados\n● desenvolvimento de testes integrados\n● instalação e configuração de todo ambiente do jenkins para integração continuam dentro da aws\n● integração testes automatizados com jenkins\n● execução de testes regressão, funcionais, aceitação e validação de versão nos sistemas web, desktop e mobile\n● registro de não conformidades e falhas do sistema utilizando jira\n● criação de casos de testes a partir dos requisitos de sistema utilizando jira\n● testes de serviços utilizando soapui\n● geração de evidências, entregáveis para o cliente, utilizando metodologia ágil em todos os projetos\n● gerenciamento banco de dados mysql, montagem de querys, desenvolvimento de relatórios\n● gerenciamento de equipe\n● gerenciamento de atividades através do kanbam\n● gerenciamento de atividades através do scrum\n\n● atuação em projetos utilizando metodologia ágil\n● elaboração e criação de cenários de testes (formato bdd)\n● execução de testes de serviços\n● execução testes de segurança\n● execução de testes automatizados\n\n● ferramentas utilizadas:\n● gerenciamento de testes: jira, testrail\n● registro de bugs: jira, testrail\n● automação: eclipse, selenium webdriver, cypress, appium.\n● teste de serviços: soapui.\n● teste de performance: jmeter.\n● banco de dados: mysql, oracle.\n\n\n\nempresa:\nsysmap solutions\nperíodo: de 10/2015 até 05/2018\nprincipais atividades: ● execução de testes regressão, funcionais, aceitação e validação de versão nos sistemas web, desktop e mobile.\n● registro de não conformidades e falhas do sistema nas ferramentas mantis, jira(kanban), hpqc.\n● criação de casos de testes a partir dos requisitos de sistema nas ferramentas testlink e hpqc.\n● testes de serviços nas ferramentas osb, bpel, soapui, splunk.\n● geração de evidências, entregáveis para o cliente, utilizando metodologia ágil em todos os projetos.\n● gerenciamento banco de dados oracle, montagem de querys, desenvolvimento de relatórios em plsql, desenvolvimento de procedures.\n● teste de etls na ferramenta power center.\n\n● atuação em projetos utilizando metodologia ágil.\n● elaboração de plano de teste; elaboração de casos de testes;\n● execução de testes funcionais em plataformas sharepoint, java, .net, power center.\n● execução de testes de serviços;\n● execução testes de segurança;\n● execução de testes automatizados;\n\n● ferramentas utilizadas:\n● gerenciamento de testes: ibm - rqm (quality management),tfs, jira, test link.\n● registro de bugs: mantis, jira, hpqc.\n● automação: eclipse, selenium ide, selenium webdriver, cucumber;\n● teste de serviços: soapui, osb, bpel;\n● teste de performance: jmeter.\n● banco de dados: oracle, mysql, sql, sybase;\n\n\nempresa:\nbionexo do brasil\nperíodo: de 11/2013 até 08/2015\nprincipais atividades: ● gerenciamento banco de dados oracle dos clientes.\n● realizar integração entre banco de dados do cliente através de xml, utilizando web service.\n● gerenciamento dos arquivos xml, utilizando soapui.\n● fazer o levantamento dos processos de t.i e da infraestrutura utilizada, para obter o melhor tipo de integração.\n● atuação de primeiro nível, sistema eclipse.\n● coordenar e instruir funcionários da t.i, durante a integração dos sistemas.\n● manutenção direta no banco de dados da plataforma de cotações online.\n● gerenciar e coordenar projetos de grande porte, envolvendo várias empresas.\n● criar documentação de novas versões, criar relatórios de atividades diárias.\n● desenvolvimento de relatórios operacionais em plsql.\n● executar testes de média e alta complexidade conforme planejado, obtendo evidências das execuções e registrando os resultados.\n● registrar os bugs identificados, categorizando-os quanto à sua severidade e origem.\n\n\nempresa:\ncolpany temper\nperíodo: de 02/2013 até 11/2013\nprincipais atividades: ● gerenciar o levantamento de informações técnicas, possibilidades de bloqueio de acesso a determinados usuários.\n● conferir relatórios, dados diversos e formas de alterações, propondo o uso de códigos de acesso.\n● verificar toda a documentação que envolve as informações de entrada de dados.\n● analisar e aprovar os manuais de serviços utilizados pelo usuário\n● gerenciamento do sistema erp.\n\n\nempresa:\nsync softwares\nperíodo: de 07/2012 até 02/2013\nprincipais atividades: ● implantação e consultoria de sistema erp.\n● realização de palestras para apresentação do sistema em empresa de grande porte.\n● realização de treinamentos em grandes empresas.\n● identificar o funcionamento da empresa para que o sistema seja implantado da melhor forma.\n● criação de vídeos para facilitar o uso e o treinamento do sistema.\n● coordenar e instruir funcionários iniciantes durante a implantação.\n",
         "",
         "",
         "(31) 92702-5791",
         "",
         "27-04-2021 13:12:34",
         "Stella Vieira",
         "arthur_almeida@gmail.com",
         "",
         "",
         "25-11-2022 11:04:15",
         "26338",
         "Arthur Almeida",
         "25/11/2022 11:04",
         "Arthur Almeida",
         "",
         ":",
         "arthur_almeida@gmail.com",
         "",
         "0000-00-00",
         "(31) 92702-5791",
         "",
         "",
         "",
         "",
         "",
         "",
         "",
         "",
         "",
         "",
         "",
         "",
         "",
         "",
         "",
         "",
         "",
         "",
         "-",
         null,
         null,
         null,
         null,
         null,
         null,
         null,
         null,
         null,
         null,
         null,
         null,
         null,
         null,
         null,
         null,
         null
        ]
       ],
       "shape": {
        "columns": 67,
        "rows": 5
       }
      },
      "text/html": [
       "<div>\n",
       "<style scoped>\n",
       "    .dataframe tbody tr th:only-of-type {\n",
       "        vertical-align: middle;\n",
       "    }\n",
       "\n",
       "    .dataframe tbody tr th {\n",
       "        vertical-align: top;\n",
       "    }\n",
       "\n",
       "    .dataframe thead th {\n",
       "        text-align: right;\n",
       "    }\n",
       "</style>\n",
       "<table border=\"1\" class=\"dataframe\">\n",
       "  <thead>\n",
       "    <tr style=\"text-align: right;\">\n",
       "      <th></th>\n",
       "      <th>nome_tabelaprospect</th>\n",
       "      <th>id_candidato</th>\n",
       "      <th>situacao_candidado</th>\n",
       "      <th>data_candidatura</th>\n",
       "      <th>ultima_atualizacao</th>\n",
       "      <th>comentario</th>\n",
       "      <th>recrutador</th>\n",
       "      <th>id_vaga</th>\n",
       "      <th>titulo</th>\n",
       "      <th>modalidade</th>\n",
       "      <th>...</th>\n",
       "      <th>id_ibrati</th>\n",
       "      <th>email_corporativo</th>\n",
       "      <th>cargo_atual</th>\n",
       "      <th>projeto_atual</th>\n",
       "      <th>cliente</th>\n",
       "      <th>unidade</th>\n",
       "      <th>data_admissao</th>\n",
       "      <th>data_ultima_promocao</th>\n",
       "      <th>nome_superior_imediato</th>\n",
       "      <th>email_superior_imediato</th>\n",
       "    </tr>\n",
       "  </thead>\n",
       "  <tbody>\n",
       "    <tr>\n",
       "      <th>0</th>\n",
       "      <td>José Vieira</td>\n",
       "      <td>25632</td>\n",
       "      <td>Encaminhado ao Requisitante</td>\n",
       "      <td>25-03-2021</td>\n",
       "      <td>25-03-2021</td>\n",
       "      <td>Encaminhado para  - PJ R$ 72,00/hora</td>\n",
       "      <td>Ana Lívia Moreira</td>\n",
       "      <td>4530</td>\n",
       "      <td>CONSULTOR CONTROL M</td>\n",
       "      <td></td>\n",
       "      <td>...</td>\n",
       "      <td>NaN</td>\n",
       "      <td>NaN</td>\n",
       "      <td>NaN</td>\n",
       "      <td>NaN</td>\n",
       "      <td>NaN</td>\n",
       "      <td>NaN</td>\n",
       "      <td>NaN</td>\n",
       "      <td>NaN</td>\n",
       "      <td>NaN</td>\n",
       "      <td>NaN</td>\n",
       "    </tr>\n",
       "    <tr>\n",
       "      <th>1</th>\n",
       "      <td>Srta. Isabela Cavalcante</td>\n",
       "      <td>25529</td>\n",
       "      <td>Encaminhado ao Requisitante</td>\n",
       "      <td>22-03-2021</td>\n",
       "      <td>23-03-2021</td>\n",
       "      <td>encaminhado para  - R$ 6.000,00 – CLT Full , n...</td>\n",
       "      <td>Ana Lívia Moreira</td>\n",
       "      <td>4530</td>\n",
       "      <td>CONSULTOR CONTROL M</td>\n",
       "      <td></td>\n",
       "      <td>...</td>\n",
       "      <td>NaN</td>\n",
       "      <td>NaN</td>\n",
       "      <td>NaN</td>\n",
       "      <td>NaN</td>\n",
       "      <td>NaN</td>\n",
       "      <td>NaN</td>\n",
       "      <td>NaN</td>\n",
       "      <td>NaN</td>\n",
       "      <td>NaN</td>\n",
       "      <td>NaN</td>\n",
       "    </tr>\n",
       "    <tr>\n",
       "      <th>2</th>\n",
       "      <td>Sra. Yasmin Fernandes</td>\n",
       "      <td>25364</td>\n",
       "      <td>Contratado pela Decision</td>\n",
       "      <td>17-03-2021</td>\n",
       "      <td>12-04-2021</td>\n",
       "      <td>Data de Inicio: 12/04/2021</td>\n",
       "      <td>Juliana Cassiano</td>\n",
       "      <td>4531</td>\n",
       "      <td>2021-2607395-PeopleSoft Application Engine-Dom...</td>\n",
       "      <td></td>\n",
       "      <td>...</td>\n",
       "      <td>NaN</td>\n",
       "      <td>NaN</td>\n",
       "      <td>NaN</td>\n",
       "      <td>NaN</td>\n",
       "      <td>NaN</td>\n",
       "      <td>NaN</td>\n",
       "      <td>NaN</td>\n",
       "      <td>NaN</td>\n",
       "      <td>NaN</td>\n",
       "      <td>NaN</td>\n",
       "    </tr>\n",
       "    <tr>\n",
       "      <th>3</th>\n",
       "      <td>Alexia Barbosa</td>\n",
       "      <td>25360</td>\n",
       "      <td>Encaminhado ao Requisitante</td>\n",
       "      <td>17-03-2021</td>\n",
       "      <td>17-03-2021</td>\n",
       "      <td></td>\n",
       "      <td>Juliana Cassiano</td>\n",
       "      <td>4531</td>\n",
       "      <td>2021-2607395-PeopleSoft Application Engine-Dom...</td>\n",
       "      <td></td>\n",
       "      <td>...</td>\n",
       "      <td>NaN</td>\n",
       "      <td>NaN</td>\n",
       "      <td>NaN</td>\n",
       "      <td>NaN</td>\n",
       "      <td>NaN</td>\n",
       "      <td>NaN</td>\n",
       "      <td>NaN</td>\n",
       "      <td>NaN</td>\n",
       "      <td>NaN</td>\n",
       "      <td>NaN</td>\n",
       "    </tr>\n",
       "    <tr>\n",
       "      <th>4</th>\n",
       "      <td>Arthur Almeida</td>\n",
       "      <td>26338</td>\n",
       "      <td>Contratado pela Decision</td>\n",
       "      <td>29-04-2021</td>\n",
       "      <td>18-05-2021</td>\n",
       "      <td></td>\n",
       "      <td>Stella Vieira</td>\n",
       "      <td>4533</td>\n",
       "      <td>2021-2605708-Microfocus Application Life Cycle...</td>\n",
       "      <td></td>\n",
       "      <td>...</td>\n",
       "      <td>NaN</td>\n",
       "      <td>NaN</td>\n",
       "      <td>NaN</td>\n",
       "      <td>NaN</td>\n",
       "      <td>NaN</td>\n",
       "      <td>NaN</td>\n",
       "      <td>NaN</td>\n",
       "      <td>NaN</td>\n",
       "      <td>NaN</td>\n",
       "      <td>NaN</td>\n",
       "    </tr>\n",
       "  </tbody>\n",
       "</table>\n",
       "<p>5 rows × 67 columns</p>\n",
       "</div>"
      ],
      "text/plain": [
       "        nome_tabelaprospect id_candidato           situacao_candidado  \\\n",
       "0               José Vieira        25632  Encaminhado ao Requisitante   \n",
       "1  Srta. Isabela Cavalcante        25529  Encaminhado ao Requisitante   \n",
       "2     Sra. Yasmin Fernandes        25364     Contratado pela Decision   \n",
       "3            Alexia Barbosa        25360  Encaminhado ao Requisitante   \n",
       "4            Arthur Almeida        26338     Contratado pela Decision   \n",
       "\n",
       "  data_candidatura ultima_atualizacao  \\\n",
       "0       25-03-2021         25-03-2021   \n",
       "1       22-03-2021         23-03-2021   \n",
       "2       17-03-2021         12-04-2021   \n",
       "3       17-03-2021         17-03-2021   \n",
       "4       29-04-2021         18-05-2021   \n",
       "\n",
       "                                          comentario         recrutador  \\\n",
       "0               Encaminhado para  - PJ R$ 72,00/hora  Ana Lívia Moreira   \n",
       "1  encaminhado para  - R$ 6.000,00 – CLT Full , n...  Ana Lívia Moreira   \n",
       "2                         Data de Inicio: 12/04/2021   Juliana Cassiano   \n",
       "3                                                      Juliana Cassiano   \n",
       "4                                                         Stella Vieira   \n",
       "\n",
       "  id_vaga                                             titulo modalidade  ...  \\\n",
       "0    4530                                CONSULTOR CONTROL M             ...   \n",
       "1    4530                                CONSULTOR CONTROL M             ...   \n",
       "2    4531  2021-2607395-PeopleSoft Application Engine-Dom...             ...   \n",
       "3    4531  2021-2607395-PeopleSoft Application Engine-Dom...             ...   \n",
       "4    4533  2021-2605708-Microfocus Application Life Cycle...             ...   \n",
       "\n",
       "  id_ibrati email_corporativo cargo_atual projeto_atual cliente unidade  \\\n",
       "0       NaN               NaN         NaN           NaN     NaN     NaN   \n",
       "1       NaN               NaN         NaN           NaN     NaN     NaN   \n",
       "2       NaN               NaN         NaN           NaN     NaN     NaN   \n",
       "3       NaN               NaN         NaN           NaN     NaN     NaN   \n",
       "4       NaN               NaN         NaN           NaN     NaN     NaN   \n",
       "\n",
       "  data_admissao data_ultima_promocao nome_superior_imediato  \\\n",
       "0           NaN                  NaN                    NaN   \n",
       "1           NaN                  NaN                    NaN   \n",
       "2           NaN                  NaN                    NaN   \n",
       "3           NaN                  NaN                    NaN   \n",
       "4           NaN                  NaN                    NaN   \n",
       "\n",
       "  email_superior_imediato  \n",
       "0                     NaN  \n",
       "1                     NaN  \n",
       "2                     NaN  \n",
       "3                     NaN  \n",
       "4                     NaN  \n",
       "\n",
       "[5 rows x 67 columns]"
      ]
     },
     "execution_count": 50,
     "metadata": {},
     "output_type": "execute_result"
    }
   ],
   "source": [
    "df_inter.head()"
   ]
  },
  {
   "cell_type": "code",
   "execution_count": 39,
   "id": "33a0fdec",
   "metadata": {},
   "outputs": [
    {
     "name": "stdout",
     "output_type": "stream",
     "text": [
      "<class 'pandas.core.frame.DataFrame'>\n",
      "Int64Index: 53759 entries, 0 to 53758\n",
      "Columns: 111 entries, nome_tabelaprospect to nome_substituto\n",
      "dtypes: object(111)\n",
      "memory usage: 45.9+ MB\n"
     ]
    }
   ],
   "source": [
    "df_geral.info() ##53759\n",
    "# df_prospects.info() ##53759 "
   ]
  },
  {
   "cell_type": "code",
   "execution_count": 51,
   "id": "40ccdc8e",
   "metadata": {},
   "outputs": [
    {
     "data": {
      "text/plain": [
       "['nome_tabelaprospect',\n",
       " 'id_candidato',\n",
       " 'situacao_candidado',\n",
       " 'data_candidatura',\n",
       " 'ultima_atualizacao',\n",
       " 'comentario',\n",
       " 'recrutador',\n",
       " 'id_vaga',\n",
       " 'titulo',\n",
       " 'modalidade',\n",
       " 'cv_pt',\n",
       " 'cv_en',\n",
       " 'telefone_recado',\n",
       " 'telefone',\n",
       " 'objetivo_profissional',\n",
       " 'data_criacao',\n",
       " 'inserido_por',\n",
       " 'email',\n",
       " 'local',\n",
       " 'sabendo_de_nos_por',\n",
       " 'data_atualizacao',\n",
       " 'codigo_profissional',\n",
       " 'nome_tabelaapplicant',\n",
       " 'data_aceite',\n",
       " 'nome_tabelaapplicant',\n",
       " 'cpf',\n",
       " 'fonte_indicacao',\n",
       " 'email',\n",
       " 'email_secundario',\n",
       " 'data_nascimento',\n",
       " 'telefone_celular',\n",
       " 'telefone_recado',\n",
       " 'sexo',\n",
       " 'estado_civil',\n",
       " 'pcd',\n",
       " 'endereco',\n",
       " 'skype',\n",
       " 'url_linkedin',\n",
       " 'facebook',\n",
       " 'titulo_profissional',\n",
       " 'area_atuacao',\n",
       " 'conhecimentos_tecnicos',\n",
       " 'certificacoes',\n",
       " 'outras_certificacoes',\n",
       " 'remuneracao',\n",
       " 'nivel_profissional',\n",
       " 'nivel_academico',\n",
       " 'nivel_ingles',\n",
       " 'nivel_espanhol',\n",
       " 'outro_idioma',\n",
       " 'instituicao_ensino_superior',\n",
       " 'cursos',\n",
       " 'ano_conclusao',\n",
       " 'download_cv',\n",
       " 'qualificacoes',\n",
       " 'experiencias',\n",
       " 'outro_curso',\n",
       " 'id_ibrati',\n",
       " 'email_corporativo',\n",
       " 'cargo_atual',\n",
       " 'projeto_atual',\n",
       " 'cliente',\n",
       " 'unidade',\n",
       " 'data_admissao',\n",
       " 'data_ultima_promocao',\n",
       " 'nome_superior_imediato',\n",
       " 'email_superior_imediato']"
      ]
     },
     "execution_count": 51,
     "metadata": {},
     "output_type": "execute_result"
    }
   ],
   "source": [
    "df_inter.columns.to_list()"
   ]
  },
  {
   "cell_type": "code",
   "execution_count": 47,
   "id": "883d10bf",
   "metadata": {},
   "outputs": [],
   "source": [
    "df_geral.to_csv(r\"C:\\\\Users\\\\pedro\\\\Documents\\\\Área de Trabalho\\\\tech_challenge_5_old\\\\01_dados_anonimizados_decision\\\\dados.csv\", encoding =\"utf8\" , sep=\";\" ,index=False)"
   ]
  }
 ],
 "metadata": {
  "kernelspec": {
   "display_name": ".venv",
   "language": "python",
   "name": "python3"
  },
  "language_info": {
   "codemirror_mode": {
    "name": "ipython",
    "version": 3
   },
   "file_extension": ".py",
   "mimetype": "text/x-python",
   "name": "python",
   "nbconvert_exporter": "python",
   "pygments_lexer": "ipython3",
   "version": "3.10.11"
  }
 },
 "nbformat": 4,
 "nbformat_minor": 5
}
