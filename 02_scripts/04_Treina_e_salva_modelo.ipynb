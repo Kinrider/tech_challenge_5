{
 "cells": [
  {
   "cell_type": "markdown",
   "id": "3dad11a0",
   "metadata": {},
   "source": [
    "# 04_Treina_e_salva_modelo"
   ]
  },
  {
   "cell_type": "markdown",
   "id": "3b6db920",
   "metadata": {},
   "source": [
    "## 01_import_bibliotecas"
   ]
  },
  {
   "cell_type": "code",
   "execution_count": 1,
   "id": "fb70edc5",
   "metadata": {},
   "outputs": [],
   "source": [
    "# 01. Importação de bibliotecas\n",
    "import pandas as pd\n",
    "import joblib\n",
    "import os\n",
    "from sklearn.cluster import KMeans\n"
   ]
  },
  {
   "cell_type": "markdown",
   "id": "9f9d77df",
   "metadata": {},
   "source": [
    "## 02_Carga_de_dados"
   ]
  },
  {
   "cell_type": "code",
   "execution_count": 2,
   "id": "07e48bd0",
   "metadata": {},
   "outputs": [],
   "source": [
    "# 02. Carregamento dos dados tratados (já imputados e escalonados)\n",
    "input = 'https://github.com/Kinrider/tech_challenge_5/raw/refs/heads/main/01_fontes/arquivos_decision/fontes_tratadas/02_input_Kmeans.parquet'\n",
    "df = pd.read_parquet(input)\n"
   ]
  },
  {
   "cell_type": "markdown",
   "id": "fe0edbd3",
   "metadata": {},
   "source": [
    "## 03_Treinando_modelo"
   ]
  },
  {
   "cell_type": "code",
   "execution_count": 3,
   "id": "681cdb63",
   "metadata": {},
   "outputs": [],
   "source": [
    "# 03. Treinar modelo KMeans\n",
    "kmeans = KMeans(n_clusters=4, random_state=42, n_init=10)\n",
    "df['cluster'] = kmeans.fit_predict(df)\n"
   ]
  },
  {
   "cell_type": "code",
   "execution_count": 4,
   "id": "4f0871e3",
   "metadata": {},
   "outputs": [],
   "source": [
    "# 04. Salvar colunas utilizadas no input do modelo\n",
    "colunas_usadas = df.drop(columns=['cluster']).columns.tolist()\n"
   ]
  },
  {
   "cell_type": "code",
   "execution_count": 5,
   "id": "5bfdc837",
   "metadata": {},
   "outputs": [],
   "source": [
    "# 05. Definir diretório de saída\n",
    "caminho_saida = r\"C:\\Users\\pedro\\Documents\\Área de Trabalho\\tech_challenge_5\\03_modelos\"\n",
    "os.makedirs(caminho_saida, exist_ok=True)\n"
   ]
  },
  {
   "cell_type": "code",
   "execution_count": 6,
   "id": "d7930382",
   "metadata": {},
   "outputs": [
    {
     "name": "stdout",
     "output_type": "stream",
     "text": [
      "✅ Modelo treinado e arquivos salvos com sucesso!\n",
      "📁 Caminho: C:\\Users\\pedro\\Documents\\Área de Trabalho\\tech_challenge_5\\03_modelos\n"
     ]
    }
   ],
   "source": [
    "# 06. Salvar arquivos\n",
    "joblib.dump(kmeans, os.path.join(caminho_saida, \"modelo_kmeans.joblib\"))\n",
    "joblib.dump(colunas_usadas, os.path.join(caminho_saida, \"colunas_usadas.joblib\"))\n",
    "df.to_parquet(os.path.join(caminho_saida, \"04_clusterizados.parquet\"), index=False)\n",
    "\n",
    "print(\"✅ Modelo treinado e arquivos salvos com sucesso!\")\n",
    "print(\"📁 Caminho:\", caminho_saida)"
   ]
  }
 ],
 "metadata": {
  "kernelspec": {
   "display_name": ".venv",
   "language": "python",
   "name": "python3"
  },
  "language_info": {
   "codemirror_mode": {
    "name": "ipython",
    "version": 3
   },
   "file_extension": ".py",
   "mimetype": "text/x-python",
   "name": "python",
   "nbconvert_exporter": "python",
   "pygments_lexer": "ipython3",
   "version": "3.10.11"
  }
 },
 "nbformat": 4,
 "nbformat_minor": 5
}
