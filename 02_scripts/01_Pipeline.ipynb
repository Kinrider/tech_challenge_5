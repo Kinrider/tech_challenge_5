{
 "cells": [
  {
   "cell_type": "markdown",
   "id": "02607fb8",
   "metadata": {},
   "source": [
    "# 01_Clusterizacao"
   ]
  },
  {
   "cell_type": "markdown",
   "id": "d65c4e23",
   "metadata": {},
   "source": [
    "## 01_import_bibliotecas"
   ]
  },
  {
   "cell_type": "code",
   "execution_count": null,
   "id": "3b91551b",
   "metadata": {},
   "outputs": [],
   "source": [
    "import pandas as pd\n",
    "import numpy as np\n",
    "import re\n",
    "from datetime import datetime\n",
    "from sklearn.feature_extraction.text import TfidfVectorizer\n",
    "from sklearn.decomposition import TruncatedSVD\n",
    "from sklearn.cluster import KMeans\n",
    "import pandas as pd\n",
    "import re\n",
    "from sentence_transformers import SentenceTransformer, util\n",
    "from sklearn.preprocessing import StandardScaler\n",
    "import joblib\n",
    "import os\n",
    "import matplotlib.pyplot as plt\n",
    "from sklearn.metrics import silhouette_score\n",
    "from sklearn.impute import SimpleImputer\n",
    "from sklearn.pipeline import Pipeline"
   ]
  },
  {
   "cell_type": "markdown",
   "id": "927932fe",
   "metadata": {},
   "source": [
    "## 02_Carga_de_dados"
   ]
  },
  {
   "cell_type": "code",
   "execution_count": null,
   "id": "6bfcaf8f",
   "metadata": {},
   "outputs": [],
   "source": [
    "applicants = 'https://github.com/Kinrider/tech_challenge_5/raw/refs/heads/main/01_fontes/arquivos_decision/fontes_tratadas/01_candidatos.parquet'"
   ]
  },
  {
   "cell_type": "code",
   "execution_count": null,
   "id": "1b8959a1",
   "metadata": {},
   "outputs": [],
   "source": [
    "df = pd.read_parquet(applicants)"
   ]
  },
  {
   "cell_type": "markdown",
   "id": "c6e8c6cd",
   "metadata": {},
   "source": [
    "## 03_Tratamento_Remuneracao"
   ]
  },
  {
   "cell_type": "code",
   "execution_count": null,
   "id": "ac00c7af",
   "metadata": {},
   "outputs": [],
   "source": [
    "# === Tratamento de remuneração ===\n",
    "def extrair_remuneracao_ajustada(texto):\n",
    "    if pd.isna(texto): return None\n",
    "    texto = str(texto).lower()\n",
    "\n",
    "    if any(x in texto for x in [\" dia\", \"/dia\", \"/ dia\"]):\n",
    "        periodicidade = \"dia\"\n",
    "    elif any(x in texto for x in [\"mês\", \"mensal\", \"mes\"]):\n",
    "        periodicidade = \"mes\"\n",
    "    elif any(x in texto for x in [\"p/hr\", \"p/h\", \"/h\", \"/ h\", \"hora\", \"hr\", \"hor\", \"h\"]):\n",
    "        periodicidade = \"hora\"\n",
    "    else:\n",
    "        periodicidade = \"desconhecida\"\n",
    "\n",
    "    if any(x in texto for x in [\"usd\", \"us$\", \"dolar\", \"us\", \"$\"]):\n",
    "        taxa = 5.0\n",
    "    elif any(x in texto for x in [\"euro\", \"€\"]):\n",
    "        taxa = 5.5\n",
    "    else:\n",
    "        taxa = 1.0\n",
    "\n",
    "    multiplicador = 1\n",
    "    if \"mil\" in texto or \"k\" in texto:\n",
    "        multiplicador = 1000\n",
    "\n",
    "    numeros = re.findall(r'\\d+[.,]?\\d*', texto)\n",
    "    if not numeros:\n",
    "        return None\n",
    "    valor_str = numeros[0]\n",
    "    if \",\" in valor_str and \".\" not in valor_str:\n",
    "        valor_str = valor_str.replace(\",\", \".\")\n",
    "    elif \".\" in valor_str and \",\" in valor_str:\n",
    "        valor_str = valor_str.replace(\".\", \"\").replace(\",\", \".\")\n",
    "\n",
    "    try:\n",
    "        valor_float = float(valor_str) * multiplicador\n",
    "    except:\n",
    "        return None\n",
    "\n",
    "    if periodicidade == \"desconhecida\":\n",
    "        if valor_float < 15:\n",
    "            valor_float *= 1518\n",
    "            periodicidade = \"mes\"\n",
    "        elif valor_float < 250:\n",
    "            periodicidade = \"hora\"\n",
    "        elif valor_float < 1000:\n",
    "            periodicidade = \"dia\"\n",
    "        else:\n",
    "            periodicidade = \"mes\"\n",
    "\n",
    "    if periodicidade == \"hora\": valor_mensal = valor_float * 30 * 8\n",
    "    elif periodicidade == \"dia\": valor_mensal = valor_float * 30\n",
    "    else: valor_mensal = valor_float\n",
    "\n",
    "    return round(valor_mensal * taxa, 2)\n",
    "\n",
    "df[\"remuneracao_mensal_brl\"] = df[\"remuneracao\"].apply(extrair_remuneracao_ajustada)\n",
    "# media = df[\"remuneracao_mensal_brl\"].mean()\n",
    "# std = df[\"remuneracao_mensal_brl\"].std()\n",
    "df[\"remuneracao_zscore\"] = df[\"remuneracao_mensal_brl\"]"
   ]
  },
  {
   "cell_type": "markdown",
   "id": "a5c672e9",
   "metadata": {},
   "source": [
    "## 04_Tratamento_objetivo"
   ]
  },
  {
   "cell_type": "markdown",
   "id": "15f4478c",
   "metadata": {},
   "source": [
    "### 4.1. Limpeza dos textos"
   ]
  },
  {
   "cell_type": "code",
   "execution_count": null,
   "id": "78726b62",
   "metadata": {},
   "outputs": [],
   "source": [
    "def limpar_texto(texto):\n",
    "    texto = str(texto).lower()\n",
    "    texto = re.sub(r'[^\\w\\s]', '', texto)\n",
    "    return re.sub(r'\\s+', ' ', texto).strip()\n",
    "\n",
    "df['texto_limpo'] = df['objetivo_profissional'].apply(limpar_texto)"
   ]
  },
  {
   "cell_type": "markdown",
   "id": "967a5a2b",
   "metadata": {},
   "source": [
    "### 4.2. Listas expandidas de categorias, subáreas e níveis"
   ]
  },
  {
   "cell_type": "code",
   "execution_count": null,
   "id": "fe04e47f",
   "metadata": {},
   "outputs": [],
   "source": [
    "categorias = [\n",
    "    \"Tecnologia da Informação\", \"Engenharia\", \"Financeiro / Contábil\", \"Comercial / Negócios\",\n",
    "    \"Consultoria / Projetos\", \"RH / Pessoas\", \"Marketing / Comunicação\", \"Jurídico\",\n",
    "    \"Educação / Treinamento\", \"Logística / Suprimentos\", \"Saúde\", \"Design / Criação\"\n",
    "]\n",
    "\n",
    "subareas = [\n",
    "    \"Desenvolvimento Frontend\", \"Desenvolvimento Backend\", \"Desenvolvimento Full Stack\",\n",
    "    \"Engenharia de Dados\", \"Análise de Dados\", \"Infraestrutura de TI\", \"UX/UI Design\",\n",
    "    \"Qualidade de Software / QA\", \"Gestão de Projetos Ágeis\", \"Sistemas Corporativos SAP / ERP / CRM\",\n",
    "    \"Recrutamento e Seleção\", \"Controladoria\", \"Contabilidade\", \"Vendas\", \"Gestão de Produtos\", \"Marketing Digital\"\n",
    "]\n",
    "\n",
    "niveis = [\n",
    "    \"Estagiário\", \"Trainee\", \"Júnior\", \"Pleno\", \"Sênior\", \"Especialista\", \"Analista\",\n",
    "    \"Consultor\", \"Líder\", \"Coordenador\", \"Gerente\", \"Diretor\", \"C-Level\"\n",
    "]"
   ]
  },
  {
   "cell_type": "markdown",
   "id": "69a336ce",
   "metadata": {},
   "source": [
    "### 4.4. Regras manuais simples por palavras-chave"
   ]
  },
  {
   "cell_type": "code",
   "execution_count": null,
   "id": "c5c22d03",
   "metadata": {},
   "outputs": [],
   "source": [
    "\n",
    "def regras_categoria(texto):\n",
    "    if any(p in texto for p in ['desenvolvedor', 'dev', 'programador', 'software', 'dados', 'cloud', 'infra']):\n",
    "        return \"Tecnologia da Informação\"\n",
    "    if any(p in texto for p in ['financeiro', 'contábil', 'controladoria']):\n",
    "        return \"Financeiro / Contábil\"\n",
    "    if any(p in texto for p in ['engenheiro', 'engenharia']):\n",
    "        return \"Engenharia\"\n",
    "    if any(p in texto for p in ['scrum', 'product owner', 'projetos', 'agile']):\n",
    "        return \"Consultoria / Projetos\"\n",
    "    if any(p in texto for p in ['recrutamento', 'rh', 'people']):\n",
    "        return \"RH / Pessoas\"\n",
    "    if any(p in texto for p in ['vendas', 'comercial', 'negócios']):\n",
    "        return \"Comercial / Negócios\"\n",
    "    if any(p in texto for p in ['sap', 'erp', 'oracle']):\n",
    "        return \"Tecnologia da Informação\"\n",
    "    return None\n",
    "\n",
    "def regras_subarea(texto):\n",
    "    if any(p in texto for p in ['frontend', 'react', 'angular', 'vue']):\n",
    "        return \"Desenvolvimento Frontend\"\n",
    "    if any(p in texto for p in ['backend', 'java', 'node', 'spring', '.net']):\n",
    "        return \"Desenvolvimento Backend\"\n",
    "    if 'full stack' in texto:\n",
    "        return \"Desenvolvimento Full Stack\"\n",
    "    if any(p in texto for p in ['qa', 'teste']):\n",
    "        return \"Qualidade de Software / QA\"\n",
    "    if any(p in texto for p in ['infra', 'rede', 'cloud']):\n",
    "        return \"Infraestrutura de TI\"\n",
    "    if any(p in texto for p in ['dados', 'bi', 'etl']):\n",
    "        return \"Engenharia de Dados\"\n",
    "    if any(p in texto for p in ['ux', 'ui']):\n",
    "        return \"UX/UI Design\"\n",
    "    if any(p in texto for p in ['scrum', 'po', 'kanban']):\n",
    "        return \"Gestão de Projetos Ágeis\"\n",
    "    if any(p in texto for p in ['sap', 'erp', 'crm']):\n",
    "        return \"Sistemas Corporativos SAP / ERP / CRM\"\n",
    "    return None\n",
    "\n",
    "def regras_nivel(texto):\n",
    "    if 'estagi' in texto:\n",
    "        return 'Estagiário'\n",
    "    if 'trainee' in texto:\n",
    "        return 'Trainee'\n",
    "    if 'junior' in texto or 'jr' in texto:\n",
    "        return 'Júnior'\n",
    "    if 'pleno' in texto:\n",
    "        return 'Pleno'\n",
    "    if 'senior' in texto or 'sênior' in texto:\n",
    "        return 'Sênior'\n",
    "    if 'especialista' in texto:\n",
    "        return 'Especialista'\n",
    "    if 'analista' in texto:\n",
    "        return 'Analista'\n",
    "    if 'consultor' in texto:\n",
    "        return 'Consultor'\n",
    "    if 'lider' in texto or 'líder' in texto:\n",
    "        return 'Líder'\n",
    "    if 'coordenador' in texto:\n",
    "        return 'Coordenador'\n",
    "    if 'gerente' in texto:\n",
    "        return 'Gerente'\n",
    "    if 'diretor' in texto:\n",
    "        return 'Diretor'\n",
    "    if 'ceo' in texto or 'cto' in texto or 'cfo' in texto:\n",
    "        return 'C-Level'\n",
    "    return None\n"
   ]
  },
  {
   "cell_type": "markdown",
   "id": "866c6284",
   "metadata": {},
   "source": [
    "### 4.5. Carregando o modelo de embeddings"
   ]
  },
  {
   "cell_type": "code",
   "execution_count": null,
   "id": "8db0dda5",
   "metadata": {},
   "outputs": [],
   "source": [
    "modelo = SentenceTransformer('paraphrase-multilingual-MiniLM-L12-v2')"
   ]
  },
  {
   "cell_type": "markdown",
   "id": "c7510e0a",
   "metadata": {},
   "source": [
    "### 4.6. Gerando embeddings dos textos e dos rótulos"
   ]
  },
  {
   "cell_type": "code",
   "execution_count": null,
   "id": "f266df45",
   "metadata": {},
   "outputs": [],
   "source": [
    "emb_cargos = modelo.encode(df['texto_limpo'].tolist(), convert_to_tensor=True)\n",
    "emb_cat = modelo.encode(categorias, convert_to_tensor=True)\n",
    "emb_sub = modelo.encode(subareas, convert_to_tensor=True)\n",
    "emb_niv = modelo.encode(niveis, convert_to_tensor=True)"
   ]
  },
  {
   "cell_type": "markdown",
   "id": "21eab1bd",
   "metadata": {},
   "source": [
    "### 4.7. Função de similaridade (threshold reduzido para 0.4)"
   ]
  },
  {
   "cell_type": "code",
   "execution_count": null,
   "id": "048e9b64",
   "metadata": {},
   "outputs": [],
   "source": [
    "def classificar_por_similaridade(emb_texto, emb_opcoes, opcoes):\n",
    "    similaridades = util.cos_sim(emb_texto, emb_opcoes)\n",
    "    melhor_indice = similaridades.argmax().item()\n",
    "    melhor_score = similaridades[0, melhor_indice].item()\n",
    "    return opcoes[melhor_indice] if melhor_score > 0.4 else \"Indefinido\"\n"
   ]
  },
  {
   "cell_type": "markdown",
   "id": "511c328c",
   "metadata": {},
   "source": [
    "### 4.8. Aplicar classificação híbrida"
   ]
  },
  {
   "cell_type": "code",
   "execution_count": null,
   "id": "680d10b4",
   "metadata": {},
   "outputs": [],
   "source": [
    "categorias_pred = []\n",
    "subareas_pred = []\n",
    "niveis_pred = []\n",
    "\n",
    "for i in range(len(df)):\n",
    "    texto = df['texto_limpo'][i]\n",
    "    emb = emb_cargos[i].unsqueeze(0)\n",
    "\n",
    "    cat = regras_categoria(texto) or classificar_por_similaridade(emb, emb_cat, categorias)\n",
    "    sub = regras_subarea(texto) or classificar_por_similaridade(emb, emb_sub, subareas)\n",
    "    niv = regras_nivel(texto) or classificar_por_similaridade(emb, emb_niv, niveis)\n",
    "\n",
    "    categorias_pred.append(cat)\n",
    "    subareas_pred.append(sub)\n",
    "    niveis_pred.append(niv)\n",
    "\n",
    "df['categoria_profissional'] = categorias_pred\n",
    "df['subarea_profissional'] = subareas_pred\n",
    "df['nivel_hierarquico'] = niveis_pred"
   ]
  },
  {
   "cell_type": "markdown",
   "id": "148fe5dc",
   "metadata": {},
   "source": [
    "### 4.9. Exportar e mostrar estatísticas"
   ]
  },
  {
   "cell_type": "code",
   "execution_count": null,
   "id": "51e939f5",
   "metadata": {},
   "outputs": [],
   "source": [
    "# df.to_excel(\"classificados_hibrido_embeddings.xlsx\", index=False)\n",
    "\n",
    "total = len(df)\n",
    "for col in ['categoria_profissional', 'nivel_hierarquico']:\n",
    "    indef = (df[col].str.contains('Indefinido')).sum()\n",
    "    print(f\"{col}: {indef} indefinidos ({indef/total:.2%})\")"
   ]
  },
  {
   "cell_type": "code",
   "execution_count": null,
   "id": "de0e39bf",
   "metadata": {},
   "outputs": [],
   "source": [
    "# === Refinamento pós-classificação ===\n",
    "import re\n",
    "\n",
    "def limpar_texto(texto):\n",
    "    if pd.isna(texto):\n",
    "        return \"\"\n",
    "    texto = str(texto).lower()\n",
    "    texto = re.sub(r'[^\\w\\s]', '', texto)\n",
    "    return re.sub(r'\\s+', ' ', texto).strip()\n",
    "\n",
    "df['texto_limpo'] = df['objetivo_profissional'].apply(limpar_texto)\n",
    "\n",
    "# Regras de correção\n",
    "regras_revisao = [\n",
    "    {\"termo\": \"auto cad\", \"categoria\": \"Engenharia\", \"subarea\": \"Desenho Técnico\", \"nivel\": \"Técnico\"},\n",
    "    {\"termo\": \"autocad\", \"categoria\": \"Engenharia\", \"subarea\": \"Desenho Técnico\", \"nivel\": \"Técnico\"},\n",
    "    {\"termo\": \"segurança\", \"categoria\": \"Tecnologia da Informação\", \"subarea\": \"Segurança da Informação\"},\n",
    "    {\"termo\": \"devops\", \"categoria\": \"Tecnologia da Informação\", \"subarea\": \"Infraestrutura de TI\"},\n",
    "    {\"termo\": \"sap\", \"categoria\": \"Tecnologia da Informação\", \"subarea\": \"Sistemas Corporativos SAP / ERP / CRM\"},\n",
    "    {\"termo\": \"consultor sap\", \"categoria\": \"Tecnologia da Informação\", \"subarea\": \"Sistemas Corporativos SAP / ERP / CRM\"},\n",
    "]\n",
    "\n",
    "# Aplicar regras\n",
    "for regra in regras_revisao:\n",
    "    idx = df['texto_limpo'].str.contains(regra[\"termo\"], na=False)\n",
    "    if \"categoria\" in regra:\n",
    "        df.loc[idx, 'categoria_profissional'] = regra[\"categoria\"]\n",
    "    if \"subarea\" in regra:\n",
    "        df.loc[idx, 'subarea_profissional'] = regra[\"subarea\"]\n",
    "    if \"nivel\" in regra:\n",
    "        df.loc[idx, 'nivel_hierarquico'] = regra[\"nivel\"]\n",
    "\n",
    "# Estatísticas finais\n",
    "total = len(df)\n",
    "for campo in ['categoria_profissional', 'nivel_hierarquico']:\n",
    "    indef = (df[campo].str.contains(\"Indefinido\")).sum()\n",
    "    print(f\"{campo}: {indef} indefinidos ({indef/total:.2%})\")"
   ]
  },
  {
   "cell_type": "markdown",
   "id": "bf879502",
   "metadata": {},
   "source": [
    "## 05_Tratamento_cv_pt"
   ]
  },
  {
   "cell_type": "markdown",
   "id": "9c659e87",
   "metadata": {},
   "source": [
    "### 5.1 . Cria funcoes"
   ]
  },
  {
   "cell_type": "code",
   "execution_count": null,
   "id": "ebd391ce",
   "metadata": {},
   "outputs": [],
   "source": [
    "# Regex para contagem de experiências com datas variadas\n",
    "def contar_periodos_experiencia_tolerante(texto):\n",
    "    if pd.isna(texto):\n",
    "        return 0\n",
    "    texto = texto.lower()\n",
    "    padrao = re.compile(\n",
    "        r\"(?:\\d{1,2}/\\d{1,2}/\\d{4}|\\d{1,2}/\\d{4}|\"\n",
    "        r\"(?:jan|fev|mar|abr|mai|jun|jul|ago|set|out|nov|dez)[./ -]?\\d{4})\"\n",
    "        r\"\\s*(?:a|à|á|até|–|-)?\\s*\"\n",
    "        r\"(?:\\d{1,2}/\\d{1,2}/\\d{4}|\\d{1,2}/\\d{4}|\"\n",
    "        r\"(?:jan|fev|mar|abr|mai|jun|jul|ago|set|out|nov|dez)[./ -]?\\d{4}|atual|presente)\",\n",
    "        flags=re.IGNORECASE\n",
    "    )\n",
    "    matches = list(padrao.finditer(texto))\n",
    "    return len(matches)"
   ]
  },
  {
   "cell_type": "code",
   "execution_count": null,
   "id": "6ce8ddd9",
   "metadata": {},
   "outputs": [],
   "source": [
    "# Tempo total de experiência estimado (anos entre maior e menor data)\n",
    "def extrair_tempo_experiencia_completo(texto):\n",
    "    if pd.isna(texto):\n",
    "        return None\n",
    "    texto = texto.lower()\n",
    "    anos = set()\n",
    "    padroes = [\n",
    "        r\"(\\d{2}/\\d{2}/\\d{4})\",\n",
    "        r\"(\\d{2}/\\d{4})\",\n",
    "        r\"(jan|fev|mar|abr|mai|jun|jul|ago|set|out|nov|dez)[/. -]*(\\d{4})\",\n",
    "        r\"(19|20)\\d{2}\"\n",
    "    ]\n",
    "    for padrao in padroes:\n",
    "        encontrados = re.findall(padrao, texto)\n",
    "        for e in encontrados:\n",
    "            if isinstance(e, tuple):\n",
    "                ano = int(e[-1])\n",
    "            else:\n",
    "                partes = re.findall(r\"\\d{4}\", e)\n",
    "                if partes:\n",
    "                    ano = int(partes[0])\n",
    "                else:\n",
    "                    continue\n",
    "            if 1900 <= ano <= datetime.now().year:\n",
    "                anos.add(ano)\n",
    "    if re.search(r\"atual|presente\", texto):\n",
    "        anos.add(datetime.now().year)\n",
    "    if len(anos) >= 2:\n",
    "        return max(anos) - min(anos)\n",
    "    elif len(anos) == 1:\n",
    "        return datetime.now().year - min(anos)\n",
    "    return None"
   ]
  },
  {
   "cell_type": "code",
   "execution_count": null,
   "id": "d739bd2a",
   "metadata": {},
   "outputs": [],
   "source": [
    "# Nível educacional consolidado (mais alto concluído)\n",
    "def extrair_nivel_educacional_cv(texto):\n",
    "    if pd.isna(texto):\n",
    "        return None\n",
    "    texto = texto.lower()\n",
    "    if re.search(r'(ensino\\s+fundamental|fundamental\\s+completo)', texto):\n",
    "        return 'ensino fundamental'\n",
    "    elif re.search(r'(ensino\\s+m[eé]dio|m[eé]dio\\s+completo)', texto):\n",
    "        return 'ensino médio'\n",
    "    elif re.search(r'(superior\\s+incompleto|gradua[cç][aã]o\\s+incompleta|ensino superior incompleto)', texto):\n",
    "        return 'superior incompleto'\n",
    "    elif re.search(r'(ensino\\s+superior|superior\\s+completo|gradua[cç][aã]o\\s+completa|formado em|graduado em|bacharel|licenciatura)', texto):\n",
    "        return 'ensino superior'\n",
    "    elif re.search(r'(p[óo]s[-\\s]?gradua[cç][aã]o|especializa[cç][aã]o|mba|mestrado|doutorado)', texto):\n",
    "        return 'pós-graduação ou mais'\n",
    "    return 'não identificado'\n",
    "\n",
    "def nivel_educacional_completo(nivel_academico, cv_texto):\n",
    "    if pd.notna(nivel_academico):\n",
    "        nivel = nivel_academico.lower()\n",
    "        if \"fundamental\" in nivel:\n",
    "            return \"ensino fundamental\"\n",
    "        elif \"médio\" in nivel:\n",
    "            return \"ensino médio\"\n",
    "        elif \"incompleto\" in nivel:\n",
    "            return \"superior incompleto\"\n",
    "        elif \"superior completo\" in nivel or \"superior\" in nivel:\n",
    "            return \"ensino superior\"\n",
    "        elif any(x in nivel for x in [\"pós\", \"mestrado\", \"doutorado\", \"mba\"]):\n",
    "            return \"pós-graduação ou mais\"\n",
    "    return extrair_nivel_educacional_cv(cv_texto)\n",
    "\n",
    "def ajustar_nivel_educacional_final(nivel_raw):\n",
    "    if pd.isna(nivel_raw):\n",
    "        return None\n",
    "    nivel_raw = nivel_raw.lower()\n",
    "    if \"pós\" in nivel_raw or \"mestrado\" in nivel_raw or \"doutorado\" in nivel_raw or \"mba\" in nivel_raw:\n",
    "        return \"pós-graduação ou mais\"\n",
    "    elif \"superior completo\" in nivel_raw or \"ensino superior completo\" in nivel_raw:\n",
    "        return \"ensino superior\"\n",
    "    elif \"superior\" in nivel_raw and \"incompleto\" in nivel_raw:\n",
    "        return \"ensino médio\"\n",
    "    elif \"ensino médio\" in nivel_raw or \"médio completo\" in nivel_raw:\n",
    "        return \"ensino médio\"\n",
    "    elif \"fundamental\" in nivel_raw:\n",
    "        return \"ensino fundamental\"\n",
    "    return \"não identificado\""
   ]
  },
  {
   "cell_type": "code",
   "execution_count": null,
   "id": "576f5bd5",
   "metadata": {},
   "outputs": [],
   "source": [
    "# Verifica menção a SAP\n",
    "def possui_experiencia_sap(texto):\n",
    "    if pd.isna(texto):\n",
    "        return False\n",
    "    return \"sap\" in texto.lower()"
   ]
  },
  {
   "cell_type": "markdown",
   "id": "a21d8b05",
   "metadata": {},
   "source": [
    "### 5.2 . Aplica_funcoes"
   ]
  },
  {
   "cell_type": "code",
   "execution_count": null,
   "id": "a8b778dc",
   "metadata": {},
   "outputs": [],
   "source": [
    "df['tempo_experiencia_anos'] = df['cv_pt'].apply(extrair_tempo_experiencia_completo)\n",
    "df['quantidade_experiencias'] = df['cv_pt'].apply(contar_periodos_experiencia_tolerante)\n",
    "df['nivel_educacional'] = df.apply(lambda x: nivel_educacional_completo(x['nivel_academico'], x['cv_pt']), axis=1)\n",
    "df['nivel_educacional_consolidado'] = df['nivel_educacional'].apply(ajustar_nivel_educacional_final)\n",
    "df['experiencia_sap'] = df['cv_pt'].apply(possui_experiencia_sap)"
   ]
  },
  {
   "cell_type": "markdown",
   "id": "d0f93c5c",
   "metadata": {},
   "source": [
    "## 06_Definindo_base"
   ]
  },
  {
   "cell_type": "code",
   "execution_count": null,
   "id": "93a47e8d",
   "metadata": {},
   "outputs": [],
   "source": [
    "# === Exportar o resultado final ===\n",
    "df_1 = df[[\n",
    "    'id_candidato',\n",
    "    'data_atualizacao',\n",
    "    'data_criacao',\n",
    "    'remuneracao',\n",
    "    'remuneracao_mensal_brl', 'remuneracao_zscore',\n",
    "    'objetivo_profissional',\n",
    "    'categoria_profissional', 'nivel_hierarquico',\n",
    "    'tempo_experiencia_anos',\n",
    "    'quantidade_experiencias',\n",
    "    'nivel_educacional',\n",
    "    'nivel_educacional_consolidado',\n",
    "    'experiencia_sap'\n",
    "]]"
   ]
  },
  {
   "cell_type": "markdown",
   "id": "e02b0416",
   "metadata": {},
   "source": [
    "## 07_Pos_Tratamento"
   ]
  },
  {
   "cell_type": "code",
   "execution_count": null,
   "id": "ae985d2e",
   "metadata": {},
   "outputs": [],
   "source": [
    "# Remover colunas não utilizadas\n",
    "colunas_remover = [\n",
    "    'id_candidato', 'data_criacao', 'data_atualizacao',\n",
    "    'faixa_criacao', 'faixa_atualizacao', 'remuneracao',\n",
    "    'remuneracao_mensal_brl', 'faixa_remuneracao',\n",
    "    'objetivo_profissional', 'meses_desde_criacao',\n",
    "    'meses_desde_atualizacao', 'nivel_educacional_consolidado'\n",
    "]\n",
    "df = df_1.drop(columns=colunas_remover, errors='ignore')"
   ]
  },
  {
   "cell_type": "code",
   "execution_count": null,
   "id": "f2aa32ca",
   "metadata": {},
   "outputs": [],
   "source": [
    "\n",
    "# === Tratamento de nivel_hierarquico com mapa fixo ===\n",
    "mapa_hierarquico = {\n",
    "    'estagiario': 1,\n",
    "    'analista': 2,\n",
    "    'especialista': 3,\n",
    "    'consultor': 3,\n",
    "    'coordenador': 4,\n",
    "    'gerente': 5,\n",
    "    'diretor': 6,\n",
    "    'c-level': 7,\n",
    "    'não identificado': 0,\n",
    "    None: 0\n",
    "}\n",
    "df['nivel_hierarquico'] = df['nivel_hierarquico'].str.lower().fillna(\"não identificado\")\n",
    "df['nivel_hierarquico'] = df['nivel_hierarquico'].map(mapa_hierarquico).fillna(0).astype(int)\n"
   ]
  },
  {
   "cell_type": "code",
   "execution_count": null,
   "id": "ebbb4b86",
   "metadata": {},
   "outputs": [],
   "source": [
    "# Tratamento de nivel_educacional\n",
    "mapa_educacional = {\n",
    "    'ensino fundamental': 1,\n",
    "    'ensino médio': 2,\n",
    "    'ensino superior': 3,\n",
    "    'superior incompleto': 3,\n",
    "    'pós-graduação ou mais': 4,\n",
    "    'não identificado': 0,\n",
    "    None: 0\n",
    "}\n",
    "df['nivel_educacional'] = df['nivel_educacional'].map(mapa_educacional).fillna(0).astype(int)"
   ]
  },
  {
   "cell_type": "code",
   "execution_count": null,
   "id": "d724d815",
   "metadata": {},
   "outputs": [],
   "source": [
    "# Conversão de variável booleana experiencia_sap\n",
    "df['experiencia_sap'] = df['experiencia_sap'].astype(int)"
   ]
  },
  {
   "cell_type": "code",
   "execution_count": null,
   "id": "afed628a",
   "metadata": {},
   "outputs": [],
   "source": [
    "# === Agrupar categorias pouco frequentes em 'outros' ===\n",
    "col_categorias = 'categoria_profissional'\n",
    "top_categorias = df[col_categorias].value_counts(normalize=True)\n",
    "limite = 0.03  # 3%\n",
    "categorias_relevantes = top_categorias[top_categorias >= limite].index.tolist()\n",
    "df[col_categorias] = df[col_categorias].apply(lambda x: x if x in categorias_relevantes else 'outros')\n"
   ]
  },
  {
   "cell_type": "code",
   "execution_count": null,
   "id": "cd87fe60",
   "metadata": {},
   "outputs": [],
   "source": [
    "# One-hot encoding para variáveis categóricas\n",
    "colunas_categoricas = ['categoria_profissional']\n",
    "df = pd.get_dummies(df, columns=colunas_categoricas, drop_first=True)"
   ]
  },
  {
   "cell_type": "code",
   "execution_count": null,
   "id": "9d8d58fa",
   "metadata": {},
   "outputs": [],
   "source": [
    "variaveis_continuas = ['remuneracao_zscore', 'tempo_experiencia_anos', 'quantidade_experiencias']\n",
    "\n",
    "pipeline_numerico = Pipeline([\n",
    "    (\"imputer\", SimpleImputer(strategy=\"median\")),\n",
    "    (\"scaler\", StandardScaler())\n",
    "])\n",
    "df[variaveis_continuas] = pipeline_numerico.fit_transform(df[variaveis_continuas])"
   ]
  },
  {
   "cell_type": "code",
   "execution_count": null,
   "id": "39d42e59",
   "metadata": {},
   "outputs": [],
   "source": [
    "# Flags de presença de dados\n",
    "for col in variaveis_continuas:\n",
    "    df[f\"tem_{col}\"] = df[col].notnull().astype(int)"
   ]
  },
  {
   "cell_type": "markdown",
   "id": "ec094954",
   "metadata": {},
   "source": [
    "# 08_Avalia_modelo"
   ]
  },
  {
   "cell_type": "markdown",
   "id": "41ee0433",
   "metadata": {},
   "source": [
    "### 8.1. Análise do Cotovelo (Inércia)"
   ]
  },
  {
   "cell_type": "code",
   "execution_count": null,
   "id": "e3299fd0",
   "metadata": {},
   "outputs": [],
   "source": [
    "df_teste = df.copy()"
   ]
  },
  {
   "cell_type": "code",
   "execution_count": null,
   "id": "d26be603",
   "metadata": {},
   "outputs": [],
   "source": [
    "inercia = []\n",
    "ks = range(2, 11)\n",
    "for k in ks:\n",
    "    kmeans = KMeans(n_clusters=k, random_state=42, n_init=10)\n",
    "    kmeans.fit(df_teste)\n",
    "    inercia.append(kmeans.inertia_)\n",
    "\n",
    "plt.figure(figsize=(8, 5))\n",
    "plt.plot(ks, inercia, marker='o')\n",
    "plt.title('Método do Cotovelo')\n",
    "plt.xlabel('Número de clusters (k)')\n",
    "plt.ylabel('Inércia')\n",
    "plt.grid(True)\n",
    "plt.show()"
   ]
  },
  {
   "cell_type": "markdown",
   "id": "80cf8564",
   "metadata": {},
   "source": [
    "### 8.2. Avaliação com Silhouette Score"
   ]
  },
  {
   "cell_type": "code",
   "execution_count": null,
   "id": "76259d8f",
   "metadata": {},
   "outputs": [],
   "source": [
    "silhouettes = []\n",
    "for k in ks:\n",
    "    kmeans = KMeans(n_clusters=k, random_state=42, n_init=10)\n",
    "    labels = kmeans.fit_predict(df_teste)\n",
    "    score = silhouette_score(df_teste, labels)\n",
    "    silhouettes.append(score)\n",
    "\n",
    "plt.figure(figsize=(8, 5))\n",
    "plt.plot(ks, silhouettes, marker='o', color='orange')\n",
    "plt.title('Silhouette Score por k')\n",
    "plt.xlabel('Número de clusters (k)')\n",
    "plt.ylabel('Silhouette Score')\n",
    "plt.grid(True)\n",
    "plt.show()"
   ]
  },
  {
   "cell_type": "code",
   "execution_count": null,
   "id": "859febf2",
   "metadata": {},
   "outputs": [],
   "source": [
    "df_teste.head()"
   ]
  },
  {
   "cell_type": "markdown",
   "id": "cc16182f",
   "metadata": {},
   "source": [
    "### 8.3. Execução do KMeans com k=4"
   ]
  },
  {
   "cell_type": "code",
   "execution_count": null,
   "id": "7dc4c866",
   "metadata": {},
   "outputs": [],
   "source": [
    "kmeans = KMeans(n_clusters=4, random_state=42, n_init=10)\n",
    "df_teste['cluster'] = kmeans.fit_predict(df_teste)"
   ]
  },
  {
   "cell_type": "markdown",
   "id": "935dd64d",
   "metadata": {},
   "source": [
    "### 8.4. Análise Descritiva dos Clusters"
   ]
  },
  {
   "cell_type": "code",
   "execution_count": null,
   "id": "dd18fb01",
   "metadata": {},
   "outputs": [],
   "source": [
    "# Médias por cluster\n",
    "medias = df_teste.groupby('cluster').mean(numeric_only=True)\n",
    "\n",
    "# Proporções de flags\n",
    "flags = [col for col in df_teste.columns if col.startswith('tem_')]\n",
    "proporcoes = df_teste[flags + ['cluster']].groupby('cluster').mean()\n",
    "\n",
    "# Tamanho de cada cluster\n",
    "tamanho = df_teste['cluster'].value_counts().sort_index()\n",
    "\n",
    "display(medias)\n",
    "display(proporcoes)\n",
    "display(tamanho)"
   ]
  },
  {
   "cell_type": "markdown",
   "id": "a20ae5af",
   "metadata": {},
   "source": [
    "# 09_Treina_e_salva_modelo"
   ]
  },
  {
   "cell_type": "code",
   "execution_count": null,
   "id": "80c572ad",
   "metadata": {},
   "outputs": [],
   "source": [
    "kmeans = KMeans(n_clusters=4, random_state=42, n_init=10)\n",
    "df['cluster'] = kmeans.fit_predict(df)"
   ]
  },
  {
   "cell_type": "code",
   "execution_count": null,
   "id": "6ef2b6ae",
   "metadata": {},
   "outputs": [],
   "source": [
    "# === 3. Salvar colunas utilizadas no input do modelo ===\n",
    "colunas_usadas = df.drop(columns=['cluster']).columns.tolist()"
   ]
  },
  {
   "cell_type": "code",
   "execution_count": null,
   "id": "30e1ec2f",
   "metadata": {},
   "outputs": [],
   "source": [
    "# === 4. Definir diretório de saída ===\n",
    "caminho_saida = r\"C:\\Users\\pedro\\Documents\\Área de Trabalho\\tech_challenge_5\\03_modelos\"\n",
    "os.makedirs(caminho_saida, exist_ok=True)"
   ]
  },
  {
   "cell_type": "code",
   "execution_count": null,
   "id": "563ded8c",
   "metadata": {},
   "outputs": [],
   "source": [
    "# === 5. Salvar arquivos ===\n",
    "joblib.dump(kmeans, os.path.join(caminho_saida, \"modelo_kmeans.joblib\"))\n",
    "joblib.dump(colunas_usadas, os.path.join(caminho_saida, \"colunas_usadas.joblib\"))\n",
    "df.to_parquet(os.path.join(caminho_saida, \"04_clusterizados.parquet\"), index=False)\n",
    "\n",
    "\n",
    "# Variáveis contínuas usadas no modelo\n",
    "variaveis_continuas = ['remuneracao_zscore', 'tempo_experiencia_anos', 'quantidade_experiencias']\n",
    "\n",
    "# Treinar o scaler\n",
    "scaler = StandardScaler()\n",
    "scaler.fit(df[variaveis_continuas])\n",
    "\n",
    "# Salvar o scaler\n",
    "joblib.dump(scaler,os.path.join(caminho_saida,\"scaler.joblib\"))\n",
    "\n",
    "print(\"✅ Modelo treinado e arquivos salvos em:\")\n",
    "print(caminho_saida)"
   ]
  }
 ],
 "metadata": {
  "kernelspec": {
   "display_name": ".venv",
   "language": "python",
   "name": "python3"
  },
  "language_info": {
   "codemirror_mode": {
    "name": "ipython",
    "version": 3
   },
   "file_extension": ".py",
   "mimetype": "text/x-python",
   "name": "python",
   "nbconvert_exporter": "python",
   "pygments_lexer": "ipython3",
   "version": "3.10.11"
  }
 },
 "nbformat": 4,
 "nbformat_minor": 5
}
