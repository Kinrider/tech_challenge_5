{
 "cells": [
  {
   "cell_type": "markdown",
   "id": "d669a9b8",
   "metadata": {},
   "source": [
    "# 04_Treina_KMeans_e_salva_modelo"
   ]
  },
  {
   "cell_type": "markdown",
   "id": "b2a0cb59",
   "metadata": {},
   "source": [
    "## 01_import_bibliotecas"
   ]
  },
  {
   "cell_type": "code",
   "execution_count": 8,
   "id": "f73db4e3",
   "metadata": {},
   "outputs": [],
   "source": [
    "import pandas as pd\n",
    "from sklearn.cluster import KMeans\n",
    "import joblib\n",
    "import os\n",
    "from sklearn.preprocessing import StandardScaler"
   ]
  },
  {
   "cell_type": "markdown",
   "id": "5bfa70b9",
   "metadata": {},
   "source": [
    "## 02_Carga_de_dados"
   ]
  },
  {
   "cell_type": "code",
   "execution_count": 9,
   "id": "ca3c6356",
   "metadata": {},
   "outputs": [],
   "source": [
    "input = 'https://github.com/Kinrider/tech_challenge_5/raw/refs/heads/main/01_fontes/arquivos_decision/fontes_tratadas/03_input_clusterizacao.parquet'"
   ]
  },
  {
   "cell_type": "code",
   "execution_count": 10,
   "id": "9c947918",
   "metadata": {},
   "outputs": [],
   "source": [
    "df = pd.read_parquet(input)"
   ]
  },
  {
   "cell_type": "markdown",
   "id": "75818f36",
   "metadata": {},
   "source": [
    "## 03_Treina_modelo"
   ]
  },
  {
   "cell_type": "code",
   "execution_count": 11,
   "id": "c04c715a",
   "metadata": {},
   "outputs": [],
   "source": [
    "# === 2. Tratar valores ausentes e treinar o modelo KMeans com k=4 ===\n",
    "colunas_com_nan = df.columns[df.isnull().any()].tolist()\n",
    "for col in colunas_com_nan:\n",
    "    df[f\"tem_{col}\"] = df[col].notnull().astype(int)\n",
    "    df[col] = df[col].fillna(-9999)\n",
    "    \n",
    "kmeans = KMeans(n_clusters=4, random_state=42, n_init=10)\n",
    "df['cluster'] = kmeans.fit_predict(df)"
   ]
  },
  {
   "cell_type": "code",
   "execution_count": 12,
   "id": "1b9c9d06",
   "metadata": {},
   "outputs": [],
   "source": [
    "# === 3. Salvar colunas utilizadas no input do modelo ===\n",
    "colunas_usadas = df.drop(columns=['cluster']).columns.tolist()"
   ]
  },
  {
   "cell_type": "markdown",
   "id": "d192fe15",
   "metadata": {},
   "source": [
    "## 04_Salvando_modelo"
   ]
  },
  {
   "cell_type": "code",
   "execution_count": 13,
   "id": "ed561ef7",
   "metadata": {},
   "outputs": [],
   "source": [
    "# === 4. Definir diretório de saída ===\n",
    "caminho_saida = r\"C:\\Users\\pedro\\Documents\\Área de Trabalho\\tech_challenge_5\\03_modelos\"\n",
    "os.makedirs(caminho_saida, exist_ok=True)"
   ]
  },
  {
   "cell_type": "code",
   "execution_count": 14,
   "id": "b70e5de1",
   "metadata": {},
   "outputs": [
    {
     "name": "stdout",
     "output_type": "stream",
     "text": [
      "✅ Modelo treinado e arquivos salvos em:\n",
      "C:\\Users\\pedro\\Documents\\Área de Trabalho\\tech_challenge_5\\03_modelos\n"
     ]
    }
   ],
   "source": [
    "# === 5. Salvar arquivos ===\n",
    "joblib.dump(kmeans, os.path.join(caminho_saida, \"modelo_kmeans.joblib\"))\n",
    "joblib.dump(colunas_usadas, os.path.join(caminho_saida, \"colunas_usadas.joblib\"))\n",
    "df.to_parquet(os.path.join(caminho_saida, \"04_clusterizados.parquet\"), index=False)\n",
    "\n",
    "\n",
    "# Variáveis contínuas usadas no modelo\n",
    "variaveis_continuas = ['remuneracao_zscore', 'tempo_experiencia_anos', 'quantidade_experiencias']\n",
    "\n",
    "# Treinar o scaler\n",
    "scaler = StandardScaler()\n",
    "scaler.fit(df[variaveis_continuas])\n",
    "\n",
    "# Salvar o scaler\n",
    "joblib.dump(scaler,caminho_saida + \"scaler.joblib\")\n",
    "\n",
    "print(\"✅ Modelo treinado e arquivos salvos em:\")\n",
    "print(caminho_saida)"
   ]
  }
 ],
 "metadata": {
  "kernelspec": {
   "display_name": ".venv",
   "language": "python",
   "name": "python3"
  },
  "language_info": {
   "codemirror_mode": {
    "name": "ipython",
    "version": 3
   },
   "file_extension": ".py",
   "mimetype": "text/x-python",
   "name": "python",
   "nbconvert_exporter": "python",
   "pygments_lexer": "ipython3",
   "version": "3.10.11"
  }
 },
 "nbformat": 4,
 "nbformat_minor": 5
}
