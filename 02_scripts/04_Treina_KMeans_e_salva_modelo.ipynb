{
 "cells": [
  {
   "cell_type": "markdown",
   "id": "d669a9b8",
   "metadata": {},
   "source": [
    "# 04_Treina_KMeans_e_salva_modelo"
   ]
  },
  {
   "cell_type": "markdown",
   "id": "b2a0cb59",
   "metadata": {},
   "source": [
    "## 01_import_bibliotecas"
   ]
  },
  {
   "cell_type": "code",
   "execution_count": null,
   "id": "f73db4e3",
   "metadata": {},
   "outputs": [],
   "source": [
    "import pandas as pd\n",
    "from sklearn.cluster import KMeans\n",
    "import joblib\n",
    "import os"
   ]
  },
  {
   "cell_type": "markdown",
   "id": "5bfa70b9",
   "metadata": {},
   "source": [
    "## 02_Carga_de_dados"
   ]
  },
  {
   "cell_type": "code",
   "execution_count": null,
   "id": "ca3c6356",
   "metadata": {},
   "outputs": [],
   "source": [
    "input = 'https://github.com/Kinrider/tech_challenge_5/raw/refs/heads/main/01_fontes/arquivos_decision/fontes_tratadas/03_input_clusterizacao.parquet'"
   ]
  },
  {
   "cell_type": "code",
   "execution_count": null,
   "id": "9c947918",
   "metadata": {},
   "outputs": [],
   "source": [
    "df = pd.read_parquet(input)"
   ]
  },
  {
   "cell_type": "markdown",
   "id": "75818f36",
   "metadata": {},
   "source": [
    "## 03_Treina_modelo"
   ]
  },
  {
   "cell_type": "code",
   "execution_count": null,
   "id": "c04c715a",
   "metadata": {},
   "outputs": [],
   "source": [
    "# === 2. Treinar o modelo KMeans com k=4 ===\n",
    "kmeans = KMeans(n_clusters=4, random_state=42, n_init=10)\n",
    "df['cluster'] = kmeans.fit_predict(df)"
   ]
  },
  {
   "cell_type": "code",
   "execution_count": null,
   "id": "1b9c9d06",
   "metadata": {},
   "outputs": [],
   "source": [
    "# === 3. Salvar colunas utilizadas (para pré-processamento futuro) ===\n",
    "colunas_usadas = df.drop(columns=['cluster']).columns.tolist()"
   ]
  },
  {
   "cell_type": "markdown",
   "id": "d192fe15",
   "metadata": {},
   "source": [
    "## 04_Salvando_modelo"
   ]
  },
  {
   "cell_type": "code",
   "execution_count": null,
   "id": "ed561ef7",
   "metadata": {},
   "outputs": [],
   "source": [
    "# === 4. Definir diretório de saída ===\n",
    "caminho_saida = r\"C:\\Users\\pedro\\Documents\\Área de Trabalho\\tech_challenge_5\\03_modelos\"\n",
    "os.makedirs(caminho_saida, exist_ok=True)"
   ]
  },
  {
   "cell_type": "code",
   "execution_count": null,
   "id": "b70e5de1",
   "metadata": {},
   "outputs": [],
   "source": [
    "# === 5. Salvar arquivos ===\n",
    "joblib.dump(kmeans, os.path.join(caminho_saida, \"modelo_kmeans.joblib\"))\n",
    "joblib.dump(colunas_usadas, os.path.join(caminho_saida, \"colunas_usadas.joblib\"))\n",
    "df.to_parquet(os.path.join(caminho_saida, \"04_clusterizados.parquet\"), index=False)\n",
    "\n",
    "print(\"✅ Modelo treinado e arquivos salvos em:\")\n",
    "print(caminho_saida)"
   ]
  }
 ],
 "metadata": {
  "language_info": {
   "name": "python"
  }
 },
 "nbformat": 4,
 "nbformat_minor": 5
}
