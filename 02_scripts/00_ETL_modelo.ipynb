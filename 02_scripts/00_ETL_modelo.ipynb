{
 "cells": [
  {
   "cell_type": "markdown",
   "id": "3f0e7f19",
   "metadata": {},
   "source": [
    "# 00_ETL_modelo"
   ]
  },
  {
   "cell_type": "markdown",
   "id": "9b9302b6",
   "metadata": {},
   "source": [
    "## 01_import_bibliotecas"
   ]
  },
  {
   "cell_type": "code",
   "execution_count": 1,
   "id": "a7610bbf",
   "metadata": {},
   "outputs": [],
   "source": [
    "import pandas as pd\n",
    "import json\n",
    "from pandas import json_normalize\n",
    "import requests"
   ]
  },
  {
   "cell_type": "markdown",
   "id": "63848a0e",
   "metadata": {},
   "source": [
    "## 02_import_dados"
   ]
  },
  {
   "cell_type": "code",
   "execution_count": 2,
   "id": "6e11131f",
   "metadata": {},
   "outputs": [],
   "source": [
    "# import de dados da decision\n",
    "\n",
    "vagas = \"https://github.com/Kinrider/tech_challenge_5/raw/refs/heads/main/01_fontes/arquivos_decision/vagas.json\"\n",
    "prospects = \"https://github.com/Kinrider/tech_challenge_5/raw/refs/heads/main/01_fontes/arquivos_decision/prospects.json\"\n",
    "applicants = \"https://github.com/Kinrider/tech_challenge_5/raw/refs/heads/main/01_fontes/arquivos_decision/applicants.json\""
   ]
  },
  {
   "cell_type": "code",
   "execution_count": 3,
   "id": "b2fad569",
   "metadata": {},
   "outputs": [],
   "source": [
    "# lê os dados do github\n",
    "\n",
    "# vagas\n",
    "response_vagas = requests.get(vagas)\n",
    "data_vagas = response_vagas.json()\n",
    "\n",
    "# prospects\n",
    "response_prospects = requests.get(prospects)\n",
    "data_prospects = response_prospects.json()\n",
    "\n",
    "# Aplicants\n",
    "response_applicants = requests.get(applicants)\n",
    "data_applicants = response_applicants.json()"
   ]
  },
  {
   "cell_type": "markdown",
   "id": "7116a9bf",
   "metadata": {},
   "source": [
    "## 03_tratamento_json"
   ]
  },
  {
   "cell_type": "code",
   "execution_count": 4,
   "id": "d2b3c31f",
   "metadata": {},
   "outputs": [],
   "source": [
    "# Trata Vagas\n",
    "\n",
    "records_vagas = [dict(id_vaga=k, **v) for k, v in data_vagas.items()]\n",
    "\n",
    "df_vagas = pd.json_normalize(records_vagas, sep=\"_\")\n",
    "\n",
    "# Remove os prefixos das colunas\n",
    "prefixos_para_remover_vagas = [\n",
    "    'informacoes_basicas_',\n",
    "    'perfil_vaga_',\n",
    "    'beneficios_'\n",
    "]\n",
    "\n",
    "for prefixo in prefixos_para_remover_vagas:\n",
    "    df_vagas.columns = df_vagas.columns.str.replace(f'^{prefixo}', '', regex=True)"
   ]
  },
  {
   "cell_type": "code",
   "execution_count": 5,
   "id": "d6c04556",
   "metadata": {},
   "outputs": [],
   "source": [
    "# Trata Prospects\n",
    "\n",
    "records_prospects = [dict(id_vaga=k, **v) for k, v in data_prospects.items()]\n",
    "\n",
    "df_prospects = pd.json_normalize(\n",
    "    records_prospects,\n",
    "    record_path='prospects',\n",
    "    meta=['id_vaga', 'titulo', 'modalidade'],\n",
    "    sep='_'\n",
    ")\n",
    "\n",
    "# Remove os prefixos das colunas\n",
    "prefixos_para_remover_prospects = [\n",
    "'prospects_',  \n",
    "]\n",
    "\n",
    "for prefixo in prefixos_para_remover_prospects:\n",
    "    df_prospects.columns = df_prospects.columns.str.replace(f'^{prefixo}', '', regex=True)\n",
    "    \n",
    "df_prospects.rename(columns={'codigo': 'id_candidato'}, inplace=True)"
   ]
  },
  {
   "cell_type": "code",
   "execution_count": 6,
   "id": "87a38e12",
   "metadata": {},
   "outputs": [],
   "source": [
    "# Trata Aplicants\n",
    "\n",
    "records_applicants = [dict(id_candidato=k, **v) for k, v in data_applicants.items()]\n",
    "\n",
    "df_applicants = pd.json_normalize(records_applicants, sep=\"_\")\n",
    "\n",
    "# Remove os prefixos das colunas\n",
    "prefixos_para_remover_applicants = [\n",
    "    'infos_basicas_',\n",
    "    'informacoes_pessoais_',\n",
    "    'informacoes_profissionais_',\n",
    "    'formacao_e_idiomas_',\n",
    "    'cargo_atual_'\n",
    "]\n",
    "\n",
    "for prefixo in prefixos_para_remover_applicants:\n",
    "    df_applicants.columns = df_applicants.columns.str.replace(f'^{prefixo}', '', regex=True)"
   ]
  },
  {
   "cell_type": "markdown",
   "id": "b3716458",
   "metadata": {},
   "source": [
    "## 04_juntando_arquivos"
   ]
  },
  {
   "cell_type": "code",
   "execution_count": 7,
   "id": "3edd337e",
   "metadata": {},
   "outputs": [],
   "source": [
    "# prospects + applicants\n",
    "df_inter = df_prospects.merge(df_applicants, on=\"id_candidato\", how=\"left\", suffixes=('_tabelaprospect', '_tabelaapplicant'))"
   ]
  },
  {
   "cell_type": "code",
   "execution_count": 8,
   "id": "6c923c2c",
   "metadata": {},
   "outputs": [],
   "source": [
    "# dados + Vagas\n",
    "df_geral = df_inter.merge(df_vagas, on=\"id_vaga\", how=\"left\", suffixes=('', '_tabelavaga'))"
   ]
  },
  {
   "cell_type": "markdown",
   "id": "dd4acb34",
   "metadata": {},
   "source": [
    "## 05_Salvando_base_unificada_no_git"
   ]
  },
  {
   "cell_type": "code",
   "execution_count": 11,
   "id": "883d10bf",
   "metadata": {},
   "outputs": [],
   "source": [
    "Caminho = \"C:\\\\Users\\\\pedro\\\\Documents\\\\Área de Trabalho\\\\tech_challenge_5\\\\01_fontes\\\\arquivos_decision\\\\fontes_tratadas\\\\\"\n",
    "arquivo = \"base_unificada.csv\""
   ]
  },
  {
   "cell_type": "code",
   "execution_count": 12,
   "id": "5ece237b",
   "metadata": {},
   "outputs": [],
   "source": [
    "df_geral.to_csv(Caminho + arquivo, encoding =\"utf8\" , sep=\";\" ,index=False)"
   ]
  }
 ],
 "metadata": {
  "kernelspec": {
   "display_name": ".venv",
   "language": "python",
   "name": "python3"
  },
  "language_info": {
   "codemirror_mode": {
    "name": "ipython",
    "version": 3
   },
   "file_extension": ".py",
   "mimetype": "text/x-python",
   "name": "python",
   "nbconvert_exporter": "python",
   "pygments_lexer": "ipython3",
   "version": "3.10.11"
  }
 },
 "nbformat": 4,
 "nbformat_minor": 5
}
