{
 "cells": [
  {
   "cell_type": "markdown",
   "id": "3f0e7f19",
   "metadata": {},
   "source": [
    "# 00_ETL_modelo"
   ]
  },
  {
   "cell_type": "markdown",
   "id": "9b9302b6",
   "metadata": {},
   "source": [
    "## 01_import_bibliotecas"
   ]
  },
  {
   "cell_type": "code",
   "execution_count": 1,
   "id": "a7610bbf",
   "metadata": {},
   "outputs": [],
   "source": [
    "import pandas as pd\n",
    "import json\n",
    "from pandas import json_normalize\n",
    "import requests"
   ]
  },
  {
   "cell_type": "markdown",
   "id": "63848a0e",
   "metadata": {},
   "source": [
    "## 02_import_dados"
   ]
  },
  {
   "cell_type": "code",
   "execution_count": 2,
   "id": "6e11131f",
   "metadata": {},
   "outputs": [],
   "source": [
    "# import de dados da decision\n",
    "\n",
    "vagas = \"https://github.com/Kinrider/tech_challenge_5/raw/refs/heads/main/01_fontes/arquivos_decision/vagas.json\"\n",
    "prospects = \"https://github.com/Kinrider/tech_challenge_5/raw/refs/heads/main/01_fontes/arquivos_decision/prospects.json\"\n",
    "applicants = \"https://github.com/Kinrider/tech_challenge_5/raw/refs/heads/main/01_fontes/arquivos_decision/applicants.json\""
   ]
  },
  {
   "cell_type": "code",
   "execution_count": 3,
   "id": "b2fad569",
   "metadata": {},
   "outputs": [],
   "source": [
    "# lê os dados do github\n",
    "\n",
    "# vagas\n",
    "response_vagas = requests.get(vagas)\n",
    "data_vagas = response_vagas.json()\n",
    "\n",
    "# prospects\n",
    "response_prospects = requests.get(prospects)\n",
    "data_prospects = response_prospects.json()\n",
    "\n",
    "# Aplicants\n",
    "response_applicants = requests.get(applicants)\n",
    "data_applicants = response_applicants.json()"
   ]
  },
  {
   "cell_type": "markdown",
   "id": "7116a9bf",
   "metadata": {},
   "source": [
    "## 03_tratamento_json"
   ]
  },
  {
   "cell_type": "code",
   "execution_count": 4,
   "id": "d2b3c31f",
   "metadata": {},
   "outputs": [],
   "source": [
    "# Trata Vagas\n",
    "\n",
    "records_vagas = [dict(id_vaga=k, **v) for k, v in data_vagas.items()]\n",
    "\n",
    "df_vagas = pd.json_normalize(records_vagas, sep=\"_\")\n",
    "\n",
    "# Remove os prefixos das colunas\n",
    "prefixos_para_remover_vagas = [\n",
    "    'informacoes_basicas_',\n",
    "    'perfil_vaga_',\n",
    "    'beneficios_'\n",
    "]\n",
    "\n",
    "for prefixo in prefixos_para_remover_vagas:\n",
    "    df_vagas.columns = df_vagas.columns.str.replace(f'^{prefixo}', '', regex=True)"
   ]
  },
  {
   "cell_type": "code",
   "execution_count": 5,
   "id": "d6c04556",
   "metadata": {},
   "outputs": [],
   "source": [
    "# Trata Prospects\n",
    "\n",
    "records_prospects = [dict(id_vaga=k, **v) for k, v in data_prospects.items()]\n",
    "\n",
    "df_prospects = pd.json_normalize(\n",
    "    records_prospects,\n",
    "    record_path='prospects',\n",
    "    meta=['id_vaga', 'titulo', 'modalidade'],\n",
    "    sep='_'\n",
    ")\n",
    "\n",
    "# Remove os prefixos das colunas\n",
    "prefixos_para_remover_prospects = [\n",
    "'prospects_',  \n",
    "]\n",
    "\n",
    "for prefixo in prefixos_para_remover_prospects:\n",
    "    df_prospects.columns = df_prospects.columns.str.replace(f'^{prefixo}', '', regex=True)\n",
    "    \n",
    "df_prospects.rename(columns={'codigo': 'id_candidato'}, inplace=True)"
   ]
  },
  {
   "cell_type": "code",
   "execution_count": 6,
   "id": "87a38e12",
   "metadata": {},
   "outputs": [],
   "source": [
    "# Trata Aplicants\n",
    "\n",
    "records_applicants = [dict(id_candidato=k, **v) for k, v in data_applicants.items()]\n",
    "\n",
    "df_applicants = pd.json_normalize(records_applicants, sep=\"_\")\n",
    "\n",
    "# Remove os prefixos das colunas\n",
    "prefixos_para_remover_applicants = [\n",
    "    'infos_basicas_',\n",
    "    'informacoes_pessoais_',\n",
    "    'informacoes_profissionais_',\n",
    "    'formacao_e_idiomas_',\n",
    "    'cargo_atual_'\n",
    "]\n",
    "\n",
    "for prefixo in prefixos_para_remover_applicants:\n",
    "    df_applicants.columns = df_applicants.columns.str.replace(f'^{prefixo}', '', regex=True)"
   ]
  },
  {
   "cell_type": "markdown",
   "id": "b3716458",
   "metadata": {},
   "source": [
    "## 04_juntando_arquivos"
   ]
  },
  {
   "cell_type": "code",
   "execution_count": 7,
   "id": "3edd337e",
   "metadata": {},
   "outputs": [],
   "source": [
    "# prospects + applicants\n",
    "df_inter = df_prospects.merge(df_applicants, on=\"id_candidato\", how=\"left\", suffixes=('_tabelaprospect', '_tabelaapplicant'))"
   ]
  },
  {
   "cell_type": "code",
   "execution_count": 8,
   "id": "6c923c2c",
   "metadata": {},
   "outputs": [],
   "source": [
    "# dados + Vagas\n",
    "df_geral = df_inter.merge(df_vagas, on=\"id_vaga\", how=\"left\", suffixes=('', '_tabelavaga'))"
   ]
  },
  {
   "cell_type": "markdown",
   "id": "dd4acb34",
   "metadata": {},
   "source": [
    "## 05_Salvando_base_unificada_no_git"
   ]
  },
  {
   "cell_type": "code",
   "execution_count": null,
   "id": "883d10bf",
   "metadata": {},
   "outputs": [],
   "source": [
    "Caminho = \"C:\\\\Users\\\\pedro\\\\Documents\\\\Área de Trabalho\\\\tech_challenge_5\\\\01_fontes\\\\arquivos_decision\\\\fontes_tratadas\\\\\"\n",
    "arquivo = \"base_unificada.csv\""
   ]
  },
  {
   "cell_type": "code",
   "execution_count": null,
   "id": "5ece237b",
   "metadata": {},
   "outputs": [],
   "source": [
    "df_geral.to_csv(Caminho + arquivo, encoding =\"utf8\" , sep=\";\" ,index=False)"
   ]
  },
  {
   "cell_type": "markdown",
   "id": "48ebf55d",
   "metadata": {},
   "source": [
    "## teste"
   ]
  },
  {
   "cell_type": "code",
   "execution_count": 9,
   "id": "409bed57",
   "metadata": {},
   "outputs": [],
   "source": [
    "Caminho = \"C:\\\\Users\\\\pedro\\\\Documents\\\\Área de Trabalho\\\\tech_challenge_5\\\\01_fontes\\\\arquivos_decision\\\\fontes_tratadas\\\\\""
   ]
  },
  {
   "cell_type": "code",
   "execution_count": null,
   "id": "7c734e0d",
   "metadata": {},
   "outputs": [],
   "source": [
    "import re"
   ]
  },
  {
   "cell_type": "code",
   "execution_count": null,
   "id": "3ccf8518",
   "metadata": {},
   "outputs": [],
   "source": [
    "# df_candidatos = df_applicants[\n",
    "#     ['area_atuacao',\n",
    "#     'certificacoes',\n",
    "#     'data_atualizacao',\n",
    "#     'data_criacao',\n",
    "#     'nivel_academico',\n",
    "#     'nivel_espanhol',\n",
    "#     'nivel_ingles',\n",
    "#     'outras_certificacoes',\n",
    "#     'outro_idioma']\n",
    "# ]\n",
    "\n",
    "# df_candidatos = df_applicants.loc[:, ~df_applicants.T.duplicated()]"
   ]
  },
  {
   "cell_type": "code",
   "execution_count": 12,
   "id": "71164d49",
   "metadata": {},
   "outputs": [],
   "source": [
    "df_candidatos = df_applicants[\n",
    "    ['ano_conclusao',\n",
    "'area_atuacao',\n",
    "'cargo_atual',\n",
    "'certificacoes',\n",
    "'conhecimentos_tecnicos',\n",
    "'cursos',\n",
    "'cv_en',\n",
    "'cv_pt',\n",
    "'data_admissao',\n",
    "'data_atualizacao',\n",
    "'data_criacao',\n",
    "'data_ultima_promocao',\n",
    "'experiencias',\n",
    "'fonte_indicacao',\n",
    "'id_candidato',\n",
    "'nivel_academico',\n",
    "'nivel_espanhol',\n",
    "'nivel_ingles',\n",
    "'nivel_profissional',\n",
    "'nome',\n",
    "'objetivo_profissional',\n",
    "'outras_certificacoes',\n",
    "'outro_curso',\n",
    "'outro_idioma',\n",
    "'projeto_atual',\n",
    "'qualificacoes',\n",
    "'remuneracao',\n",
    "'sabendo_de_nos_por',\n",
    "]\n",
    "]"
   ]
  },
  {
   "cell_type": "code",
   "execution_count": 15,
   "id": "6eac0f5e",
   "metadata": {},
   "outputs": [],
   "source": [
    "df_candidatos.to_csv(Caminho + \"01_candidatos.csv\", encoding =\"utf8\" , sep=\",\" ,index=False)"
   ]
  },
  {
   "cell_type": "code",
   "execution_count": 14,
   "id": "6f52f34a",
   "metadata": {},
   "outputs": [
    {
     "ename": "IllegalCharacterError",
     "evalue": "Profissional de tecnologia com 30 anos de experiência, trabalhando há 11 anos com ERP SAP ECC e atualmente com S4/Hana (área funcional/ABAP) em companhias de grande e médio porte, atuando em projetos críticos com competências de gestão do módulo MM (gestão de materiais) e Localização Brasil; Consultor na implantação do SAP S4/HANA com Fiori; Academia Oficial SAP (PUR, IM, IV, MRP, WM, CBP) concluída em 2010 e Localização Brasil (TAXBRA) concluída em 2011; Consultoria na implantação do S4/HANA. Domínio dos cenários de negócios, atuando no mapeamento de processos, levantamento de requisitos, arquitetura de soluções, parametrização do ERP, condução de testes unitários e integrados, produção de documentação, treinamento de key users e auditoria (hands-on); Gestão de Projetos de tecnologia (SAP/JDE), utilizando metodologia ágil SCRUM e métricas PMBOK aliado às metodologias SAP RoadMap e Activate. Perfil com habilidade de liderança, focado na condução de soluções, comprometido e pró\u0002ativo, boa comunicação oral e escrita; Arquiteto de soluções com perfil generalista, atuante como interface entre áreas de negócio e equipe de tecnologia (interna e externa), boa capacidade de adaptação e aprendizagem, flexibilidade e orientação para trabalho em equipe; Desenvolvedor de soluções ABAP utilizando BADI’s, BAPI’s, Report Writer, ALV e ALV OO, Module Pool, Dicionário de dados, Debug, User-exit, Enhancement, Field Exit, Screen Exits, Code Review e Code Tunning, Smartforms, SAPScripts, BDC, análise e aplicação de SAP Notes e webservices PI/PO. Desenvolvedor WEB (PHP) há 13 anos, atuando em projetos terceirizados, domínio de HTML 5, CSS 3, padrão MVC, Ajax, Javascript / Jquery, Bootstrap, Rest / Json, Web Services, Transact-SQL, C#, ASPNET, relatórios em Crystal Reports, com experiência na criação de Dashboards, KPIs, ferramentas de monitoramento, gestão e integração entre sistemas web e ERPs. cannot be used in worksheets.",
     "output_type": "error",
     "traceback": [
      "\u001b[1;31m---------------------------------------------------------------------------\u001b[0m",
      "\u001b[1;31mIllegalCharacterError\u001b[0m                     Traceback (most recent call last)",
      "Cell \u001b[1;32mIn[14], line 2\u001b[0m\n\u001b[0;32m      1\u001b[0m \u001b[38;5;66;03m# Salvar para Excel agora deve funcionar\u001b[39;00m\n\u001b[1;32m----> 2\u001b[0m \u001b[43mdf_candidatos\u001b[49m\u001b[38;5;241;43m.\u001b[39;49m\u001b[43mto_excel\u001b[49m\u001b[43m(\u001b[49m\u001b[43mCaminho\u001b[49m\u001b[43m \u001b[49m\u001b[38;5;241;43m+\u001b[39;49m\u001b[43m \u001b[49m\u001b[38;5;124;43m\"\u001b[39;49m\u001b[38;5;124;43m01_candidatos.xlsx\u001b[39;49m\u001b[38;5;124;43m\"\u001b[39;49m\u001b[43m,\u001b[49m\u001b[43m \u001b[49m\u001b[43mindex\u001b[49m\u001b[38;5;241;43m=\u001b[39;49m\u001b[38;5;28;43;01mFalse\u001b[39;49;00m\u001b[43m,\u001b[49m\u001b[43m \u001b[49m\u001b[43msheet_name\u001b[49m\u001b[38;5;241;43m=\u001b[39;49m\u001b[38;5;124;43m\"\u001b[39;49m\u001b[38;5;124;43mCandidatos\u001b[39;49m\u001b[38;5;124;43m\"\u001b[39;49m\u001b[43m,\u001b[49m\u001b[43m \u001b[49m\u001b[43mengine\u001b[49m\u001b[38;5;241;43m=\u001b[39;49m\u001b[38;5;124;43m'\u001b[39;49m\u001b[38;5;124;43mopenpyxl\u001b[39;49m\u001b[38;5;124;43m'\u001b[39;49m\u001b[43m)\u001b[49m\n",
      "File \u001b[1;32mc:\\Users\\pedro\\Documents\\Área de Trabalho\\tech_challenge_5\\.venv\\lib\\site-packages\\pandas\\util\\_decorators.py:211\u001b[0m, in \u001b[0;36mdeprecate_kwarg.<locals>._deprecate_kwarg.<locals>.wrapper\u001b[1;34m(*args, **kwargs)\u001b[0m\n\u001b[0;32m    209\u001b[0m     \u001b[38;5;28;01melse\u001b[39;00m:\n\u001b[0;32m    210\u001b[0m         kwargs[new_arg_name] \u001b[38;5;241m=\u001b[39m new_arg_value\n\u001b[1;32m--> 211\u001b[0m \u001b[38;5;28;01mreturn\u001b[39;00m func(\u001b[38;5;241m*\u001b[39margs, \u001b[38;5;241m*\u001b[39m\u001b[38;5;241m*\u001b[39mkwargs)\n",
      "File \u001b[1;32mc:\\Users\\pedro\\Documents\\Área de Trabalho\\tech_challenge_5\\.venv\\lib\\site-packages\\pandas\\util\\_decorators.py:211\u001b[0m, in \u001b[0;36mdeprecate_kwarg.<locals>._deprecate_kwarg.<locals>.wrapper\u001b[1;34m(*args, **kwargs)\u001b[0m\n\u001b[0;32m    209\u001b[0m     \u001b[38;5;28;01melse\u001b[39;00m:\n\u001b[0;32m    210\u001b[0m         kwargs[new_arg_name] \u001b[38;5;241m=\u001b[39m new_arg_value\n\u001b[1;32m--> 211\u001b[0m \u001b[38;5;28;01mreturn\u001b[39;00m func(\u001b[38;5;241m*\u001b[39margs, \u001b[38;5;241m*\u001b[39m\u001b[38;5;241m*\u001b[39mkwargs)\n",
      "File \u001b[1;32mc:\\Users\\pedro\\Documents\\Área de Trabalho\\tech_challenge_5\\.venv\\lib\\site-packages\\pandas\\core\\generic.py:2374\u001b[0m, in \u001b[0;36mNDFrame.to_excel\u001b[1;34m(self, excel_writer, sheet_name, na_rep, float_format, columns, header, index, index_label, startrow, startcol, engine, merge_cells, encoding, inf_rep, verbose, freeze_panes, storage_options)\u001b[0m\n\u001b[0;32m   2361\u001b[0m \u001b[38;5;28;01mfrom\u001b[39;00m\u001b[38;5;250m \u001b[39m\u001b[38;5;21;01mpandas\u001b[39;00m\u001b[38;5;21;01m.\u001b[39;00m\u001b[38;5;21;01mio\u001b[39;00m\u001b[38;5;21;01m.\u001b[39;00m\u001b[38;5;21;01mformats\u001b[39;00m\u001b[38;5;21;01m.\u001b[39;00m\u001b[38;5;21;01mexcel\u001b[39;00m\u001b[38;5;250m \u001b[39m\u001b[38;5;28;01mimport\u001b[39;00m ExcelFormatter\n\u001b[0;32m   2363\u001b[0m formatter \u001b[38;5;241m=\u001b[39m ExcelFormatter(\n\u001b[0;32m   2364\u001b[0m     df,\n\u001b[0;32m   2365\u001b[0m     na_rep\u001b[38;5;241m=\u001b[39mna_rep,\n\u001b[1;32m   (...)\u001b[0m\n\u001b[0;32m   2372\u001b[0m     inf_rep\u001b[38;5;241m=\u001b[39minf_rep,\n\u001b[0;32m   2373\u001b[0m )\n\u001b[1;32m-> 2374\u001b[0m \u001b[43mformatter\u001b[49m\u001b[38;5;241;43m.\u001b[39;49m\u001b[43mwrite\u001b[49m\u001b[43m(\u001b[49m\n\u001b[0;32m   2375\u001b[0m \u001b[43m    \u001b[49m\u001b[43mexcel_writer\u001b[49m\u001b[43m,\u001b[49m\n\u001b[0;32m   2376\u001b[0m \u001b[43m    \u001b[49m\u001b[43msheet_name\u001b[49m\u001b[38;5;241;43m=\u001b[39;49m\u001b[43msheet_name\u001b[49m\u001b[43m,\u001b[49m\n\u001b[0;32m   2377\u001b[0m \u001b[43m    \u001b[49m\u001b[43mstartrow\u001b[49m\u001b[38;5;241;43m=\u001b[39;49m\u001b[43mstartrow\u001b[49m\u001b[43m,\u001b[49m\n\u001b[0;32m   2378\u001b[0m \u001b[43m    \u001b[49m\u001b[43mstartcol\u001b[49m\u001b[38;5;241;43m=\u001b[39;49m\u001b[43mstartcol\u001b[49m\u001b[43m,\u001b[49m\n\u001b[0;32m   2379\u001b[0m \u001b[43m    \u001b[49m\u001b[43mfreeze_panes\u001b[49m\u001b[38;5;241;43m=\u001b[39;49m\u001b[43mfreeze_panes\u001b[49m\u001b[43m,\u001b[49m\n\u001b[0;32m   2380\u001b[0m \u001b[43m    \u001b[49m\u001b[43mengine\u001b[49m\u001b[38;5;241;43m=\u001b[39;49m\u001b[43mengine\u001b[49m\u001b[43m,\u001b[49m\n\u001b[0;32m   2381\u001b[0m \u001b[43m    \u001b[49m\u001b[43mstorage_options\u001b[49m\u001b[38;5;241;43m=\u001b[39;49m\u001b[43mstorage_options\u001b[49m\u001b[43m,\u001b[49m\n\u001b[0;32m   2382\u001b[0m \u001b[43m\u001b[49m\u001b[43m)\u001b[49m\n",
      "File \u001b[1;32mc:\\Users\\pedro\\Documents\\Área de Trabalho\\tech_challenge_5\\.venv\\lib\\site-packages\\pandas\\io\\formats\\excel.py:950\u001b[0m, in \u001b[0;36mExcelFormatter.write\u001b[1;34m(self, writer, sheet_name, startrow, startcol, freeze_panes, engine, storage_options)\u001b[0m\n\u001b[0;32m    947\u001b[0m     need_save \u001b[38;5;241m=\u001b[39m \u001b[38;5;28;01mTrue\u001b[39;00m\n\u001b[0;32m    949\u001b[0m \u001b[38;5;28;01mtry\u001b[39;00m:\n\u001b[1;32m--> 950\u001b[0m     \u001b[43mwriter\u001b[49m\u001b[38;5;241;43m.\u001b[39;49m\u001b[43m_write_cells\u001b[49m\u001b[43m(\u001b[49m\n\u001b[0;32m    951\u001b[0m \u001b[43m        \u001b[49m\u001b[43mformatted_cells\u001b[49m\u001b[43m,\u001b[49m\n\u001b[0;32m    952\u001b[0m \u001b[43m        \u001b[49m\u001b[43msheet_name\u001b[49m\u001b[43m,\u001b[49m\n\u001b[0;32m    953\u001b[0m \u001b[43m        \u001b[49m\u001b[43mstartrow\u001b[49m\u001b[38;5;241;43m=\u001b[39;49m\u001b[43mstartrow\u001b[49m\u001b[43m,\u001b[49m\n\u001b[0;32m    954\u001b[0m \u001b[43m        \u001b[49m\u001b[43mstartcol\u001b[49m\u001b[38;5;241;43m=\u001b[39;49m\u001b[43mstartcol\u001b[49m\u001b[43m,\u001b[49m\n\u001b[0;32m    955\u001b[0m \u001b[43m        \u001b[49m\u001b[43mfreeze_panes\u001b[49m\u001b[38;5;241;43m=\u001b[39;49m\u001b[43mfreeze_panes\u001b[49m\u001b[43m,\u001b[49m\n\u001b[0;32m    956\u001b[0m \u001b[43m    \u001b[49m\u001b[43m)\u001b[49m\n\u001b[0;32m    957\u001b[0m \u001b[38;5;28;01mfinally\u001b[39;00m:\n\u001b[0;32m    958\u001b[0m     \u001b[38;5;66;03m# make sure to close opened file handles\u001b[39;00m\n\u001b[0;32m    959\u001b[0m     \u001b[38;5;28;01mif\u001b[39;00m need_save:\n",
      "File \u001b[1;32mc:\\Users\\pedro\\Documents\\Área de Trabalho\\tech_challenge_5\\.venv\\lib\\site-packages\\pandas\\io\\excel\\_openpyxl.py:496\u001b[0m, in \u001b[0;36mOpenpyxlWriter._write_cells\u001b[1;34m(self, cells, sheet_name, startrow, startcol, freeze_panes)\u001b[0m\n\u001b[0;32m    492\u001b[0m \u001b[38;5;28;01mfor\u001b[39;00m cell \u001b[38;5;129;01min\u001b[39;00m cells:\n\u001b[0;32m    493\u001b[0m     xcell \u001b[38;5;241m=\u001b[39m wks\u001b[38;5;241m.\u001b[39mcell(\n\u001b[0;32m    494\u001b[0m         row\u001b[38;5;241m=\u001b[39mstartrow \u001b[38;5;241m+\u001b[39m cell\u001b[38;5;241m.\u001b[39mrow \u001b[38;5;241m+\u001b[39m \u001b[38;5;241m1\u001b[39m, column\u001b[38;5;241m=\u001b[39mstartcol \u001b[38;5;241m+\u001b[39m cell\u001b[38;5;241m.\u001b[39mcol \u001b[38;5;241m+\u001b[39m \u001b[38;5;241m1\u001b[39m\n\u001b[0;32m    495\u001b[0m     )\n\u001b[1;32m--> 496\u001b[0m     \u001b[43mxcell\u001b[49m\u001b[38;5;241;43m.\u001b[39;49m\u001b[43mvalue\u001b[49m, fmt \u001b[38;5;241m=\u001b[39m \u001b[38;5;28mself\u001b[39m\u001b[38;5;241m.\u001b[39m_value_with_fmt(cell\u001b[38;5;241m.\u001b[39mval)\n\u001b[0;32m    497\u001b[0m     \u001b[38;5;28;01mif\u001b[39;00m fmt:\n\u001b[0;32m    498\u001b[0m         xcell\u001b[38;5;241m.\u001b[39mnumber_format \u001b[38;5;241m=\u001b[39m fmt\n",
      "File \u001b[1;32mc:\\Users\\pedro\\Documents\\Área de Trabalho\\tech_challenge_5\\.venv\\lib\\site-packages\\openpyxl\\cell\\cell.py:218\u001b[0m, in \u001b[0;36mCell.value\u001b[1;34m(self, value)\u001b[0m\n\u001b[0;32m    215\u001b[0m \u001b[38;5;129m@value\u001b[39m\u001b[38;5;241m.\u001b[39msetter\n\u001b[0;32m    216\u001b[0m \u001b[38;5;28;01mdef\u001b[39;00m\u001b[38;5;250m \u001b[39m\u001b[38;5;21mvalue\u001b[39m(\u001b[38;5;28mself\u001b[39m, value):\n\u001b[0;32m    217\u001b[0m \u001b[38;5;250m    \u001b[39m\u001b[38;5;124;03m\"\"\"Set the value and infer type and display options.\"\"\"\u001b[39;00m\n\u001b[1;32m--> 218\u001b[0m     \u001b[38;5;28;43mself\u001b[39;49m\u001b[38;5;241;43m.\u001b[39;49m\u001b[43m_bind_value\u001b[49m\u001b[43m(\u001b[49m\u001b[43mvalue\u001b[49m\u001b[43m)\u001b[49m\n",
      "File \u001b[1;32mc:\\Users\\pedro\\Documents\\Área de Trabalho\\tech_challenge_5\\.venv\\lib\\site-packages\\openpyxl\\cell\\cell.py:197\u001b[0m, in \u001b[0;36mCell._bind_value\u001b[1;34m(self, value)\u001b[0m\n\u001b[0;32m    194\u001b[0m         \u001b[38;5;28mself\u001b[39m\u001b[38;5;241m.\u001b[39mnumber_format \u001b[38;5;241m=\u001b[39m get_time_format(t)\n\u001b[0;32m    196\u001b[0m \u001b[38;5;28;01melif\u001b[39;00m dt \u001b[38;5;241m==\u001b[39m \u001b[38;5;124m\"\u001b[39m\u001b[38;5;124ms\u001b[39m\u001b[38;5;124m\"\u001b[39m \u001b[38;5;129;01mand\u001b[39;00m \u001b[38;5;129;01mnot\u001b[39;00m \u001b[38;5;28misinstance\u001b[39m(value, CellRichText):\n\u001b[1;32m--> 197\u001b[0m     value \u001b[38;5;241m=\u001b[39m \u001b[38;5;28;43mself\u001b[39;49m\u001b[38;5;241;43m.\u001b[39;49m\u001b[43mcheck_string\u001b[49m\u001b[43m(\u001b[49m\u001b[43mvalue\u001b[49m\u001b[43m)\u001b[49m\n\u001b[0;32m    198\u001b[0m     \u001b[38;5;28;01mif\u001b[39;00m \u001b[38;5;28mlen\u001b[39m(value) \u001b[38;5;241m>\u001b[39m \u001b[38;5;241m1\u001b[39m \u001b[38;5;129;01mand\u001b[39;00m value\u001b[38;5;241m.\u001b[39mstartswith(\u001b[38;5;124m\"\u001b[39m\u001b[38;5;124m=\u001b[39m\u001b[38;5;124m\"\u001b[39m):\n\u001b[0;32m    199\u001b[0m         \u001b[38;5;28mself\u001b[39m\u001b[38;5;241m.\u001b[39mdata_type \u001b[38;5;241m=\u001b[39m \u001b[38;5;124m'\u001b[39m\u001b[38;5;124mf\u001b[39m\u001b[38;5;124m'\u001b[39m\n",
      "File \u001b[1;32mc:\\Users\\pedro\\Documents\\Área de Trabalho\\tech_challenge_5\\.venv\\lib\\site-packages\\openpyxl\\cell\\cell.py:165\u001b[0m, in \u001b[0;36mCell.check_string\u001b[1;34m(self, value)\u001b[0m\n\u001b[0;32m    163\u001b[0m value \u001b[38;5;241m=\u001b[39m value[:\u001b[38;5;241m32767\u001b[39m]\n\u001b[0;32m    164\u001b[0m \u001b[38;5;28;01mif\u001b[39;00m \u001b[38;5;28mnext\u001b[39m(ILLEGAL_CHARACTERS_RE\u001b[38;5;241m.\u001b[39mfinditer(value), \u001b[38;5;28;01mNone\u001b[39;00m):\n\u001b[1;32m--> 165\u001b[0m     \u001b[38;5;28;01mraise\u001b[39;00m IllegalCharacterError(\u001b[38;5;124mf\u001b[39m\u001b[38;5;124m\"\u001b[39m\u001b[38;5;132;01m{\u001b[39;00mvalue\u001b[38;5;132;01m}\u001b[39;00m\u001b[38;5;124m cannot be used in worksheets.\u001b[39m\u001b[38;5;124m\"\u001b[39m)\n\u001b[0;32m    166\u001b[0m \u001b[38;5;28;01mreturn\u001b[39;00m value\n",
      "\u001b[1;31mIllegalCharacterError\u001b[0m: Profissional de tecnologia com 30 anos de experiência, trabalhando há 11 anos com ERP SAP ECC e atualmente com S4/Hana (área funcional/ABAP) em companhias de grande e médio porte, atuando em projetos críticos com competências de gestão do módulo MM (gestão de materiais) e Localização Brasil; Consultor na implantação do SAP S4/HANA com Fiori; Academia Oficial SAP (PUR, IM, IV, MRP, WM, CBP) concluída em 2010 e Localização Brasil (TAXBRA) concluída em 2011; Consultoria na implantação do S4/HANA. Domínio dos cenários de negócios, atuando no mapeamento de processos, levantamento de requisitos, arquitetura de soluções, parametrização do ERP, condução de testes unitários e integrados, produção de documentação, treinamento de key users e auditoria (hands-on); Gestão de Projetos de tecnologia (SAP/JDE), utilizando metodologia ágil SCRUM e métricas PMBOK aliado às metodologias SAP RoadMap e Activate. Perfil com habilidade de liderança, focado na condução de soluções, comprometido e pró\u0002ativo, boa comunicação oral e escrita; Arquiteto de soluções com perfil generalista, atuante como interface entre áreas de negócio e equipe de tecnologia (interna e externa), boa capacidade de adaptação e aprendizagem, flexibilidade e orientação para trabalho em equipe; Desenvolvedor de soluções ABAP utilizando BADI’s, BAPI’s, Report Writer, ALV e ALV OO, Module Pool, Dicionário de dados, Debug, User-exit, Enhancement, Field Exit, Screen Exits, Code Review e Code Tunning, Smartforms, SAPScripts, BDC, análise e aplicação de SAP Notes e webservices PI/PO. Desenvolvedor WEB (PHP) há 13 anos, atuando em projetos terceirizados, domínio de HTML 5, CSS 3, padrão MVC, Ajax, Javascript / Jquery, Bootstrap, Rest / Json, Web Services, Transact-SQL, C#, ASPNET, relatórios em Crystal Reports, com experiência na criação de Dashboards, KPIs, ferramentas de monitoramento, gestão e integração entre sistemas web e ERPs. cannot be used in worksheets."
     ]
    }
   ],
   "source": [
    "# Salvar para Excel agora deve funcionar\n",
    "df_candidatos.to_excel(Caminho + \"01_candidatos.xlsx\", index=False, sheet_name=\"Candidatos\", engine='openpyxl')"
   ]
  },
  {
   "cell_type": "code",
   "execution_count": null,
   "id": "3cf80cb7",
   "metadata": {},
   "outputs": [],
   "source": [
    "df_candidatos.to_parquet(Caminho + \"01_candidatos.parquet\", index=False)"
   ]
  },
  {
   "cell_type": "code",
   "execution_count": 13,
   "id": "50b87d2d",
   "metadata": {},
   "outputs": [
    {
     "ename": "KeyboardInterrupt",
     "evalue": "",
     "output_type": "error",
     "traceback": [
      "\u001b[1;31m---------------------------------------------------------------------------\u001b[0m",
      "\u001b[1;31mKeyboardInterrupt\u001b[0m                         Traceback (most recent call last)",
      "Cell \u001b[1;32mIn[13], line 11\u001b[0m\n\u001b[0;32m      8\u001b[0m     \u001b[38;5;28;01mreturn\u001b[39;00m valor\n\u001b[0;32m     10\u001b[0m \u001b[38;5;66;03m# Aplica a limpeza a todas as células do DataFrame\u001b[39;00m\n\u001b[1;32m---> 11\u001b[0m df_candidatos \u001b[38;5;241m=\u001b[39m \u001b[43mdf_candidatos\u001b[49m\u001b[38;5;241;43m.\u001b[39;49m\u001b[43mapplymap\u001b[49m\u001b[43m(\u001b[49m\u001b[43mlimpar_valor\u001b[49m\u001b[43m)\u001b[49m\n\u001b[0;32m     13\u001b[0m \u001b[38;5;66;03m# Salvar para Excel agora deve funcionar\u001b[39;00m\n\u001b[0;32m     14\u001b[0m df_candidatos\u001b[38;5;241m.\u001b[39mto_excel(Caminho \u001b[38;5;241m+\u001b[39m \u001b[38;5;124m\"\u001b[39m\u001b[38;5;124m01_candidatos.xlsx\u001b[39m\u001b[38;5;124m\"\u001b[39m, index\u001b[38;5;241m=\u001b[39m\u001b[38;5;28;01mFalse\u001b[39;00m, sheet_name\u001b[38;5;241m=\u001b[39m\u001b[38;5;124m\"\u001b[39m\u001b[38;5;124mCandidatos\u001b[39m\u001b[38;5;124m\"\u001b[39m, engine\u001b[38;5;241m=\u001b[39m\u001b[38;5;124m'\u001b[39m\u001b[38;5;124mopenpyxl\u001b[39m\u001b[38;5;124m'\u001b[39m)\n",
      "File \u001b[1;32mc:\\Users\\pedro\\Documents\\Área de Trabalho\\tech_challenge_5\\.venv\\lib\\site-packages\\pandas\\core\\frame.py:9653\u001b[0m, in \u001b[0;36mDataFrame.applymap\u001b[1;34m(self, func, na_action, **kwargs)\u001b[0m\n\u001b[0;32m   9650\u001b[0m         \u001b[38;5;28;01mreturn\u001b[39;00m lib\u001b[38;5;241m.\u001b[39mmap_infer(x, func, ignore_na\u001b[38;5;241m=\u001b[39mignore_na)\n\u001b[0;32m   9651\u001b[0m     \u001b[38;5;28;01mreturn\u001b[39;00m lib\u001b[38;5;241m.\u001b[39mmap_infer(x\u001b[38;5;241m.\u001b[39mastype(\u001b[38;5;28mobject\u001b[39m)\u001b[38;5;241m.\u001b[39m_values, func, ignore_na\u001b[38;5;241m=\u001b[39mignore_na)\n\u001b[1;32m-> 9653\u001b[0m \u001b[38;5;28;01mreturn\u001b[39;00m \u001b[38;5;28;43mself\u001b[39;49m\u001b[38;5;241;43m.\u001b[39;49m\u001b[43mapply\u001b[49m\u001b[43m(\u001b[49m\u001b[43minfer\u001b[49m\u001b[43m)\u001b[49m\u001b[38;5;241m.\u001b[39m__finalize__(\u001b[38;5;28mself\u001b[39m, \u001b[38;5;124m\"\u001b[39m\u001b[38;5;124mapplymap\u001b[39m\u001b[38;5;124m\"\u001b[39m)\n",
      "File \u001b[1;32mc:\\Users\\pedro\\Documents\\Área de Trabalho\\tech_challenge_5\\.venv\\lib\\site-packages\\pandas\\core\\frame.py:9568\u001b[0m, in \u001b[0;36mDataFrame.apply\u001b[1;34m(self, func, axis, raw, result_type, args, **kwargs)\u001b[0m\n\u001b[0;32m   9557\u001b[0m \u001b[38;5;28;01mfrom\u001b[39;00m\u001b[38;5;250m \u001b[39m\u001b[38;5;21;01mpandas\u001b[39;00m\u001b[38;5;21;01m.\u001b[39;00m\u001b[38;5;21;01mcore\u001b[39;00m\u001b[38;5;21;01m.\u001b[39;00m\u001b[38;5;21;01mapply\u001b[39;00m\u001b[38;5;250m \u001b[39m\u001b[38;5;28;01mimport\u001b[39;00m frame_apply\n\u001b[0;32m   9559\u001b[0m op \u001b[38;5;241m=\u001b[39m frame_apply(\n\u001b[0;32m   9560\u001b[0m     \u001b[38;5;28mself\u001b[39m,\n\u001b[0;32m   9561\u001b[0m     func\u001b[38;5;241m=\u001b[39mfunc,\n\u001b[1;32m   (...)\u001b[0m\n\u001b[0;32m   9566\u001b[0m     kwargs\u001b[38;5;241m=\u001b[39mkwargs,\n\u001b[0;32m   9567\u001b[0m )\n\u001b[1;32m-> 9568\u001b[0m \u001b[38;5;28;01mreturn\u001b[39;00m \u001b[43mop\u001b[49m\u001b[38;5;241;43m.\u001b[39;49m\u001b[43mapply\u001b[49m\u001b[43m(\u001b[49m\u001b[43m)\u001b[49m\u001b[38;5;241m.\u001b[39m__finalize__(\u001b[38;5;28mself\u001b[39m, method\u001b[38;5;241m=\u001b[39m\u001b[38;5;124m\"\u001b[39m\u001b[38;5;124mapply\u001b[39m\u001b[38;5;124m\"\u001b[39m)\n",
      "File \u001b[1;32mc:\\Users\\pedro\\Documents\\Área de Trabalho\\tech_challenge_5\\.venv\\lib\\site-packages\\pandas\\core\\apply.py:764\u001b[0m, in \u001b[0;36mFrameApply.apply\u001b[1;34m(self)\u001b[0m\n\u001b[0;32m    761\u001b[0m \u001b[38;5;28;01melif\u001b[39;00m \u001b[38;5;28mself\u001b[39m\u001b[38;5;241m.\u001b[39mraw:\n\u001b[0;32m    762\u001b[0m     \u001b[38;5;28;01mreturn\u001b[39;00m \u001b[38;5;28mself\u001b[39m\u001b[38;5;241m.\u001b[39mapply_raw()\n\u001b[1;32m--> 764\u001b[0m \u001b[38;5;28;01mreturn\u001b[39;00m \u001b[38;5;28;43mself\u001b[39;49m\u001b[38;5;241;43m.\u001b[39;49m\u001b[43mapply_standard\u001b[49m\u001b[43m(\u001b[49m\u001b[43m)\u001b[49m\n",
      "File \u001b[1;32mc:\\Users\\pedro\\Documents\\Área de Trabalho\\tech_challenge_5\\.venv\\lib\\site-packages\\pandas\\core\\apply.py:891\u001b[0m, in \u001b[0;36mFrameApply.apply_standard\u001b[1;34m(self)\u001b[0m\n\u001b[0;32m    890\u001b[0m \u001b[38;5;28;01mdef\u001b[39;00m\u001b[38;5;250m \u001b[39m\u001b[38;5;21mapply_standard\u001b[39m(\u001b[38;5;28mself\u001b[39m):\n\u001b[1;32m--> 891\u001b[0m     results, res_index \u001b[38;5;241m=\u001b[39m \u001b[38;5;28;43mself\u001b[39;49m\u001b[38;5;241;43m.\u001b[39;49m\u001b[43mapply_series_generator\u001b[49m\u001b[43m(\u001b[49m\u001b[43m)\u001b[49m\n\u001b[0;32m    893\u001b[0m     \u001b[38;5;66;03m# wrap results\u001b[39;00m\n\u001b[0;32m    894\u001b[0m     \u001b[38;5;28;01mreturn\u001b[39;00m \u001b[38;5;28mself\u001b[39m\u001b[38;5;241m.\u001b[39mwrap_results(results, res_index)\n",
      "File \u001b[1;32mc:\\Users\\pedro\\Documents\\Área de Trabalho\\tech_challenge_5\\.venv\\lib\\site-packages\\pandas\\core\\apply.py:907\u001b[0m, in \u001b[0;36mFrameApply.apply_series_generator\u001b[1;34m(self)\u001b[0m\n\u001b[0;32m    904\u001b[0m \u001b[38;5;28;01mwith\u001b[39;00m option_context(\u001b[38;5;124m\"\u001b[39m\u001b[38;5;124mmode.chained_assignment\u001b[39m\u001b[38;5;124m\"\u001b[39m, \u001b[38;5;28;01mNone\u001b[39;00m):\n\u001b[0;32m    905\u001b[0m     \u001b[38;5;28;01mfor\u001b[39;00m i, v \u001b[38;5;129;01min\u001b[39;00m \u001b[38;5;28menumerate\u001b[39m(series_gen):\n\u001b[0;32m    906\u001b[0m         \u001b[38;5;66;03m# ignore SettingWithCopy here in case the user mutates\u001b[39;00m\n\u001b[1;32m--> 907\u001b[0m         results[i] \u001b[38;5;241m=\u001b[39m \u001b[38;5;28;43mself\u001b[39;49m\u001b[38;5;241;43m.\u001b[39;49m\u001b[43mf\u001b[49m\u001b[43m(\u001b[49m\u001b[43mv\u001b[49m\u001b[43m)\u001b[49m\n\u001b[0;32m    908\u001b[0m         \u001b[38;5;28;01mif\u001b[39;00m \u001b[38;5;28misinstance\u001b[39m(results[i], ABCSeries):\n\u001b[0;32m    909\u001b[0m             \u001b[38;5;66;03m# If we have a view on v, we need to make a copy because\u001b[39;00m\n\u001b[0;32m    910\u001b[0m             \u001b[38;5;66;03m#  series_generator will swap out the underlying data\u001b[39;00m\n\u001b[0;32m    911\u001b[0m             results[i] \u001b[38;5;241m=\u001b[39m results[i]\u001b[38;5;241m.\u001b[39mcopy(deep\u001b[38;5;241m=\u001b[39m\u001b[38;5;28;01mFalse\u001b[39;00m)\n",
      "File \u001b[1;32mc:\\Users\\pedro\\Documents\\Área de Trabalho\\tech_challenge_5\\.venv\\lib\\site-packages\\pandas\\core\\frame.py:9651\u001b[0m, in \u001b[0;36mDataFrame.applymap.<locals>.infer\u001b[1;34m(x)\u001b[0m\n\u001b[0;32m   9649\u001b[0m \u001b[38;5;28;01mif\u001b[39;00m x\u001b[38;5;241m.\u001b[39mempty:\n\u001b[0;32m   9650\u001b[0m     \u001b[38;5;28;01mreturn\u001b[39;00m lib\u001b[38;5;241m.\u001b[39mmap_infer(x, func, ignore_na\u001b[38;5;241m=\u001b[39mignore_na)\n\u001b[1;32m-> 9651\u001b[0m \u001b[38;5;28;01mreturn\u001b[39;00m \u001b[43mlib\u001b[49m\u001b[38;5;241;43m.\u001b[39;49m\u001b[43mmap_infer\u001b[49m\u001b[43m(\u001b[49m\u001b[43mx\u001b[49m\u001b[38;5;241;43m.\u001b[39;49m\u001b[43mastype\u001b[49m\u001b[43m(\u001b[49m\u001b[38;5;28;43mobject\u001b[39;49m\u001b[43m)\u001b[49m\u001b[38;5;241;43m.\u001b[39;49m\u001b[43m_values\u001b[49m\u001b[43m,\u001b[49m\u001b[43m \u001b[49m\u001b[43mfunc\u001b[49m\u001b[43m,\u001b[49m\u001b[43m \u001b[49m\u001b[43mignore_na\u001b[49m\u001b[38;5;241;43m=\u001b[39;49m\u001b[43mignore_na\u001b[49m\u001b[43m)\u001b[49m\n",
      "File \u001b[1;32mc:\\Users\\pedro\\Documents\\Área de Trabalho\\tech_challenge_5\\.venv\\lib\\site-packages\\pandas\\_libs\\lib.pyx:2924\u001b[0m, in \u001b[0;36mpandas._libs.lib.map_infer\u001b[1;34m()\u001b[0m\n",
      "Cell \u001b[1;32mIn[13], line 4\u001b[0m, in \u001b[0;36mlimpar_valor\u001b[1;34m(valor)\u001b[0m\n\u001b[0;32m      1\u001b[0m \u001b[38;5;28;01mimport\u001b[39;00m\u001b[38;5;250m \u001b[39m\u001b[38;5;21;01mre\u001b[39;00m\n\u001b[0;32m      3\u001b[0m \u001b[38;5;66;03m# Função para remover caracteres ilegais invisíveis (ex: \\x00, \\x01, etc.)\u001b[39;00m\n\u001b[1;32m----> 4\u001b[0m \u001b[38;5;28;01mdef\u001b[39;00m\u001b[38;5;250m \u001b[39m\u001b[38;5;21mlimpar_valor\u001b[39m(valor):\n\u001b[0;32m      5\u001b[0m     \u001b[38;5;28;01mif\u001b[39;00m \u001b[38;5;28misinstance\u001b[39m(valor, \u001b[38;5;28mstr\u001b[39m):\n\u001b[0;32m      6\u001b[0m         \u001b[38;5;66;03m# Remove caracteres de controle ASCII 0–31\u001b[39;00m\n\u001b[0;32m      7\u001b[0m         \u001b[38;5;28;01mreturn\u001b[39;00m re\u001b[38;5;241m.\u001b[39msub(\u001b[38;5;124mr\u001b[39m\u001b[38;5;124m'\u001b[39m\u001b[38;5;124m[\u001b[39m\u001b[38;5;124m\\\u001b[39m\u001b[38;5;124mx00-\u001b[39m\u001b[38;5;124m\\\u001b[39m\u001b[38;5;124mx1F]\u001b[39m\u001b[38;5;124m'\u001b[39m, \u001b[38;5;124m'\u001b[39m\u001b[38;5;124m'\u001b[39m, valor)\n",
      "\u001b[1;31mKeyboardInterrupt\u001b[0m: "
     ]
    }
   ],
   "source": [
    "import re\n",
    "\n",
    "# Função para remover caracteres ilegais invisíveis (ex: \\x00, \\x01, etc.)\n",
    "def limpar_valor(valor):\n",
    "    if isinstance(valor, str):\n",
    "        # Remove caracteres de controle ASCII 0–31\n",
    "        return re.sub(r'[\\x00-\\x1F]', '', valor)\n",
    "    return valor\n",
    "\n",
    "# Aplica a limpeza a todas as células do DataFrame\n",
    "df_candidatos = df_candidatos.applymap(limpar_valor)\n",
    "\n",
    "# Salvar para Excel agora deve funcionar\n",
    "df_candidatos.to_excel(Caminho + \"01_candidatos.xlsx\", index=False, sheet_name=\"Candidatos\", engine='openpyxl')"
   ]
  }
 ],
 "metadata": {
  "kernelspec": {
   "display_name": ".venv",
   "language": "python",
   "name": "python3"
  },
  "language_info": {
   "codemirror_mode": {
    "name": "ipython",
    "version": 3
   },
   "file_extension": ".py",
   "mimetype": "text/x-python",
   "name": "python",
   "nbconvert_exporter": "python",
   "pygments_lexer": "ipython3",
   "version": "3.10.11"
  }
 },
 "nbformat": 4,
 "nbformat_minor": 5
}
