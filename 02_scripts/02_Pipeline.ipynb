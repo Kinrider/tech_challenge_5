{
 "cells": [
  {
   "cell_type": "markdown",
   "id": "223961f8",
   "metadata": {},
   "source": [
    "# 02_Pipeline_preprocessamento"
   ]
  },
  {
   "cell_type": "code",
   "execution_count": 1,
   "id": "d4c72464",
   "metadata": {},
   "outputs": [],
   "source": [
    "# 01. Importação de bibliotecas\n",
    "import pandas as pd\n",
    "import numpy as np\n",
    "import joblib\n",
    "from sklearn.base import BaseEstimator, TransformerMixin\n",
    "from sklearn.pipeline import Pipeline\n",
    "from sklearn.impute import SimpleImputer\n",
    "from sklearn.preprocessing import StandardScaler, OneHotEncoder\n",
    "from sklearn.compose import ColumnTransformer\n",
    "import os\n"
   ]
  },
  {
   "cell_type": "code",
   "execution_count": 2,
   "id": "b49a5eff",
   "metadata": {},
   "outputs": [],
   "source": [
    "# 02. Carregamento de dados de exemplo (opcional para teste)\n",
    "# df = pd.read_parquet(\"...\")  # substitua por dados de teste se necessário\n"
   ]
  },
  {
   "cell_type": "code",
   "execution_count": 3,
   "id": "ecf77b3d",
   "metadata": {},
   "outputs": [],
   "source": [
    "# 03. Classes de transformação personalizadas\n",
    "\n",
    "class HierarquiaOrdinalTransformer(BaseEstimator, TransformerMixin):\n",
    "    def __init__(self):\n",
    "        self.mapa = {\n",
    "            'estagiario': 1, 'analista': 2, 'especialista': 3, 'consultor': 3,\n",
    "            'coordenador': 4, 'gerente': 5, 'diretor': 6, 'c-level': 7,\n",
    "            'não identificado': 0, None: 0\n",
    "        }\n",
    "\n",
    "    def fit(self, X, y=None):\n",
    "        return self\n",
    "\n",
    "    def transform(self, X):\n",
    "        return X.fillna(\"não identificado\").str.lower().map(self.mapa).fillna(0).astype(int).to_frame()\n",
    "\n",
    "class EducacionalOrdinalTransformer(BaseEstimator, TransformerMixin):\n",
    "    def __init__(self):\n",
    "        self.mapa = {\n",
    "            'ensino fundamental': 1,\n",
    "            'ensino médio': 2,\n",
    "            'ensino superior': 3,\n",
    "            'superior incompleto': 3,\n",
    "            'pós-graduação ou mais': 4,\n",
    "            'não identificado': 0,\n",
    "            None: 0\n",
    "        }\n",
    "\n",
    "    def fit(self, X, y=None):\n",
    "        return self\n",
    "\n",
    "    def transform(self, X):\n",
    "        return X.map(self.mapa).fillna(0).astype(int).to_frame()\n",
    "\n",
    "class BooleanToInt(BaseEstimator, TransformerMixin):\n",
    "    def fit(self, X, y=None):\n",
    "        return self\n",
    "\n",
    "    def transform(self, X):\n",
    "        return X.astype(int)\n"
   ]
  },
  {
   "cell_type": "code",
   "execution_count": 4,
   "id": "da240170",
   "metadata": {},
   "outputs": [],
   "source": [
    "# 04. Definir colunas e pipelines\n",
    "\n",
    "colunas_numericas = ['remuneracao_zscore', 'tempo_experiencia_anos', 'quantidade_experiencias']\n",
    "coluna_hierarquia = ['nivel_hierarquico']\n",
    "coluna_educacional = ['nivel_educacional']\n",
    "coluna_sap = ['experiencia_sap']\n",
    "coluna_categoria = ['categoria_profissional']\n"
   ]
  },
  {
   "cell_type": "code",
   "execution_count": 5,
   "id": "8fcd353f",
   "metadata": {},
   "outputs": [],
   "source": [
    "# 05. Criar pipelines\n",
    "\n",
    "pipeline_num = Pipeline([\n",
    "    (\"imputer\", SimpleImputer(strategy=\"median\")),\n",
    "    (\"scaler\", StandardScaler())\n",
    "])\n",
    "\n",
    "pipeline_sap = Pipeline([\n",
    "    (\"bool_to_int\", BooleanToInt())\n",
    "])\n",
    "\n",
    "pipeline_cat = Pipeline([\n",
    "    (\"onehot\", OneHotEncoder(drop=\"first\", sparse=False, handle_unknown='ignore'))\n",
    "])\n"
   ]
  },
  {
   "cell_type": "code",
   "execution_count": 6,
   "id": "48bc2bf0",
   "metadata": {},
   "outputs": [],
   "source": [
    "# 06. Combinar transformações\n",
    "\n",
    "preprocessador = ColumnTransformer([\n",
    "    (\"num\", pipeline_num, colunas_numericas),\n",
    "    (\"hierarquia\", HierarquiaOrdinalTransformer(), coluna_hierarquia),\n",
    "    (\"educacional\", EducacionalOrdinalTransformer(), coluna_educacional),\n",
    "    (\"sap\", pipeline_sap, coluna_sap),\n",
    "    (\"categoria\", pipeline_cat, coluna_categoria)\n",
    "])\n"
   ]
  },
  {
   "cell_type": "code",
   "execution_count": 7,
   "id": "0aa054fb",
   "metadata": {},
   "outputs": [
    {
     "name": "stdout",
     "output_type": "stream",
     "text": [
      "✅ Pipeline salvo em: C:\\\\Users\\\\pedro\\\\Documents\\\\Área de Trabalho\\\\tech_challenge_5\\\\03_modelos\n"
     ]
    }
   ],
   "source": [
    "# 07. Salvar o pipeline\n",
    "caminho_saida = r\"C:\\\\Users\\\\pedro\\\\Documents\\\\Área de Trabalho\\\\tech_challenge_5\\\\03_modelos\"\n",
    "import os\n",
    "os.makedirs(caminho_saida, exist_ok=True)\n",
    "joblib.dump(preprocessador, os.path.join(caminho_saida, \"pipeline_preprocessamento.joblib\"))\n",
    "print(\"✅ Pipeline salvo em:\", caminho_saida)"
   ]
  }
 ],
 "metadata": {
  "kernelspec": {
   "display_name": ".venv",
   "language": "python",
   "name": "python3"
  },
  "language_info": {
   "codemirror_mode": {
    "name": "ipython",
    "version": 3
   },
   "file_extension": ".py",
   "mimetype": "text/x-python",
   "name": "python",
   "nbconvert_exporter": "python",
   "pygments_lexer": "ipython3",
   "version": "3.10.11"
  }
 },
 "nbformat": 4,
 "nbformat_minor": 5
}
