{
 "cells": [
  {
   "cell_type": "markdown",
   "id": "d43f89b3",
   "metadata": {},
   "source": [
    "# 03_Processo_clusterizacao"
   ]
  },
  {
   "cell_type": "markdown",
   "id": "a31f05d0",
   "metadata": {},
   "source": [
    "## 01_import_bibliotecas"
   ]
  },
  {
   "cell_type": "code",
   "execution_count": null,
   "id": "ff0a62d8",
   "metadata": {},
   "outputs": [],
   "source": [
    "import pandas as pd\n",
    "import numpy as np\n",
    "from sklearn.preprocessing import StandardScaler\n",
    "from sklearn.impute import SimpleImputer\n",
    "from sklearn.cluster import KMeans"
   ]
  },
  {
   "cell_type": "markdown",
   "id": "d9371193",
   "metadata": {},
   "source": [
    "## 02_Carga_de_dados"
   ]
  },
  {
   "cell_type": "code",
   "execution_count": null,
   "id": "86c1a9f6",
   "metadata": {},
   "outputs": [],
   "source": [
    "# === Caminho do arquivo parquet\n",
    "input = \"https://github.com/Kinrider/tech_challenge_5/raw/refs/heads/main/01_fontes/arquivos_decision/fontes_tratadas/02_cluster_input.parquet\""
   ]
  },
  {
   "cell_type": "code",
   "execution_count": null,
   "id": "1d37ed9b",
   "metadata": {},
   "outputs": [],
   "source": [
    "df_cluster_input = pd.read_parquet(input)"
   ]
  },
  {
   "cell_type": "markdown",
   "id": "2bfd3923",
   "metadata": {},
   "source": [
    "## 03_Clusterização"
   ]
  },
  {
   "cell_type": "code",
   "execution_count": null,
   "id": "6c0ff49d",
   "metadata": {},
   "outputs": [],
   "source": [
    "\n",
    "# === Padronizar\n",
    "scaler = StandardScaler()\n",
    "X_scaled = scaler.fit_transform(df)"
   ]
  },
  {
   "cell_type": "code",
   "execution_count": null,
   "id": "127da153",
   "metadata": {},
   "outputs": [],
   "source": [
    "\n",
    "# === Imputar valores ausentes com média\n",
    "imputer = SimpleImputer(strategy=\"mean\")\n",
    "X_imputed = imputer.fit_transform(X_scaled)\n"
   ]
  },
  {
   "cell_type": "code",
   "execution_count": null,
   "id": "3e707696",
   "metadata": {},
   "outputs": [],
   "source": [
    "\n",
    "# === Aplicar KMeans com k=3\n",
    "k = 3\n",
    "kmeans = KMeans(n_clusters=k, random_state=42, n_init=10)\n",
    "df[\"cluster\"] = kmeans.fit_predict(X_imputed)\n",
    "\n"
   ]
  },
  {
   "cell_type": "code",
   "execution_count": null,
   "id": "98ddefc0",
   "metadata": {},
   "outputs": [],
   "source": [
    "# === Análise básica: tamanho e média por cluster\n",
    "resumo = df.groupby(\"cluster\").mean()\n",
    "tamanhos = df[\"cluster\"].value_counts().sort_index()\n",
    "\n",
    "print(\"\\n📊 Tamanho de cada cluster:\")\n",
    "print(tamanhos)\n",
    "\n",
    "print(\"\\n📈 Média das variáveis por cluster:\")\n",
    "print(resumo)"
   ]
  },
  {
   "cell_type": "code",
   "execution_count": null,
   "id": "f78797b7",
   "metadata": {},
   "outputs": [],
   "source": [
    "# === Exportar resultados\n",
    "df.to_parquet(\"03_resultado_com_clusters.parquet\", index=False)\n",
    "print(\"\\n✅ Arquivo exportado: 03_resultado_com_clusters.parquet\")"
   ]
  }
 ],
 "metadata": {
  "language_info": {
   "name": "python"
  }
 },
 "nbformat": 4,
 "nbformat_minor": 5
}
