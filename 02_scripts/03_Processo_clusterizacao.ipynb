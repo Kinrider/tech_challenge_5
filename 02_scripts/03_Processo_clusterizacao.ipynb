{
 "cells": [
  {
   "cell_type": "markdown",
   "id": "d43f89b3",
   "metadata": {},
   "source": [
    "# 03_Processo_clusterizacao (Kmeans)"
   ]
  },
  {
   "cell_type": "markdown",
   "id": "a31f05d0",
   "metadata": {},
   "source": [
    "## 01_import_bibliotecas"
   ]
  },
  {
   "cell_type": "code",
   "execution_count": 1,
   "id": "ff0a62d8",
   "metadata": {},
   "outputs": [],
   "source": [
    "import pandas as pd\n",
    "import numpy as np\n",
    "from sklearn.preprocessing import StandardScaler\n",
    "from sklearn.impute import SimpleImputer\n",
    "from sklearn.cluster import KMeans"
   ]
  },
  {
   "cell_type": "markdown",
   "id": "d9371193",
   "metadata": {},
   "source": [
    "## 02_Carga_de_dados"
   ]
  },
  {
   "cell_type": "code",
   "execution_count": 2,
   "id": "86c1a9f6",
   "metadata": {},
   "outputs": [],
   "source": [
    "# === Caminho do arquivo parquet\n",
    "input = \"https://github.com/Kinrider/tech_challenge_5/raw/refs/heads/main/01_fontes/arquivos_decision/fontes_tratadas/02_cluster_input.parquet\""
   ]
  },
  {
   "cell_type": "code",
   "execution_count": 3,
   "id": "1d37ed9b",
   "metadata": {},
   "outputs": [],
   "source": [
    "df_cluster_input = pd.read_parquet(input)"
   ]
  },
  {
   "cell_type": "markdown",
   "id": "2bfd3923",
   "metadata": {},
   "source": [
    "## 03_Clusterização"
   ]
  },
  {
   "cell_type": "code",
   "execution_count": 5,
   "id": "5354f443",
   "metadata": {},
   "outputs": [],
   "source": [
    "df = df_cluster_input"
   ]
  },
  {
   "cell_type": "code",
   "execution_count": 6,
   "id": "6c0ff49d",
   "metadata": {},
   "outputs": [],
   "source": [
    "# === Padronizar\n",
    "scaler = StandardScaler()\n",
    "X_scaled = scaler.fit_transform(df)"
   ]
  },
  {
   "cell_type": "code",
   "execution_count": 7,
   "id": "127da153",
   "metadata": {},
   "outputs": [],
   "source": [
    "# === Imputar valores ausentes com média\n",
    "imputer = SimpleImputer(strategy=\"mean\")\n",
    "X_imputed = imputer.fit_transform(X_scaled)"
   ]
  },
  {
   "cell_type": "code",
   "execution_count": 8,
   "id": "3e707696",
   "metadata": {},
   "outputs": [],
   "source": [
    "# === Aplicar KMeans com k=3\n",
    "k = 3\n",
    "kmeans = KMeans(n_clusters=k, random_state=42, n_init=10)\n",
    "df[\"cluster\"] = kmeans.fit_predict(X_imputed)"
   ]
  },
  {
   "cell_type": "code",
   "execution_count": 9,
   "id": "98ddefc0",
   "metadata": {},
   "outputs": [
    {
     "name": "stdout",
     "output_type": "stream",
     "text": [
      "\n",
      "📊 Tamanho de cada cluster:\n",
      "0    42479\n",
      "1        2\n",
      "2        1\n",
      "Name: cluster, dtype: int64\n",
      "\n",
      "📈 Média das variáveis por cluster:\n",
      "            area_  area_ comercial  area_ financeira/controladoria  \\\n",
      "cluster                                                              \n",
      "0        0.841145         0.003065                        0.003111   \n",
      "1        0.000000         0.000000                        0.000000   \n",
      "2        0.000000         0.000000                        0.000000   \n",
      "\n",
      "         area_ gestão e alocação de recursos de ti  area_ jurídica  \\\n",
      "cluster                                                              \n",
      "0                                         0.000922        0.000419   \n",
      "1                                         0.000000        0.000000   \n",
      "2                                         0.000000        0.000000   \n",
      "\n",
      "         area_ marketing  area_ novos negócios e parcerias  \\\n",
      "cluster                                                      \n",
      "0               0.000826                          0.001189   \n",
      "1               0.000000                          0.000000   \n",
      "2               0.000000                          0.000000   \n",
      "\n",
      "         area_ qualidade corporativa  area_ recursos humanos  \\\n",
      "cluster                                                        \n",
      "0                           0.000817                0.002606   \n",
      "1                           0.000000                0.000000   \n",
      "2                           0.000000                0.000000   \n",
      "\n",
      "         area_ relacionamento técnico  ...  nivel_ingles_  \\\n",
      "cluster                                ...                  \n",
      "0                            0.000822  ...       0.838956   \n",
      "1                            0.000000  ...       0.000000   \n",
      "2                            0.000000  ...       0.000000   \n",
      "\n",
      "         nivel_ingles_Avançado  nivel_ingles_Básico  nivel_ingles_Fluente  \\\n",
      "cluster                                                                     \n",
      "0                     0.032204             0.049366              0.012806   \n",
      "1                     0.000000             0.000000              0.000000   \n",
      "2                     0.000000             0.000000              0.000000   \n",
      "\n",
      "         nivel_ingles_Intermediário  nivel_ingles_Nenhum  \\\n",
      "cluster                                                    \n",
      "0                          0.052685             0.013983   \n",
      "1                          1.000000             0.000000   \n",
      "2                          1.000000             0.000000   \n",
      "\n",
      "         dias_desde_atualizacao   dias_ativo  tem_outras_certificacoes  \\\n",
      "cluster                                                                  \n",
      "0                   1780.805563  1833.185068                       1.0   \n",
      "1                   1763.500000  1763.500000                       1.0   \n",
      "2                   1487.000000  1471.000000                       1.0   \n",
      "\n",
      "         tem_outro_idioma  \n",
      "cluster                    \n",
      "0                     1.0  \n",
      "1                     1.0  \n",
      "2                     1.0  \n",
      "\n",
      "[3 rows x 410 columns]\n"
     ]
    }
   ],
   "source": [
    "# === Análise básica: tamanho e média por cluster\n",
    "resumo = df.groupby(\"cluster\").mean()\n",
    "tamanhos = df[\"cluster\"].value_counts().sort_index()\n",
    "\n",
    "print(\"\\n📊 Tamanho de cada cluster:\")\n",
    "print(tamanhos)\n",
    "\n",
    "print(\"\\n📈 Média das variáveis por cluster:\")\n",
    "print(resumo)"
   ]
  },
  {
   "cell_type": "code",
   "execution_count": null,
   "id": "f78797b7",
   "metadata": {},
   "outputs": [],
   "source": [
    "# === Exportar resultados\n",
    "df.to_parquet(\"03_resultado_com_clusters.parquet\", index=False)\n",
    "print(\"\\n✅ Arquivo exportado: 03_resultado_com_clusters.parquet\")"
   ]
  }
 ],
 "metadata": {
  "kernelspec": {
   "display_name": ".venv",
   "language": "python",
   "name": "python3"
  },
  "language_info": {
   "codemirror_mode": {
    "name": "ipython",
    "version": 3
   },
   "file_extension": ".py",
   "mimetype": "text/x-python",
   "name": "python",
   "nbconvert_exporter": "python",
   "pygments_lexer": "ipython3",
   "version": "3.10.11"
  }
 },
 "nbformat": 4,
 "nbformat_minor": 5
}
