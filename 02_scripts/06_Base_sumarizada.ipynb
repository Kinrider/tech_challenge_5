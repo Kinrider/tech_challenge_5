{
 "cells": [
  {
   "cell_type": "markdown",
   "id": "a028c4e0",
   "metadata": {},
   "source": [
    "# 06_Base_sumarizada"
   ]
  },
  {
   "cell_type": "markdown",
   "id": "80f58e74",
   "metadata": {},
   "source": [
    "## 01_import_bibliotecas"
   ]
  },
  {
   "cell_type": "code",
   "execution_count": null,
   "id": "35fe6d6a",
   "metadata": {},
   "outputs": [],
   "source": [
    "# === Geração da base consolidada para análise regional por estado + cluster ===\n",
    "\n",
    "import pandas as pd\n",
    "import numpy as np\n",
    "from datetime import datetime\n",
    "import joblib\n"
   ]
  },
  {
   "cell_type": "markdown",
   "id": "26ea2d22",
   "metadata": {},
   "source": [
    "## 02_Carga_de_dados"
   ]
  },
  {
   "cell_type": "code",
   "execution_count": null,
   "id": "9a4e3a6c",
   "metadata": {},
   "outputs": [],
   "source": [
    "\n",
    "# === 1. Carregar base original ===\n",
    "df_2 = pd.read_parquet(\"01_candidatos.parquet\")"
   ]
  },
  {
   "cell_type": "markdown",
   "id": "cf456134",
   "metadata": {},
   "source": [
    "## 03_Tratamento"
   ]
  },
  {
   "cell_type": "code",
   "execution_count": null,
   "id": "d14556c3",
   "metadata": {},
   "outputs": [],
   "source": [
    "# === 2. Calcular idade com base em data_nascimento ===\n",
    "hoje = pd.to_datetime(\"today\")\n",
    "df_2[\"data_nascimento\"] = pd.to_datetime(df_2[\"data_nascimento\"], errors=\"coerce\")\n",
    "df_2[\"idade\"] = df_2[\"data_nascimento\"].apply(lambda x: hoje.year - x.year if pd.notnull(x) else np.nan)\n"
   ]
  },
  {
   "cell_type": "code",
   "execution_count": null,
   "id": "ec67eb1a",
   "metadata": {},
   "outputs": [],
   "source": [
    "# === 3. Carregar modelo e colunas usadas ===\n",
    "modelo = joblib.load(\"03_modelos/modelo_kmeans.joblib\")\n",
    "colunas_modelo = joblib.load(\"03_modelos/colunas_usadas.joblib\")"
   ]
  },
  {
   "cell_type": "code",
   "execution_count": null,
   "id": "0f77f8de",
   "metadata": {},
   "outputs": [],
   "source": [
    "# === 4. Preparar features de entrada ===\n",
    "df_model = df_2.copy()\n",
    "\n",
    "# Preencher flags e sentinelas\n",
    "for col in colunas_modelo:\n",
    "    if col.startswith(\"tem_\"):\n",
    "        original = col.replace(\"tem_\", \"\")\n",
    "        df_model[col] = df_model[original].notnull().astype(int)\n",
    "        df_model[original] = df_model[original].fillna(-9999)\n",
    "\n",
    "# Garantir todas as colunas\n",
    "for col in colunas_modelo:\n",
    "    if col not in df_model.columns:\n",
    "        df_model[col] = 0"
   ]
  },
  {
   "cell_type": "code",
   "execution_count": null,
   "id": "368bbae1",
   "metadata": {},
   "outputs": [],
   "source": [
    "# === 5. Prever cluster para cada candidato ===\n",
    "X_input = df_model[colunas_modelo]\n",
    "df_2[\"cluster\"] = modelo.predict(X_input)"
   ]
  },
  {
   "cell_type": "code",
   "execution_count": null,
   "id": "5541096c",
   "metadata": {},
   "outputs": [],
   "source": [
    "# === 6. Agregar por estado + cluster ===\n",
    "df_sumarizado = df_2.groupby([\"estado\", \"cluster\"]).agg(\n",
    "    candidatos=(\"id_candidato\", \"count\"),\n",
    "    idade_media=(\"idade\", \"mean\"),\n",
    "    escolaridade_media=(\"nivel_educacional\", \"mean\"),\n",
    "    perc_com_sap=(\"experiencia_sap\", \"mean\"),\n",
    "    remuneracao_media=(\"remuneracao_mensal_brl\", lambda x: x.replace(-9999, np.nan).mean()),\n",
    "    experiencias_media=(\"quantidade_experiencias\", \"mean\")\n",
    ").reset_index()\n",
    "\n",
    "# Arredondamentos\n",
    "df_sumarizado[\"idade_media\"] = df_sumarizado[\"idade_media\"].round(1)\n",
    "df_sumarizado[\"escolaridade_media\"] = df_sumarizado[\"escolaridade_media\"].round(2)\n",
    "df_sumarizado[\"perc_com_sap\"] = (df_sumarizado[\"perc_com_sap\"] * 100).round(1)\n",
    "df_sumarizado[\"remuneracao_media\"] = df_sumarizado[\"remuneracao_media\"].round(2)\n",
    "df_sumarizado[\"experiencias_media\"] = df_sumarizado[\"experiencias_media\"].round(2)"
   ]
  },
  {
   "cell_type": "markdown",
   "id": "d6fe2df8",
   "metadata": {},
   "source": [
    "## 04_Salvando_base"
   ]
  },
  {
   "cell_type": "code",
   "execution_count": null,
   "id": "19c0ef51",
   "metadata": {},
   "outputs": [],
   "source": [
    "# === 7. Exportar para Parquet e Excel ===\n",
    "df_sumarizado.to_parquet(\"03_modelos/05_cluster_estado_resumo.parquet\", index=False)\n",
    "df_sumarizado.to_excel(\"03_modelos/05_cluster_estado_resumo.xlsx\", index=False)\n",
    "\n",
    "# Exibir preview\n",
    "df_sumarizado.head()"
   ]
  }
 ],
 "metadata": {
  "language_info": {
   "name": "python"
  }
 },
 "nbformat": 4,
 "nbformat_minor": 5
}
