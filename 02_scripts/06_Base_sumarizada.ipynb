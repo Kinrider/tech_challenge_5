{
 "cells": [
  {
   "cell_type": "markdown",
   "id": "a028c4e0",
   "metadata": {},
   "source": [
    "# 06_Base_sumarizada"
   ]
  },
  {
   "cell_type": "markdown",
   "id": "80f58e74",
   "metadata": {},
   "source": [
    "## 01_import_bibliotecas"
   ]
  },
  {
   "cell_type": "code",
   "execution_count": null,
   "id": "35fe6d6a",
   "metadata": {},
   "outputs": [],
   "source": [
    "# === Geração da base consolidada para análise regional por estado + cluster ===\n",
    "\n",
    "import pandas as pd\n",
    "import numpy as np\n",
    "from datetime import datetime\n",
    "import joblib\n",
    "from io import BytesIO\n",
    "import requests\n",
    "from sklearn.preprocessing import StandardScaler"
   ]
  },
  {
   "cell_type": "markdown",
   "id": "26ea2d22",
   "metadata": {},
   "source": [
    "## 02_Carga_de_dados"
   ]
  },
  {
   "cell_type": "code",
   "execution_count": null,
   "id": "598ba569",
   "metadata": {},
   "outputs": [],
   "source": [
    "candidatos_sum = 'https://github.com/Kinrider/tech_challenge_5/raw/refs/heads/main/01_fontes/arquivos_decision/fontes_tratadas/04_dados_candidatos.parquet'"
   ]
  },
  {
   "cell_type": "code",
   "execution_count": null,
   "id": "d40bef1f",
   "metadata": {},
   "outputs": [],
   "source": [
    "df_2 = pd.read_parquet(candidatos_sum)"
   ]
  },
  {
   "cell_type": "markdown",
   "id": "cf456134",
   "metadata": {},
   "source": [
    "## 03_Tratamento"
   ]
  },
  {
   "cell_type": "code",
   "execution_count": null,
   "id": "d14556c3",
   "metadata": {},
   "outputs": [],
   "source": [
    "# === 2. Calcular idade com base em data_nascimento ===\n",
    "hoje = pd.to_datetime(\"today\")\n",
    "df_2[\"data_nascimento\"] = pd.to_datetime(df_2[\"data_nascimento\"], errors=\"coerce\")\n",
    "df_2[\"idade\"] = df_2[\"data_nascimento\"].apply(lambda x: hoje.year - x.year if pd.notnull(x) else np.nan)\n"
   ]
  },
  {
   "cell_type": "code",
   "execution_count": null,
   "id": "902198dc",
   "metadata": {},
   "outputs": [],
   "source": [
    "# 2.2. Mapear nomes de estado para siglas\n",
    "mapa_estados = {\n",
    "    \"acre\": \"AC\", \"alagoas\": \"AL\", \"amapá\": \"AP\", \"amazonas\": \"AM\", \"bahia\": \"BA\",\n",
    "    \"ceará\": \"CE\", \"distrito federal\": \"DF\", \"espírito santo\": \"ES\", \"goiás\": \"GO\",\n",
    "    \"maranhão\": \"MA\", \"mato grosso\": \"MT\", \"mato grosso do sul\": \"MS\", \"minas gerais\": \"MG\",\n",
    "    \"pará\": \"PA\", \"paraíba\": \"PB\", \"paraná\": \"PR\", \"pernambuco\": \"PE\", \"piauí\": \"PI\",\n",
    "    \"rio de janeiro\": \"RJ\", \"rio grande do norte\": \"RN\", \"rio grande do sul\": \"RS\",\n",
    "    \"rondônia\": \"RO\", \"roraima\": \"RR\", \"santa catarina\": \"SC\", \"são paulo\": \"SP\",\n",
    "    \"sergipe\": \"SE\", \"tocantins\": \"TO\"\n",
    "}\n",
    "df_2[\"estado\"] = df_2[\"endereco\"].str.lower().map(mapa_estados)"
   ]
  },
  {
   "cell_type": "code",
   "execution_count": null,
   "id": "ec67eb1a",
   "metadata": {},
   "outputs": [],
   "source": [
    "# === 3. Carregar modelo e colunas usadas ===\n",
    "\n",
    "modelo = joblib.load(BytesIO(requests.get(\"https://github.com/Kinrider/tech_challenge_5/raw/refs/heads/main/03_modelos/modelo_kmeans.joblib\").content))\n",
    "\n",
    "colunas_modelo = joblib.load(BytesIO(requests.get(f\"https://github.com/Kinrider/tech_challenge_5/raw/refs/heads/main/03_modelos/colunas_usadas.joblib\").content))"
   ]
  },
  {
   "cell_type": "code",
   "execution_count": null,
   "id": "9743742f",
   "metadata": {},
   "outputs": [],
   "source": [
    "# Tratamento de nivel_educacional\n",
    "mapa_educacional = {\n",
    "    'ensino fundamental': 1,\n",
    "    'ensino médio': 2,\n",
    "    'ensino superior': 2,\n",
    "    'superior incompleto': 2,\n",
    "    'pós-graduação ou mais': 3,\n",
    "    'não identificado': 0,\n",
    "    None: 0\n",
    "}\n",
    "df_2['nivel_educacional'] = df_2['nivel_educacional'].map(mapa_educacional).fillna(0).astype(int)"
   ]
  },
  {
   "cell_type": "code",
   "execution_count": null,
   "id": "cf7dbcbd",
   "metadata": {},
   "outputs": [],
   "source": [
    "# Conversão de variável booleana experiencia_sap\n",
    "df_2['experiencia_sap'] = df_2['experiencia_sap'].astype(int)"
   ]
  },
  {
   "cell_type": "code",
   "execution_count": null,
   "id": "49470f0f",
   "metadata": {},
   "outputs": [],
   "source": [
    "# One-hot encoding para variáveis categóricas\n",
    "colunas_categoricas = ['categoria_profissional', 'subarea_profissional', 'nivel_hierarquico']\n",
    "df_2 = pd.get_dummies(df_2, columns=colunas_categoricas, drop_first=True)"
   ]
  },
  {
   "cell_type": "code",
   "execution_count": null,
   "id": "5cad3006",
   "metadata": {},
   "outputs": [],
   "source": [
    "# Escalonamento de variáveis contínuas\n",
    "variaveis_continuas = ['remuneracao_zscore', 'tempo_experiencia_anos', 'quantidade_experiencias']\n",
    "scaler = StandardScaler()\n",
    "df_2[variaveis_continuas] = scaler.fit_transform(df_2[variaveis_continuas])"
   ]
  },
  {
   "cell_type": "code",
   "execution_count": null,
   "id": "db6094eb",
   "metadata": {},
   "outputs": [],
   "source": [
    "# Tratar valores ausentes\n",
    "colunas_com_nan = df_2.columns[df_2.isnull().any()].tolist()\n",
    "for col in colunas_com_nan:\n",
    "    df_2[f\"tem_{col}\"] = df_2[col].notnull().astype(int)\n",
    "    df_2[col] = df_2[col].fillna(-9999)"
   ]
  },
  {
   "cell_type": "markdown",
   "id": "a63c85e6",
   "metadata": {},
   "source": [
    "### Entrada_do_modelo"
   ]
  },
  {
   "cell_type": "code",
   "execution_count": null,
   "id": "a1a42cc2",
   "metadata": {},
   "outputs": [],
   "source": [
    "df_2"
   ]
  },
  {
   "cell_type": "code",
   "execution_count": null,
   "id": "60a1addb",
   "metadata": {},
   "outputs": [],
   "source": [
    "# Remover colunas não utilizadas\n",
    "colunas_remover = [\n",
    "    'data_nascimento',\n",
    "    'id_candidato',\n",
    "    'remuneracao_mensal_brl',\n",
    "    'endereco',\n",
    "    'estado',\n",
    "]\n",
    "\n",
    "df_model = df_2.drop(columns=colunas_remover, errors='ignore')"
   ]
  },
  {
   "cell_type": "code",
   "execution_count": null,
   "id": "0f77f8de",
   "metadata": {},
   "outputs": [],
   "source": [
    "# === 4. Preparar features de entrada ===\n",
    "# df_model = df_2.copy()\n",
    "\n",
    "# Preencher flags e sentinelas\n",
    "for col in colunas_modelo:\n",
    "    if col.startswith(\"tem_\"):\n",
    "        original = col.replace(\"tem_\", \"\")\n",
    "        df_model[col] = df_model[original].notnull().astype(int)\n",
    "        df_model[original] = df_model[original].fillna(-9999)\n",
    "\n",
    "# Garantir todas as colunas\n",
    "for col in colunas_modelo:\n",
    "    if col not in df_model.columns:\n",
    "        df_model[col] = 0"
   ]
  },
  {
   "cell_type": "code",
   "execution_count": null,
   "id": "368bbae1",
   "metadata": {},
   "outputs": [],
   "source": [
    "# === 5. Prever cluster para cada candidato ===\n",
    "X_input = df_model[colunas_modelo]\n",
    "df_2[\"cluster\"] = modelo.predict(X_input)"
   ]
  },
  {
   "cell_type": "code",
   "execution_count": null,
   "id": "546fdceb",
   "metadata": {},
   "outputs": [],
   "source": [
    "# 2.10. Faixa etária\n",
    "bins = [0, 24, 34, 44, 54, 64, 120]\n",
    "labels = [\"até 24\", \"25 a 34\", \"35 a 44\", \"45 a 54\", \"55 a 64\", \"65+\"]\n",
    "df_2[\"faixa_etaria\"] = pd.cut(df_2[\"idade\"], bins=bins, labels=labels, right=True)"
   ]
  },
  {
   "cell_type": "code",
   "execution_count": null,
   "id": "7ce64644",
   "metadata": {},
   "outputs": [],
   "source": [
    "df_2.head()"
   ]
  },
  {
   "cell_type": "code",
   "execution_count": null,
   "id": "5541096c",
   "metadata": {},
   "outputs": [],
   "source": [
    "# === 6. Agregar por estado + cluster ===\n",
    "df_sumarizado = df_2.groupby([\"estado\", \"cluster\", \"faixa_etaria\"]).agg(\n",
    "    candidatos=(\"id_candidato\", \"count\"),\n",
    "    escolaridade_media=(\"nivel_educacional\", \"mean\"),\n",
    "    perc_com_sap=(\"experiencia_sap\", \"mean\"),\n",
    "    remuneracao_media=(\"remuneracao_mensal_brl\", lambda x: x.replace(-9999, np.nan).mean()),\n",
    "    experiencias_media=(\"quantidade_experiencias\", \"mean\")\n",
    ").reset_index()\n",
    "\n",
    "# Arredondamentos\n",
    "df_sumarizado[\"escolaridade_media\"] = df_sumarizado[\"escolaridade_media\"].round(2)\n",
    "df_sumarizado[\"perc_com_sap\"] = (df_sumarizado[\"perc_com_sap\"] * 100).round(1)\n",
    "df_sumarizado[\"remuneracao_media\"] = df_sumarizado[\"remuneracao_media\"].round(2)\n",
    "df_sumarizado[\"experiencias_media\"] = df_sumarizado[\"experiencias_media\"].round(2)"
   ]
  },
  {
   "cell_type": "markdown",
   "id": "d6fe2df8",
   "metadata": {},
   "source": [
    "## 04_Salvando_base"
   ]
  },
  {
   "cell_type": "code",
   "execution_count": null,
   "id": "37b603ce",
   "metadata": {},
   "outputs": [],
   "source": [
    "df_sumarizado.head(25)"
   ]
  },
  {
   "cell_type": "code",
   "execution_count": null,
   "id": "d9620135",
   "metadata": {},
   "outputs": [],
   "source": [
    "Caminho = \"C:\\\\Users\\\\pedro\\\\Documents\\\\Área de Trabalho\\\\tech_challenge_5\\\\01_fontes\\\\arquivos_decision\\\\fontes_tratadas\\\\\""
   ]
  },
  {
   "cell_type": "code",
   "execution_count": null,
   "id": "26d2ca1c",
   "metadata": {},
   "outputs": [],
   "source": [
    "df_sumarizado[\"estado\"] = df_sumarizado[\"estado\"].astype(str)"
   ]
  },
  {
   "cell_type": "code",
   "execution_count": null,
   "id": "19c0ef51",
   "metadata": {},
   "outputs": [],
   "source": [
    "# === 7. Exportar para Parquet e Excel ===\n",
    "df_sumarizado.to_parquet(Caminho + \"05_dados_sumarizados.parquet\", index=False)\n",
    "\n",
    "df_sumarizado.to_excel(Caminho + \"05_dados_sumarizados.xlsx\", index=False)"
   ]
  }
 ],
 "metadata": {
  "kernelspec": {
   "display_name": ".venv",
   "language": "python",
   "name": "python3"
  },
  "language_info": {
   "codemirror_mode": {
    "name": "ipython",
    "version": 3
   },
   "file_extension": ".py",
   "mimetype": "text/x-python",
   "name": "python",
   "nbconvert_exporter": "python",
   "pygments_lexer": "ipython3",
   "version": "3.10.11"
  }
 },
 "nbformat": 4,
 "nbformat_minor": 5
}
