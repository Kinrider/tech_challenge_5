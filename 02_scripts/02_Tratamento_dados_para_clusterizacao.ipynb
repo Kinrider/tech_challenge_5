{
 "cells": [
  {
   "cell_type": "markdown",
   "id": "6022125e",
   "metadata": {},
   "source": [
    "# 02_Tratamento_de_features"
   ]
  },
  {
   "cell_type": "markdown",
   "id": "0e14dfb2",
   "metadata": {},
   "source": [
    "## 01_import_bibliotecas"
   ]
  },
  {
   "cell_type": "code",
   "execution_count": 1,
   "id": "24d0e791",
   "metadata": {},
   "outputs": [],
   "source": [
    "import pandas as pd\n",
    "from sklearn.preprocessing import StandardScaler"
   ]
  },
  {
   "cell_type": "markdown",
   "id": "8979e880",
   "metadata": {},
   "source": [
    "## 02_Carga_de_dados"
   ]
  },
  {
   "cell_type": "code",
   "execution_count": 2,
   "id": "ea271d0b",
   "metadata": {},
   "outputs": [],
   "source": [
    "candidatos_tratados = 'https://github.com/Kinrider/tech_challenge_5/raw/refs/heads/main/01_fontes/arquivos_decision/fontes_tratadas/02_candidatos_tratados.parquet'"
   ]
  },
  {
   "cell_type": "code",
   "execution_count": 3,
   "id": "fbd8ed24",
   "metadata": {},
   "outputs": [],
   "source": [
    "df = pd.read_parquet(candidatos_tratados)"
   ]
  },
  {
   "cell_type": "markdown",
   "id": "33a0428c",
   "metadata": {},
   "source": [
    "## 03_Tratamento"
   ]
  },
  {
   "cell_type": "code",
   "execution_count": 4,
   "id": "b3b9c5a1",
   "metadata": {},
   "outputs": [],
   "source": [
    "# Remover colunas não utilizadas\n",
    "colunas_remover = [\n",
    "    'id_candidato', 'data_criacao', 'data_atualizacao',\n",
    "    'faixa_criacao', 'faixa_atualizacao', 'remuneracao',\n",
    "    'remuneracao_mensal_brl', 'faixa_remuneracao',\n",
    "    'objetivo_profissional', 'meses_desde_criacao',\n",
    "    'meses_desde_atualizacao', 'nivel_educacional_consolidado'\n",
    "]\n",
    "df = df.drop(columns=colunas_remover, errors='ignore')"
   ]
  },
  {
   "cell_type": "code",
   "execution_count": 5,
   "id": "176c4bbd",
   "metadata": {},
   "outputs": [],
   "source": [
    "# Tratamento de nivel_educacional\n",
    "mapa_educacional = {\n",
    "    'ensino fundamental': 1,\n",
    "    'ensino médio': 2,\n",
    "    'ensino superior': 3,\n",
    "    'superior incompleto': 3,\n",
    "    'pós-graduação ou mais': 4,\n",
    "    'não identificado': 0,\n",
    "    None: 0\n",
    "}\n",
    "df['nivel_educacional'] = df['nivel_educacional'].map(mapa_educacional).fillna(0).astype(int)"
   ]
  },
  {
   "cell_type": "code",
   "execution_count": 6,
   "id": "6cc9613d",
   "metadata": {},
   "outputs": [],
   "source": [
    "# Conversão de variável booleana experiencia_sap\n",
    "df['experiencia_sap'] = df['experiencia_sap'].astype(int)"
   ]
  },
  {
   "cell_type": "code",
   "execution_count": 7,
   "id": "bf5ffa5f",
   "metadata": {},
   "outputs": [],
   "source": [
    "# One-hot encoding para variáveis categóricas\n",
    "colunas_categoricas = ['categoria_profissional', 'subarea_profissional', 'nivel_hierarquico']\n",
    "df = pd.get_dummies(df, columns=colunas_categoricas, drop_first=True)"
   ]
  },
  {
   "cell_type": "code",
   "execution_count": 8,
   "id": "17c5e2cc",
   "metadata": {},
   "outputs": [],
   "source": [
    "# Escalonamento de variáveis contínuas\n",
    "variaveis_continuas = ['remuneracao_zscore', 'tempo_experiencia_anos', 'quantidade_experiencias']\n",
    "scaler = StandardScaler()\n",
    "df[variaveis_continuas] = scaler.fit_transform(df[variaveis_continuas])"
   ]
  },
  {
   "cell_type": "markdown",
   "id": "81a325b6",
   "metadata": {},
   "source": [
    "## 04_Salvando_base"
   ]
  },
  {
   "cell_type": "code",
   "execution_count": 9,
   "id": "fdc1749c",
   "metadata": {},
   "outputs": [],
   "source": [
    "Caminho = \"C:\\\\Users\\\\pedro\\\\Documents\\\\Área de Trabalho\\\\tech_challenge_5\\\\01_fontes\\\\arquivos_decision\\\\fontes_tratadas\\\\\""
   ]
  },
  {
   "cell_type": "code",
   "execution_count": 10,
   "id": "9cad63ba",
   "metadata": {},
   "outputs": [],
   "source": [
    "df.to_parquet(Caminho + \"03_input_clusterizacao.parquet\", index=False)"
   ]
  }
 ],
 "metadata": {
  "kernelspec": {
   "display_name": ".venv",
   "language": "python",
   "name": "python3"
  },
  "language_info": {
   "codemirror_mode": {
    "name": "ipython",
    "version": 3
   },
   "file_extension": ".py",
   "mimetype": "text/x-python",
   "name": "python",
   "nbconvert_exporter": "python",
   "pygments_lexer": "ipython3",
   "version": "3.10.11"
  }
 },
 "nbformat": 4,
 "nbformat_minor": 5
}
