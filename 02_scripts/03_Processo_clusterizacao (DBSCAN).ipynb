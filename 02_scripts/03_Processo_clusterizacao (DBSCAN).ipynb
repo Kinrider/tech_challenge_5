{
 "cells": [
  {
   "cell_type": "markdown",
   "id": "426cb3f7",
   "metadata": {},
   "source": [
    "# 03_Processo_clusterizacao (DBSCAN)"
   ]
  },
  {
   "cell_type": "markdown",
   "id": "f5cecf15",
   "metadata": {},
   "source": [
    "## 01_import_bibliotecas"
   ]
  },
  {
   "cell_type": "code",
   "execution_count": null,
   "id": "282a460c",
   "metadata": {},
   "outputs": [],
   "source": [
    "import pandas as pd\n",
    "import numpy as np\n",
    "from sklearn.preprocessing import StandardScaler\n",
    "from sklearn.impute import SimpleImputer\n",
    "from sklearn.decomposition import PCA\n",
    "from sklearn.cluster import DBSCAN"
   ]
  },
  {
   "cell_type": "markdown",
   "id": "cfa5f78f",
   "metadata": {},
   "source": [
    "## 02_Carga_de_dados"
   ]
  },
  {
   "cell_type": "code",
   "execution_count": null,
   "id": "9b5dc140",
   "metadata": {},
   "outputs": [],
   "source": [
    "# === Caminho do arquivo parquet\n",
    "input = \"https://github.com/Kinrider/tech_challenge_5/raw/refs/heads/main/01_fontes/arquivos_decision/fontes_tratadas/02_cluster_input.parquet\""
   ]
  },
  {
   "cell_type": "code",
   "execution_count": null,
   "id": "0694f2bd",
   "metadata": {},
   "outputs": [],
   "source": [
    "df_cluster_input = pd.read_parquet(input)"
   ]
  },
  {
   "cell_type": "markdown",
   "id": "1df334a0",
   "metadata": {},
   "source": [
    "## 03_Clusterização"
   ]
  },
  {
   "cell_type": "code",
   "execution_count": null,
   "id": "9174fc16",
   "metadata": {},
   "outputs": [],
   "source": [
    "df = df_cluster_input"
   ]
  },
  {
   "cell_type": "code",
   "execution_count": null,
   "id": "81fafc9a",
   "metadata": {},
   "outputs": [],
   "source": [
    "imputer = SimpleImputer(strategy=\"mean\")\n",
    "X_imputed = imputer.fit_transform(X_scaled)"
   ]
  },
  {
   "cell_type": "code",
   "execution_count": null,
   "id": "fe6a34f6",
   "metadata": {},
   "outputs": [],
   "source": [
    "# === 3. Redução de dimensionalidade com PCA\n",
    "X_pca = PCA(n_components=30, random_state=42).fit_transform(X_imputed)"
   ]
  },
  {
   "cell_type": "code",
   "execution_count": null,
   "id": "3c56329c",
   "metadata": {},
   "outputs": [],
   "source": [
    "# === 4. Clusterização com DBSCAN\n",
    "dbscan = DBSCAN(eps=3, min_samples=10)\n",
    "labels = dbscan.fit_predict(X_pca)"
   ]
  },
  {
   "cell_type": "code",
   "execution_count": null,
   "id": "9bb8d176",
   "metadata": {},
   "outputs": [],
   "source": [
    "# === 5. Anexar os rótulos ao DataFrame original\n",
    "df[\"cluster\"] = labels"
   ]
  },
  {
   "cell_type": "code",
   "execution_count": null,
   "id": "73e3c682",
   "metadata": {},
   "outputs": [],
   "source": [
    "# === 6. Análise básica\n",
    "print(\"\\n📊 Tamanho de cada cluster:\")\n",
    "print(df[\"cluster\"].value_counts().sort_index())\n",
    "\n",
    "print(\"\\n📈 Média das variáveis por cluster:\")\n",
    "print(df.groupby(\"cluster\").mean().round(3))"
   ]
  },
  {
   "cell_type": "code",
   "execution_count": null,
   "id": "f4e4cf0b",
   "metadata": {},
   "outputs": [],
   "source": [
    "# === 7. Exportar resultados\n",
    "df.to_parquet(\"04_resultado_com_clusters_dbscan.parquet\", index=False)\n",
    "print(\"\\n✅ Resultado exportado para: 04_resultado_com_clusters_dbscan.parquet\")"
   ]
  }
 ],
 "metadata": {
  "language_info": {
   "name": "python"
  }
 },
 "nbformat": 4,
 "nbformat_minor": 5
}
