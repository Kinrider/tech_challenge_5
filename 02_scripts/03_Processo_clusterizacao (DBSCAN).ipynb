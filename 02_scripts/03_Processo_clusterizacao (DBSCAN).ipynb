{
 "cells": [
  {
   "cell_type": "markdown",
   "id": "426cb3f7",
   "metadata": {},
   "source": [
    "# 03_Processo_clusterizacao (DBSCAN)"
   ]
  },
  {
   "cell_type": "markdown",
   "id": "f5cecf15",
   "metadata": {},
   "source": [
    "## 01_import_bibliotecas"
   ]
  },
  {
   "cell_type": "code",
   "execution_count": 1,
   "id": "282a460c",
   "metadata": {},
   "outputs": [],
   "source": [
    "import pandas as pd\n",
    "import numpy as np\n",
    "from sklearn.preprocessing import StandardScaler\n",
    "from sklearn.impute import SimpleImputer\n",
    "from sklearn.decomposition import PCA\n",
    "from sklearn.cluster import DBSCAN"
   ]
  },
  {
   "cell_type": "markdown",
   "id": "cfa5f78f",
   "metadata": {},
   "source": [
    "## 02_Carga_de_dados"
   ]
  },
  {
   "cell_type": "code",
   "execution_count": 2,
   "id": "9b5dc140",
   "metadata": {},
   "outputs": [],
   "source": [
    "# === Caminho do arquivo parquet\n",
    "input = \"https://github.com/Kinrider/tech_challenge_5/raw/refs/heads/main/01_fontes/arquivos_decision/fontes_tratadas/02_cluster_input.parquet\""
   ]
  },
  {
   "cell_type": "code",
   "execution_count": 3,
   "id": "0694f2bd",
   "metadata": {},
   "outputs": [],
   "source": [
    "df = pd.read_parquet(input)"
   ]
  },
  {
   "cell_type": "markdown",
   "id": "1df334a0",
   "metadata": {},
   "source": [
    "## 03_Clusterização"
   ]
  },
  {
   "cell_type": "code",
   "execution_count": 4,
   "id": "9174fc16",
   "metadata": {},
   "outputs": [],
   "source": [
    "df = df.apply(pd.to_numeric, errors=\"coerce\").dropna(axis=1, how=\"all\")"
   ]
  },
  {
   "cell_type": "code",
   "execution_count": 5,
   "id": "81fafc9a",
   "metadata": {},
   "outputs": [],
   "source": [
    "scaler = StandardScaler()\n",
    "X_scaled = scaler.fit_transform(df)"
   ]
  },
  {
   "cell_type": "code",
   "execution_count": 6,
   "id": "0bdc358d",
   "metadata": {},
   "outputs": [],
   "source": [
    "imputer = SimpleImputer(strategy=\"mean\")\n",
    "X_imputed = imputer.fit_transform(X_scaled)"
   ]
  },
  {
   "cell_type": "code",
   "execution_count": 7,
   "id": "fe6a34f6",
   "metadata": {},
   "outputs": [],
   "source": [
    "# === 3. Redução de dimensionalidade com PCA\n",
    "X_pca = PCA(n_components=30, random_state=42).fit_transform(X_imputed)"
   ]
  },
  {
   "cell_type": "code",
   "execution_count": 8,
   "id": "3c56329c",
   "metadata": {},
   "outputs": [],
   "source": [
    "# === 4. Clusterização com DBSCAN\n",
    "dbscan = DBSCAN(eps=3, min_samples=10)\n",
    "labels = dbscan.fit_predict(X_pca)"
   ]
  },
  {
   "cell_type": "code",
   "execution_count": 9,
   "id": "9bb8d176",
   "metadata": {},
   "outputs": [],
   "source": [
    "# === 5. Anexar os rótulos ao DataFrame original\n",
    "df[\"cluster\"] = labels"
   ]
  },
  {
   "cell_type": "code",
   "execution_count": 10,
   "id": "73e3c682",
   "metadata": {},
   "outputs": [
    {
     "name": "stdout",
     "output_type": "stream",
     "text": [
      "\n",
      "📊 Tamanho de cada cluster:\n",
      "-1      327\n",
      " 0    42131\n",
      " 1       10\n",
      " 2       14\n",
      "Name: cluster, dtype: int64\n",
      "\n",
      "📈 Média das variáveis por cluster:\n",
      "         area_  area_ comercial  area_ financeira/controladoria  \\\n",
      "cluster                                                           \n",
      "-1       0.006            0.008                           0.015   \n",
      " 0       0.848            0.003                           0.003   \n",
      " 1       0.000            0.000                           0.000   \n",
      " 2       0.000            0.000                           0.000   \n",
      "\n",
      "         area_ gestão e alocação de recursos de ti  area_ jurídica  \\\n",
      "cluster                                                              \n",
      "-1                                           0.015           0.007   \n",
      " 0                                           0.001           0.000   \n",
      " 1                                           0.000           0.000   \n",
      " 2                                           0.000           0.000   \n",
      "\n",
      "         area_ marketing  area_ novos negócios e parcerias  \\\n",
      "cluster                                                      \n",
      "-1                 0.004                             0.014   \n",
      " 0                 0.001                             0.001   \n",
      " 1                 0.000                             0.000   \n",
      " 2                 0.000                             0.000   \n",
      "\n",
      "         area_ qualidade corporativa  area_ recursos humanos  \\\n",
      "cluster                                                        \n",
      "-1                             0.010                   0.008   \n",
      " 0                             0.001                   0.003   \n",
      " 1                             0.000                   0.000   \n",
      " 2                             0.000                   0.000   \n",
      "\n",
      "         area_ relacionamento técnico  ...  nivel_ingles_  \\\n",
      "cluster                                ...                  \n",
      "-1                              0.014  ...          0.028   \n",
      " 0                              0.001  ...          0.846   \n",
      " 1                              0.000  ...          0.000   \n",
      " 2                              0.040  ...          0.000   \n",
      "\n",
      "         nivel_ingles_Avançado  nivel_ingles_Básico  nivel_ingles_Fluente  \\\n",
      "cluster                                                                     \n",
      "-1                       0.309                0.150                 0.092   \n",
      " 0                       0.030                0.049                 0.012   \n",
      " 1                       0.200                0.100                 0.200   \n",
      " 2                       0.571                0.000                 0.071   \n",
      "\n",
      "         nivel_ingles_Intermediário  nivel_ingles_Nenhum  \\\n",
      "cluster                                                    \n",
      "-1                            0.416                0.006   \n",
      " 0                            0.050                0.014   \n",
      " 1                            0.500                0.000   \n",
      " 2                            0.357                0.000   \n",
      "\n",
      "         dias_desde_atualizacao  dias_ativo  tem_outras_certificacoes  \\\n",
      "cluster                                                                 \n",
      "-1                     1679.731    1774.774                       1.0   \n",
      " 0                     1781.607    1833.630                       1.0   \n",
      " 1                     1837.400    1965.700                       1.0   \n",
      " 2                     1666.643    1729.143                       1.0   \n",
      "\n",
      "         tem_outro_idioma  \n",
      "cluster                    \n",
      "-1                    1.0  \n",
      " 0                    1.0  \n",
      " 1                    1.0  \n",
      " 2                    1.0  \n",
      "\n",
      "[4 rows x 410 columns]\n"
     ]
    }
   ],
   "source": [
    "# === 6. Análise básica\n",
    "print(\"\\n📊 Tamanho de cada cluster:\")\n",
    "print(df[\"cluster\"].value_counts().sort_index())\n",
    "\n",
    "print(\"\\n📈 Média das variáveis por cluster:\")\n",
    "print(df.groupby(\"cluster\").mean().round(3))"
   ]
  },
  {
   "cell_type": "code",
   "execution_count": null,
   "id": "f4e4cf0b",
   "metadata": {},
   "outputs": [],
   "source": [
    "# === 7. Exportar resultados\n",
    "df.to_parquet(\"04_resultado_com_clusters_dbscan.parquet\", index=False)\n",
    "print(\"\\n✅ Resultado exportado para: 04_resultado_com_clusters_dbscan.parquet\")"
   ]
  }
 ],
 "metadata": {
  "kernelspec": {
   "display_name": ".venv",
   "language": "python",
   "name": "python3"
  },
  "language_info": {
   "codemirror_mode": {
    "name": "ipython",
    "version": 3
   },
   "file_extension": ".py",
   "mimetype": "text/x-python",
   "name": "python",
   "nbconvert_exporter": "python",
   "pygments_lexer": "ipython3",
   "version": "3.10.11"
  }
 },
 "nbformat": 4,
 "nbformat_minor": 5
}
