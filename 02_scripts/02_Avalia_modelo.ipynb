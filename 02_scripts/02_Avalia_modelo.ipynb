{
 "cells": [
  {
   "cell_type": "markdown",
   "id": "3dad11a0",
   "metadata": {},
   "source": [
    "# 02_Avalia_modelo"
   ]
  },
  {
   "cell_type": "markdown",
   "id": "3b6db920",
   "metadata": {},
   "source": [
    "## 01_import_bibliotecas"
   ]
  },
  {
   "cell_type": "code",
   "execution_count": null,
   "id": "33ff4770",
   "metadata": {},
   "outputs": [],
   "source": [
    "import pandas as pd  \n",
    "import matplotlib.pyplot as plt  \n",
    "from sklearn.cluster import KMeans  \n",
    "from sklearn.metrics import silhouette_score  \n",
    "from IPython.display import display  "
   ]
  },
  {
   "cell_type": "markdown",
   "id": "9f9d77df",
   "metadata": {},
   "source": [
    "## 02_Carga_de_dados"
   ]
  },
  {
   "cell_type": "code",
   "execution_count": null,
   "id": "a515d041",
   "metadata": {},
   "outputs": [],
   "source": [
    "applicants = 'https://github.com/Kinrider/tech_challenge_5/raw/refs/heads/main/01_fontes/arquivos_decision/fontes_tratadas/01_candidatos.parquet'"
   ]
  },
  {
   "cell_type": "code",
   "execution_count": null,
   "id": "0941baf1",
   "metadata": {},
   "outputs": [],
   "source": [
    "df = pd.read_parquet(applicants)"
   ]
  },
  {
   "cell_type": "markdown",
   "id": "0c95d603",
   "metadata": {},
   "source": [
    "## 03_Análise do Cotovelo (Inércia)"
   ]
  },
  {
   "cell_type": "code",
   "execution_count": null,
   "id": "dec43661",
   "metadata": {},
   "outputs": [],
   "source": [
    "df_teste = df.copy()"
   ]
  },
  {
   "cell_type": "code",
   "execution_count": null,
   "id": "82723abf",
   "metadata": {},
   "outputs": [],
   "source": [
    "inercia = []\n",
    "ks = range(2, 11)\n",
    "for k in ks:\n",
    "    kmeans = KMeans(n_clusters=k, random_state=42, n_init=10)\n",
    "    kmeans.fit(df_teste)\n",
    "    inercia.append(kmeans.inertia_)\n",
    "\n",
    "plt.figure(figsize=(8, 5))\n",
    "plt.plot(ks, inercia, marker='o')\n",
    "plt.title('Método do Cotovelo')\n",
    "plt.xlabel('Número de clusters (k)')\n",
    "plt.ylabel('Inércia')\n",
    "plt.grid(True)\n",
    "plt.show()"
   ]
  },
  {
   "cell_type": "markdown",
   "id": "4f2f197f",
   "metadata": {},
   "source": [
    "## 04_Avaliação com Silhouette Score"
   ]
  },
  {
   "cell_type": "code",
   "execution_count": null,
   "id": "d836101d",
   "metadata": {},
   "outputs": [],
   "source": [
    "silhouettes = []\n",
    "for k in ks:\n",
    "    kmeans = KMeans(n_clusters=k, random_state=42, n_init=10)\n",
    "    labels = kmeans.fit_predict(df_teste)\n",
    "    score = silhouette_score(df_teste, labels)\n",
    "    silhouettes.append(score)\n",
    "\n",
    "plt.figure(figsize=(8, 5))\n",
    "plt.plot(ks, silhouettes, marker='o', color='orange')\n",
    "plt.title('Silhouette Score por k')\n",
    "plt.xlabel('Número de clusters (k)')\n",
    "plt.ylabel('Silhouette Score')\n",
    "plt.grid(True)\n",
    "plt.show()"
   ]
  },
  {
   "cell_type": "code",
   "execution_count": null,
   "id": "3afb5f05",
   "metadata": {},
   "outputs": [],
   "source": [
    "df_teste.head()"
   ]
  },
  {
   "cell_type": "markdown",
   "id": "ab799da9",
   "metadata": {},
   "source": [
    "## 05_Execução do KMeans com k=4"
   ]
  },
  {
   "cell_type": "code",
   "execution_count": null,
   "id": "7bfba0de",
   "metadata": {},
   "outputs": [],
   "source": [
    "kmeans = KMeans(n_clusters=4, random_state=42, n_init=10)\n",
    "df_teste['cluster'] = kmeans.fit_predict(df_teste)"
   ]
  },
  {
   "cell_type": "markdown",
   "id": "41e5d086",
   "metadata": {},
   "source": [
    "## 06_Análise Descritiva dos Clusters"
   ]
  },
  {
   "cell_type": "code",
   "execution_count": null,
   "id": "17401ee4",
   "metadata": {},
   "outputs": [],
   "source": [
    "# Médias por cluster\n",
    "medias = df_teste.groupby('cluster').mean(numeric_only=True)\n",
    "\n",
    "# Proporções de flags\n",
    "flags = [col for col in df_teste.columns if col.startswith('tem_')]\n",
    "proporcoes = df_teste[flags + ['cluster']].groupby('cluster').mean()\n",
    "\n",
    "# Tamanho de cada cluster\n",
    "tamanho = df_teste['cluster'].value_counts().sort_index()\n",
    "\n",
    "display(medias)\n",
    "display(proporcoes)\n",
    "display(tamanho)"
   ]
  }
 ],
 "metadata": {
  "language_info": {
   "name": "python"
  }
 },
 "nbformat": 4,
 "nbformat_minor": 5
}
